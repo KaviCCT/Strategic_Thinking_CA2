{
 "cells": [
  {
   "cell_type": "markdown",
   "id": "cccec746",
   "metadata": {},
   "source": [
    "# Part3: Football Transfer Market Data ML Modelling"
   ]
  },
  {
   "cell_type": "markdown",
   "id": "626d3b8f",
   "metadata": {},
   "source": [
    "### This notebook focuses on implementing Machine Learning Algorithms for evaluating football player transfer market vlaues. Various train:test splits, evaluation, validation and hyperparameter tuning techniques are leveraged in optimising each model"
   ]
  },
  {
   "cell_type": "markdown",
   "id": "f0f74396",
   "metadata": {},
   "source": [
    "#### <span style=\"color:Teal\"> Importing Dependencies</span>"
   ]
  },
  {
   "cell_type": "code",
   "execution_count": 335,
   "id": "f78c4d1c",
   "metadata": {},
   "outputs": [],
   "source": [
    "# Visualization Libraries\n",
    "import matplotlib\n",
    "%matplotlib inline \n",
    "import matplotlib.pyplot as plt\n",
    "import seaborn as sns\n",
    "import mglearn\n",
    "\n",
    "#Preprocessing Libraries\n",
    "import pandas as pd\n",
    "import numpy as np\n",
    "from sklearn.model_selection import train_test_split, cross_val_score, cross_validate\n",
    "from sklearn.metrics import mean_absolute_error, mean_squared_error, r2_score, confusion_matrix, classification_report\n",
    "\n",
    "# ML Libraries\n",
    "from sklearn.linear_model import LinearRegression\n",
    "from sklearn.linear_model import Ridge\n",
    "from sklearn.linear_model import Lasso\n",
    "from sklearn.ensemble import RandomForestRegressor\n",
    "from sklearn.ensemble import GradientBoostingRegressor\n",
    "from sklearn.model_selection import RepeatedKFold\n",
    "from sklearn.model_selection import RandomizedSearchCV\n",
    "\n",
    "\n",
    "# Evaluation Metrics\n",
    "#from yellowbrick.classifier import ClassificationReport\n",
    "from sklearn import metrics\n",
    "\n",
    "import warnings\n",
    "warnings.filterwarnings('ignore') # We can suppress the warnings\n",
    "\n",
    "pd.set_option('display.max_row', None)\n",
    "pd.set_option('display.max_columns', None)"
   ]
  },
  {
   "cell_type": "markdown",
   "id": "76d63eb5",
   "metadata": {},
   "source": [
    "### First Model: Linear Regression on only Numerical Features ( No Scaling or Feature Selection)"
   ]
  },
  {
   "cell_type": "markdown",
   "id": "9d2a3663",
   "metadata": {},
   "source": [
    "#### <span style=\"color:Teal\">Loading Data</span>"
   ]
  },
  {
   "cell_type": "code",
   "execution_count": 218,
   "id": "afd1d404",
   "metadata": {},
   "outputs": [],
   "source": [
    "# NO SCALING\n",
    "\n",
    "# One-hot label encoded but no scaling or feature selection\n",
    "df8_dummies_all = pd.read_csv('df8_dummies_all.csv')\n",
    "\n",
    "# Only numerical features, no scaling or feature selection\n",
    "numerical_features_df = pd.read_csv('numerical_features_df.csv')\n",
    "\n",
    "\n",
    "# # MINMAX SCALER\n",
    "\n",
    "# # Only Numerical Features and MINMAX Scaling\n",
    "# numerical_features_df_4_midmax_scaled = pd.read_csv('numerical_features_df_4_midmax_scaled.csv')\n",
    "\n",
    "# # One-hot label encoded on select Categorical features(last_season, foot, position, sub_position, age_group) \n",
    "# # and MinMax Scaling NO Feature Selection\n",
    "df8_dummies_essential_mm_scaled = pd.read_csv('df8_dummies_essential_mm_scaled.csv')\n",
    "\n",
    "# # One-hot label encoded on ALL Categorical features and MinMAx Scaling, NO Feature Selection\n",
    "df8_dummies_all_mm_scaled = pd.read_csv('df8_dummies_all_mm_scaled.csv')\n",
    "\n",
    "# # One-hot label encoded on ALL Categorical features with Feature Selection and MinMax Scaling\n",
    "# df8_dummies_all_fs_mm_scaled = pd.read_csv('df8_dummies_all_fs_mm_scaled.csv')\n",
    "\n",
    "\n",
    "# # ROBUST SCALER\n",
    "\n",
    "# # Only Numerical Features and Robust Scaling\n",
    "# numerical_features_df_rb_scaled = pd.read_csv('numerical_features_df_rb_scaled.csv')\n",
    "\n",
    "# # One-hot label encoded on select Categorical features(last_season, foot, position, sub_position, age_group) \n",
    "# # and Robust Scaling NO Feature Selection\n",
    "# df8_dummies_essential_rb_scaled = pd.read_csv('df8_dummies_essential_rb_scaled.csv')\n",
    "\n",
    "# # One-hot label encoded on ALL Categorical features and Robust Scaling, NO Feature Selection\n",
    "df8_dummies_all_rb_scaled = pd.read_csv('df8_dummies_all_rb_scaled.csv')\n",
    "\n",
    "# # One-hot label encoded on ALL Categorical features with Feature Selection and Robust Scaling\n",
    "df8_dummies_all_fs_rb_scaled = pd.read_csv('df8_dummies_all_fs_rb_scaled.csv')"
   ]
  },
  {
   "cell_type": "markdown",
   "id": "22f9915c",
   "metadata": {},
   "source": [
    "#### <span style=\"color:Teal\">Confirming Load</span>"
   ]
  },
  {
   "cell_type": "code",
   "execution_count": 110,
   "id": "ee9e22b4",
   "metadata": {
    "scrolled": false
   },
   "outputs": [
    {
     "name": "stdout",
     "output_type": "stream",
     "text": [
      "<class 'pandas.core.frame.DataFrame'>\n",
      "RangeIndex: 10168 entries, 0 to 10167\n",
      "Data columns (total 59 columns):\n",
      " #   Column                   Non-Null Count  Dtype  \n",
      "---  ------                   --------------  -----  \n",
      " 0   current_club_id          10168 non-null  int64  \n",
      " 1   height_in_cm             10168 non-null  float64\n",
      " 2   market_value_in_eur      10168 non-null  float64\n",
      " 3   age                      10168 non-null  int64  \n",
      " 4   remaining_contract_days  10168 non-null  int64  \n",
      " 5   games_total              10168 non-null  int64  \n",
      " 6   goals_total              10168 non-null  int64  \n",
      " 7   assists_total            10168 non-null  int64  \n",
      " 8   minutes_played_total     10168 non-null  int64  \n",
      " 9   goals_for_total          10168 non-null  int64  \n",
      " 10  goals_against_total      10168 non-null  int64  \n",
      " 11  clean_sheet_total        10168 non-null  int64  \n",
      " 12  yellow_cards_total       10168 non-null  int64  \n",
      " 13  red_cards_total          10168 non-null  int64  \n",
      " 14  games_2019               10168 non-null  int64  \n",
      " 15  goals_2019               10168 non-null  int64  \n",
      " 16  assists_2019             10168 non-null  int64  \n",
      " 17  minutes_played_2019      10168 non-null  int64  \n",
      " 18  goals_for_2019           10168 non-null  int64  \n",
      " 19  goals_against_2019       10168 non-null  int64  \n",
      " 20  clean_sheet_2019         10168 non-null  int64  \n",
      " 21  yellow_cards_2019        10168 non-null  int64  \n",
      " 22  red_cards_2019           10168 non-null  int64  \n",
      " 23  games_2020               10168 non-null  int64  \n",
      " 24  goals_2020               10168 non-null  int64  \n",
      " 25  assists_2020             10168 non-null  int64  \n",
      " 26  minutes_played_2020      10168 non-null  int64  \n",
      " 27  goals_for_2020           10168 non-null  int64  \n",
      " 28  goals_against_2020       10168 non-null  int64  \n",
      " 29  clean_sheet_2020         10168 non-null  int64  \n",
      " 30  yellow_cards_2020        10168 non-null  int64  \n",
      " 31  red_cards_2020           10168 non-null  int64  \n",
      " 32  games_2021               10168 non-null  int64  \n",
      " 33  goals_2021               10168 non-null  int64  \n",
      " 34  assists_2021             10168 non-null  int64  \n",
      " 35  minutes_played_2021      10168 non-null  int64  \n",
      " 36  goals_for_2021           10168 non-null  int64  \n",
      " 37  goals_against_2021       10168 non-null  int64  \n",
      " 38  clean_sheet_2021         10168 non-null  int64  \n",
      " 39  yellow_cards_2021        10168 non-null  int64  \n",
      " 40  red_cards_2021           10168 non-null  int64  \n",
      " 41  games_2022               10168 non-null  int64  \n",
      " 42  goals_2022               10168 non-null  int64  \n",
      " 43  assists_2022             10168 non-null  int64  \n",
      " 44  minutes_played_2022      10168 non-null  int64  \n",
      " 45  goals_for_2022           10168 non-null  int64  \n",
      " 46  goals_against_2022       10168 non-null  int64  \n",
      " 47  clean_sheet_2022         10168 non-null  int64  \n",
      " 48  yellow_cards_2022        10168 non-null  int64  \n",
      " 49  red_cards_2022           10168 non-null  int64  \n",
      " 50  games_2023               10168 non-null  int64  \n",
      " 51  goals_2023               10168 non-null  int64  \n",
      " 52  assists_2023             10168 non-null  int64  \n",
      " 53  minutes_played_2023      10168 non-null  int64  \n",
      " 54  goals_for_2023           10168 non-null  int64  \n",
      " 55  goals_against_2023       10168 non-null  int64  \n",
      " 56  clean_sheet_2023         10168 non-null  int64  \n",
      " 57  yellow_cards_2023        10168 non-null  int64  \n",
      " 58  red_cards_2023           10168 non-null  int64  \n",
      "dtypes: float64(2), int64(57)\n",
      "memory usage: 4.6 MB\n"
     ]
    }
   ],
   "source": [
    "numerical_features_df.info()"
   ]
  },
  {
   "cell_type": "code",
   "execution_count": 111,
   "id": "07309062",
   "metadata": {
    "scrolled": true
   },
   "outputs": [
    {
     "data": {
      "text/plain": [
       "(10168, 59)"
      ]
     },
     "execution_count": 111,
     "metadata": {},
     "output_type": "execute_result"
    }
   ],
   "source": [
    "numerical_features_df.shape"
   ]
  },
  {
   "cell_type": "markdown",
   "id": "e7a482c2",
   "metadata": {},
   "source": [
    "#### <span style=\"color:Teal\">Isolating target Variable</span>"
   ]
  },
  {
   "cell_type": "code",
   "execution_count": 112,
   "id": "2423820a",
   "metadata": {},
   "outputs": [],
   "source": [
    "y = numerical_features_df['market_value_in_eur']"
   ]
  },
  {
   "cell_type": "code",
   "execution_count": 113,
   "id": "46f64a72",
   "metadata": {},
   "outputs": [
    {
     "data": {
      "text/plain": [
       "(10168,)"
      ]
     },
     "execution_count": 113,
     "metadata": {},
     "output_type": "execute_result"
    }
   ],
   "source": [
    "y.shape"
   ]
  },
  {
   "cell_type": "code",
   "execution_count": 114,
   "id": "2c8af589",
   "metadata": {},
   "outputs": [
    {
     "data": {
      "text/plain": [
       "0    25000000.0\n",
       "1      200000.0\n",
       "2     2500000.0\n",
       "3      200000.0\n",
       "4      200000.0\n",
       "Name: market_value_in_eur, dtype: float64"
      ]
     },
     "execution_count": 114,
     "metadata": {},
     "output_type": "execute_result"
    }
   ],
   "source": [
    "y.head()"
   ]
  },
  {
   "cell_type": "code",
   "execution_count": 115,
   "id": "8b5bff0e",
   "metadata": {},
   "outputs": [],
   "source": [
    "X = numerical_features_df.drop(['market_value_in_eur'], axis = 1)"
   ]
  },
  {
   "cell_type": "code",
   "execution_count": 116,
   "id": "6f02e25b",
   "metadata": {},
   "outputs": [
    {
     "data": {
      "text/plain": [
       "(10168, 58)"
      ]
     },
     "execution_count": 116,
     "metadata": {},
     "output_type": "execute_result"
    }
   ],
   "source": [
    "X.shape"
   ]
  },
  {
   "cell_type": "markdown",
   "id": "6206e758",
   "metadata": {},
   "source": [
    "### <span style=\"color:Teal\">First Split: 90% Training and 10% for Testing</span>"
   ]
  },
  {
   "cell_type": "code",
   "execution_count": 117,
   "id": "0e964d7c",
   "metadata": {},
   "outputs": [],
   "source": [
    "# Split dataset into training set and test set\n",
    "X_train, X_test, y_train, y_test = train_test_split(X, y, test_size = 0.1,  random_state = 42) # 90% training and 10% test"
   ]
  },
  {
   "cell_type": "code",
   "execution_count": 118,
   "id": "73588259",
   "metadata": {},
   "outputs": [
    {
     "data": {
      "text/plain": [
       "((10168, 58), (10168,), (9151, 58), (1017, 58), (9151,), (1017,))"
      ]
     },
     "execution_count": 118,
     "metadata": {},
     "output_type": "execute_result"
    }
   ],
   "source": [
    "# Show the rows and columns\n",
    "X.shape, y.shape, X_train.shape, X_test.shape, y_train.shape, y_test.shape"
   ]
  },
  {
   "cell_type": "code",
   "execution_count": 119,
   "id": "cad5220f",
   "metadata": {},
   "outputs": [],
   "source": [
    "#Instantiating a class of Linear Regression \n",
    "lr = LinearRegression()"
   ]
  },
  {
   "cell_type": "code",
   "execution_count": 120,
   "id": "371cf5ad",
   "metadata": {},
   "outputs": [
    {
     "data": {
      "text/html": [
       "<style>#sk-container-id-7 {color: black;}#sk-container-id-7 pre{padding: 0;}#sk-container-id-7 div.sk-toggleable {background-color: white;}#sk-container-id-7 label.sk-toggleable__label {cursor: pointer;display: block;width: 100%;margin-bottom: 0;padding: 0.3em;box-sizing: border-box;text-align: center;}#sk-container-id-7 label.sk-toggleable__label-arrow:before {content: \"▸\";float: left;margin-right: 0.25em;color: #696969;}#sk-container-id-7 label.sk-toggleable__label-arrow:hover:before {color: black;}#sk-container-id-7 div.sk-estimator:hover label.sk-toggleable__label-arrow:before {color: black;}#sk-container-id-7 div.sk-toggleable__content {max-height: 0;max-width: 0;overflow: hidden;text-align: left;background-color: #f0f8ff;}#sk-container-id-7 div.sk-toggleable__content pre {margin: 0.2em;color: black;border-radius: 0.25em;background-color: #f0f8ff;}#sk-container-id-7 input.sk-toggleable__control:checked~div.sk-toggleable__content {max-height: 200px;max-width: 100%;overflow: auto;}#sk-container-id-7 input.sk-toggleable__control:checked~label.sk-toggleable__label-arrow:before {content: \"▾\";}#sk-container-id-7 div.sk-estimator input.sk-toggleable__control:checked~label.sk-toggleable__label {background-color: #d4ebff;}#sk-container-id-7 div.sk-label input.sk-toggleable__control:checked~label.sk-toggleable__label {background-color: #d4ebff;}#sk-container-id-7 input.sk-hidden--visually {border: 0;clip: rect(1px 1px 1px 1px);clip: rect(1px, 1px, 1px, 1px);height: 1px;margin: -1px;overflow: hidden;padding: 0;position: absolute;width: 1px;}#sk-container-id-7 div.sk-estimator {font-family: monospace;background-color: #f0f8ff;border: 1px dotted black;border-radius: 0.25em;box-sizing: border-box;margin-bottom: 0.5em;}#sk-container-id-7 div.sk-estimator:hover {background-color: #d4ebff;}#sk-container-id-7 div.sk-parallel-item::after {content: \"\";width: 100%;border-bottom: 1px solid gray;flex-grow: 1;}#sk-container-id-7 div.sk-label:hover label.sk-toggleable__label {background-color: #d4ebff;}#sk-container-id-7 div.sk-serial::before {content: \"\";position: absolute;border-left: 1px solid gray;box-sizing: border-box;top: 0;bottom: 0;left: 50%;z-index: 0;}#sk-container-id-7 div.sk-serial {display: flex;flex-direction: column;align-items: center;background-color: white;padding-right: 0.2em;padding-left: 0.2em;position: relative;}#sk-container-id-7 div.sk-item {position: relative;z-index: 1;}#sk-container-id-7 div.sk-parallel {display: flex;align-items: stretch;justify-content: center;background-color: white;position: relative;}#sk-container-id-7 div.sk-item::before, #sk-container-id-7 div.sk-parallel-item::before {content: \"\";position: absolute;border-left: 1px solid gray;box-sizing: border-box;top: 0;bottom: 0;left: 50%;z-index: -1;}#sk-container-id-7 div.sk-parallel-item {display: flex;flex-direction: column;z-index: 1;position: relative;background-color: white;}#sk-container-id-7 div.sk-parallel-item:first-child::after {align-self: flex-end;width: 50%;}#sk-container-id-7 div.sk-parallel-item:last-child::after {align-self: flex-start;width: 50%;}#sk-container-id-7 div.sk-parallel-item:only-child::after {width: 0;}#sk-container-id-7 div.sk-dashed-wrapped {border: 1px dashed gray;margin: 0 0.4em 0.5em 0.4em;box-sizing: border-box;padding-bottom: 0.4em;background-color: white;}#sk-container-id-7 div.sk-label label {font-family: monospace;font-weight: bold;display: inline-block;line-height: 1.2em;}#sk-container-id-7 div.sk-label-container {text-align: center;}#sk-container-id-7 div.sk-container {/* jupyter's `normalize.less` sets `[hidden] { display: none; }` but bootstrap.min.css set `[hidden] { display: none !important; }` so we also need the `!important` here to be able to override the default hidden behavior on the sphinx rendered scikit-learn.org. See: https://github.com/scikit-learn/scikit-learn/issues/21755 */display: inline-block !important;position: relative;}#sk-container-id-7 div.sk-text-repr-fallback {display: none;}</style><div id=\"sk-container-id-7\" class=\"sk-top-container\"><div class=\"sk-text-repr-fallback\"><pre>LinearRegression()</pre><b>In a Jupyter environment, please rerun this cell to show the HTML representation or trust the notebook. <br />On GitHub, the HTML representation is unable to render, please try loading this page with nbviewer.org.</b></div><div class=\"sk-container\" hidden><div class=\"sk-item\"><div class=\"sk-estimator sk-toggleable\"><input class=\"sk-toggleable__control sk-hidden--visually\" id=\"sk-estimator-id-7\" type=\"checkbox\" checked><label for=\"sk-estimator-id-7\" class=\"sk-toggleable__label sk-toggleable__label-arrow\">LinearRegression</label><div class=\"sk-toggleable__content\"><pre>LinearRegression()</pre></div></div></div></div></div>"
      ],
      "text/plain": [
       "LinearRegression()"
      ]
     },
     "execution_count": 120,
     "metadata": {},
     "output_type": "execute_result"
    }
   ],
   "source": [
    "# Training the model\n",
    "lr.fit(X_train, y_train)"
   ]
  },
  {
   "cell_type": "code",
   "execution_count": 121,
   "id": "5c5b0210",
   "metadata": {},
   "outputs": [],
   "source": [
    "# Method to calculate the cross-validation scores and additional metrics\n",
    "def get_cv_scores(model):\n",
    "    # Cross-validation scores\n",
    "    scores = cross_val_score(model, X_train, y_train, cv=10, scoring='r2')\n",
    "    \n",
    "    # Additional metrics\n",
    "    y_pred = model.predict(X_train)\n",
    "    mae = mean_absolute_error(y_train, y_pred)\n",
    "    mse = mean_squared_error(y_train, y_pred)\n",
    "    rmse = np.sqrt(mse)\n",
    "    r2 = r2_score(y_train, y_pred)\n",
    "    \n",
    "    # Display cross-validation scores\n",
    "    print('CV Mean R²: ', np.mean(scores))\n",
    "    print('CV STD: ', np.std(scores))\n",
    "    \n",
    "    # Display additional metrics\n",
    "    print('Mean Absolute Error (MAE): ', mae)\n",
    "    print('Mean Squared Error (MSE): ', mse)\n",
    "    print('Root Mean Squared Error (RMSE): ', rmse)\n",
    "    print('R-squared (R²): ', r2)\n",
    "    print('\\n')"
   ]
  },
  {
   "cell_type": "code",
   "execution_count": 122,
   "id": "13d90558",
   "metadata": {},
   "outputs": [
    {
     "name": "stdout",
     "output_type": "stream",
     "text": [
      "CV Mean R²:  0.47073213209280906\n",
      "CV STD:  0.053393224849868914\n",
      "Mean Absolute Error (MAE):  3809591.7146170284\n",
      "Mean Squared Error (MSE):  50217410489758.555\n",
      "Root Mean Squared Error (RMSE):  7086424.379738949\n",
      "R-squared (R²):  0.49677885162408064\n",
      "\n",
      "\n"
     ]
    }
   ],
   "source": [
    "# Calculate the mean values and Standard deviation\n",
    "get_cv_scores(lr)"
   ]
  },
  {
   "cell_type": "markdown",
   "id": "10ad2aa6",
   "metadata": {},
   "source": [
    "The CV Mean R²  above is not the worst for the first model and current dataset of only Numerical Variables. The MAE, MSE and RMSE are very high which indicates a considerable difference between taining and testing values."
   ]
  },
  {
   "cell_type": "markdown",
   "id": "c7631227",
   "metadata": {},
   "source": [
    "CV Mean R²: The mean of the cross-validation scores (`r2` in this case). It represents the average performance of the model across different folds (10) in the cross-validation process. Higher values indicate better performance. `r2` (coefficient of determination) ranges from 0 to 1, where 1 indicates perfect predictions.\n",
    "\n",
    "CV STD: The standard deviation of the cross-validation scores. It measures the amount of variation or dispersion of the model's performance across different folds. Lower values indicate more consistent performance.\n",
    "\n",
    "Mean Absolute Error (MAE): It measures the average absolute differences between predicted and actual values. It provides a straightforward interpretation of the average prediction error with a lower value indicating better performance. It is less sensitive to outliers.\n",
    "\n",
    "Mean Squared Error (MSE): It calculates the average of the squared differences between predicted and actual values. MSE penalizes larger errors more heavily than MAE. MSE is commonly used but sensitive to outliers. Lower values are better.\n",
    "\n",
    "Root Mean Squared Error (RMSE): It is the square root of MSE and provides an interpretable measure in the same units as the target variable. RMSE penalizes larger errors more than MAE and is sensitive to outliers. Lower values are better.\n",
    " \n",
    "R-squared (R²): It measures the proportion of the variance in the dependent variable that is predictable from the independent variables. It ranges from 0 to 1, where 1 indicates a perfect fit."
   ]
  },
  {
   "cell_type": "code",
   "execution_count": 123,
   "id": "0689ef4a",
   "metadata": {},
   "outputs": [
    {
     "name": "stdout",
     "output_type": "stream",
     "text": [
      "6124551.822244249\n",
      "\n",
      " [-5.28816685e+00  8.56536457e+03 -3.85497140e+05  3.58377098e+03\n",
      " -1.44150798e+05  2.14908657e+05  5.59862654e+04  1.27580181e+03\n",
      "  7.08263252e+04 -2.62077013e+04  9.27464950e+04  4.56146571e+04\n",
      " -5.56696689e+05  2.26727717e+05 -3.28798497e+05 -9.01444815e+04\n",
      " -1.68495690e+03 -5.94102394e+04 -1.08763489e+03 -7.46448863e+03\n",
      " -5.59639018e+04  7.01911959e+05  1.08946540e+04 -1.86338756e+05\n",
      " -3.19805664e+03  1.70816486e+02 -1.10834240e+04  2.39672324e+03\n",
      "  8.58061238e+04 -1.61708825e+05 -5.58967725e+05 -2.34761777e+05\n",
      "  6.79882761e+02  2.03861549e+05  2.48193000e+02  7.10672968e+04\n",
      "  7.87256956e+04  2.51180085e+04  1.81925556e+04 -3.06786726e+05\n",
      "  2.25629548e+05  2.70336151e+05  2.54810807e+05  5.83525074e+02\n",
      " -5.38503456e+04 -9.60861863e+04 -1.35238938e+05  1.08334160e+05\n",
      " -1.04342537e+05 -3.72640941e+05  4.59029877e+05 -3.09343552e+05\n",
      "  1.95822414e+03  1.24103037e+05 -1.01562989e+04  1.24525789e+05\n",
      "  1.36760669e+05 -2.88511660e+05]\n"
     ]
    }
   ],
   "source": [
    "# Calculate the intercept and coefficient\n",
    "print(lr.intercept_)\n",
    "print('\\n',lr.coef_)"
   ]
  },
  {
   "cell_type": "markdown",
   "id": "5d8c0b6f",
   "metadata": {},
   "source": [
    "The y-intercept (intercept variable) and the slope or coefficient which are parameters learnt by the model. Linear regression finds the parameters a and b that minimize the mean squared error between predictions and the true regression targets, y, on the training set."
   ]
  },
  {
   "cell_type": "code",
   "execution_count": 124,
   "id": "87a0bd80",
   "metadata": {},
   "outputs": [
    {
     "name": "stdout",
     "output_type": "stream",
     "text": [
      "R² training set score: 0.49677885162408064\n",
      "R² testing set score: 0.37396667115895665\n"
     ]
    }
   ],
   "source": [
    "# Comparing training to testing results\n",
    "print(f'R² training set score: {lr.score(X_train, y_train)}')\n",
    "print(f'R² testing set score: {lr.score(X_test, y_test)}')"
   ]
  },
  {
   "cell_type": "markdown",
   "id": "c866086b",
   "metadata": {},
   "source": [
    "The results from this first model are are poor with an accuarcy of 0.37. This is to be expected as the dataset used does not include the domestic leagues or positions of players."
   ]
  },
  {
   "cell_type": "code",
   "execution_count": 125,
   "id": "75a94ff6",
   "metadata": {},
   "outputs": [],
   "source": [
    "# Calculate the predicted values\n",
    "y_pred = lr.predict(X_test)"
   ]
  },
  {
   "cell_type": "code",
   "execution_count": 126,
   "id": "27c81e5c",
   "metadata": {},
   "outputs": [
    {
     "data": {
      "text/html": [
       "<div>\n",
       "<style scoped>\n",
       "    .dataframe tbody tr th:only-of-type {\n",
       "        vertical-align: middle;\n",
       "    }\n",
       "\n",
       "    .dataframe tbody tr th {\n",
       "        vertical-align: top;\n",
       "    }\n",
       "\n",
       "    .dataframe thead th {\n",
       "        text-align: right;\n",
       "    }\n",
       "</style>\n",
       "<table border=\"1\" class=\"dataframe\">\n",
       "  <thead>\n",
       "    <tr style=\"text-align: right;\">\n",
       "      <th></th>\n",
       "      <th>Actual</th>\n",
       "      <th>Predicted</th>\n",
       "    </tr>\n",
       "  </thead>\n",
       "  <tbody>\n",
       "    <tr>\n",
       "      <th>9772</th>\n",
       "      <td>25000.0</td>\n",
       "      <td>-6.661725e+05</td>\n",
       "    </tr>\n",
       "    <tr>\n",
       "      <th>2337</th>\n",
       "      <td>500000.0</td>\n",
       "      <td>1.099419e+06</td>\n",
       "    </tr>\n",
       "    <tr>\n",
       "      <th>9588</th>\n",
       "      <td>100000.0</td>\n",
       "      <td>1.452277e+06</td>\n",
       "    </tr>\n",
       "    <tr>\n",
       "      <th>2233</th>\n",
       "      <td>50000.0</td>\n",
       "      <td>2.379355e+06</td>\n",
       "    </tr>\n",
       "    <tr>\n",
       "      <th>4122</th>\n",
       "      <td>2000000.0</td>\n",
       "      <td>-6.178865e+05</td>\n",
       "    </tr>\n",
       "  </tbody>\n",
       "</table>\n",
       "</div>"
      ],
      "text/plain": [
       "         Actual     Predicted\n",
       "9772    25000.0 -6.661725e+05\n",
       "2337   500000.0  1.099419e+06\n",
       "9588   100000.0  1.452277e+06\n",
       "2233    50000.0  2.379355e+06\n",
       "4122  2000000.0 -6.178865e+05"
      ]
     },
     "execution_count": 126,
     "metadata": {},
     "output_type": "execute_result"
    }
   ],
   "source": [
    "# Display the test and predicted values\n",
    "df = pd.DataFrame({'Actual': y_test, 'Predicted': y_pred})\n",
    "df.head()"
   ]
  },
  {
   "cell_type": "markdown",
   "id": "a69048ce",
   "metadata": {},
   "source": [
    "### <span style=\"color:Teal\">Second Split: 80% Training and 20% for Testing</span>"
   ]
  },
  {
   "cell_type": "code",
   "execution_count": 127,
   "id": "369a2cac",
   "metadata": {},
   "outputs": [],
   "source": [
    "# Split dataset into training set and test set\n",
    "X_train, X_test, y_train, y_test = train_test_split(X, y, test_size = 0.2,  random_state = 42) # 80% training and 20% test# Split dataset into training set and test set\n"
   ]
  },
  {
   "cell_type": "code",
   "execution_count": 128,
   "id": "cd9021f1",
   "metadata": {},
   "outputs": [
    {
     "data": {
      "text/plain": [
       "((10168, 58), (10168,), (8134, 58), (2034, 58), (8134,), (2034,))"
      ]
     },
     "execution_count": 128,
     "metadata": {},
     "output_type": "execute_result"
    }
   ],
   "source": [
    "# Show the rows and columns\n",
    "X.shape, y.shape, X_train.shape, X_test.shape, y_train.shape, y_test.shape"
   ]
  },
  {
   "cell_type": "code",
   "execution_count": 129,
   "id": "74e1bda7",
   "metadata": {},
   "outputs": [],
   "source": [
    "#Instantiating a class of Linear Regression \n",
    "lr = LinearRegression()"
   ]
  },
  {
   "cell_type": "code",
   "execution_count": 130,
   "id": "403d02ed",
   "metadata": {},
   "outputs": [
    {
     "data": {
      "text/html": [
       "<style>#sk-container-id-8 {color: black;}#sk-container-id-8 pre{padding: 0;}#sk-container-id-8 div.sk-toggleable {background-color: white;}#sk-container-id-8 label.sk-toggleable__label {cursor: pointer;display: block;width: 100%;margin-bottom: 0;padding: 0.3em;box-sizing: border-box;text-align: center;}#sk-container-id-8 label.sk-toggleable__label-arrow:before {content: \"▸\";float: left;margin-right: 0.25em;color: #696969;}#sk-container-id-8 label.sk-toggleable__label-arrow:hover:before {color: black;}#sk-container-id-8 div.sk-estimator:hover label.sk-toggleable__label-arrow:before {color: black;}#sk-container-id-8 div.sk-toggleable__content {max-height: 0;max-width: 0;overflow: hidden;text-align: left;background-color: #f0f8ff;}#sk-container-id-8 div.sk-toggleable__content pre {margin: 0.2em;color: black;border-radius: 0.25em;background-color: #f0f8ff;}#sk-container-id-8 input.sk-toggleable__control:checked~div.sk-toggleable__content {max-height: 200px;max-width: 100%;overflow: auto;}#sk-container-id-8 input.sk-toggleable__control:checked~label.sk-toggleable__label-arrow:before {content: \"▾\";}#sk-container-id-8 div.sk-estimator input.sk-toggleable__control:checked~label.sk-toggleable__label {background-color: #d4ebff;}#sk-container-id-8 div.sk-label input.sk-toggleable__control:checked~label.sk-toggleable__label {background-color: #d4ebff;}#sk-container-id-8 input.sk-hidden--visually {border: 0;clip: rect(1px 1px 1px 1px);clip: rect(1px, 1px, 1px, 1px);height: 1px;margin: -1px;overflow: hidden;padding: 0;position: absolute;width: 1px;}#sk-container-id-8 div.sk-estimator {font-family: monospace;background-color: #f0f8ff;border: 1px dotted black;border-radius: 0.25em;box-sizing: border-box;margin-bottom: 0.5em;}#sk-container-id-8 div.sk-estimator:hover {background-color: #d4ebff;}#sk-container-id-8 div.sk-parallel-item::after {content: \"\";width: 100%;border-bottom: 1px solid gray;flex-grow: 1;}#sk-container-id-8 div.sk-label:hover label.sk-toggleable__label {background-color: #d4ebff;}#sk-container-id-8 div.sk-serial::before {content: \"\";position: absolute;border-left: 1px solid gray;box-sizing: border-box;top: 0;bottom: 0;left: 50%;z-index: 0;}#sk-container-id-8 div.sk-serial {display: flex;flex-direction: column;align-items: center;background-color: white;padding-right: 0.2em;padding-left: 0.2em;position: relative;}#sk-container-id-8 div.sk-item {position: relative;z-index: 1;}#sk-container-id-8 div.sk-parallel {display: flex;align-items: stretch;justify-content: center;background-color: white;position: relative;}#sk-container-id-8 div.sk-item::before, #sk-container-id-8 div.sk-parallel-item::before {content: \"\";position: absolute;border-left: 1px solid gray;box-sizing: border-box;top: 0;bottom: 0;left: 50%;z-index: -1;}#sk-container-id-8 div.sk-parallel-item {display: flex;flex-direction: column;z-index: 1;position: relative;background-color: white;}#sk-container-id-8 div.sk-parallel-item:first-child::after {align-self: flex-end;width: 50%;}#sk-container-id-8 div.sk-parallel-item:last-child::after {align-self: flex-start;width: 50%;}#sk-container-id-8 div.sk-parallel-item:only-child::after {width: 0;}#sk-container-id-8 div.sk-dashed-wrapped {border: 1px dashed gray;margin: 0 0.4em 0.5em 0.4em;box-sizing: border-box;padding-bottom: 0.4em;background-color: white;}#sk-container-id-8 div.sk-label label {font-family: monospace;font-weight: bold;display: inline-block;line-height: 1.2em;}#sk-container-id-8 div.sk-label-container {text-align: center;}#sk-container-id-8 div.sk-container {/* jupyter's `normalize.less` sets `[hidden] { display: none; }` but bootstrap.min.css set `[hidden] { display: none !important; }` so we also need the `!important` here to be able to override the default hidden behavior on the sphinx rendered scikit-learn.org. See: https://github.com/scikit-learn/scikit-learn/issues/21755 */display: inline-block !important;position: relative;}#sk-container-id-8 div.sk-text-repr-fallback {display: none;}</style><div id=\"sk-container-id-8\" class=\"sk-top-container\"><div class=\"sk-text-repr-fallback\"><pre>LinearRegression()</pre><b>In a Jupyter environment, please rerun this cell to show the HTML representation or trust the notebook. <br />On GitHub, the HTML representation is unable to render, please try loading this page with nbviewer.org.</b></div><div class=\"sk-container\" hidden><div class=\"sk-item\"><div class=\"sk-estimator sk-toggleable\"><input class=\"sk-toggleable__control sk-hidden--visually\" id=\"sk-estimator-id-8\" type=\"checkbox\" checked><label for=\"sk-estimator-id-8\" class=\"sk-toggleable__label sk-toggleable__label-arrow\">LinearRegression</label><div class=\"sk-toggleable__content\"><pre>LinearRegression()</pre></div></div></div></div></div>"
      ],
      "text/plain": [
       "LinearRegression()"
      ]
     },
     "execution_count": 130,
     "metadata": {},
     "output_type": "execute_result"
    }
   ],
   "source": [
    "# Training the model\n",
    "lr.fit(X_train, y_train)"
   ]
  },
  {
   "cell_type": "code",
   "execution_count": 131,
   "id": "af45c481",
   "metadata": {},
   "outputs": [
    {
     "name": "stdout",
     "output_type": "stream",
     "text": [
      "CV Mean R²:  0.4720516135907701\n",
      "CV STD:  0.05235418367636861\n",
      "Mean Absolute Error (MAE):  3812869.089316188\n",
      "Mean Squared Error (MSE):  49577224508102.8\n",
      "Root Mean Squared Error (RMSE):  7041109.607732492\n",
      "R-squared (R²):  0.4948315651392249\n",
      "\n",
      "\n"
     ]
    }
   ],
   "source": [
    "# Calculate the mean values and Standard deviation\n",
    "get_cv_scores(lr)"
   ]
  },
  {
   "cell_type": "code",
   "execution_count": 132,
   "id": "40eb8220",
   "metadata": {
    "scrolled": true
   },
   "outputs": [
    {
     "name": "stdout",
     "output_type": "stream",
     "text": [
      "R² training set score: 0.4948315651392249\n",
      "R² testing set score: 0.45441396948160184\n"
     ]
    }
   ],
   "source": [
    "# Comparing training to testing results\n",
    "print(f'R² training set score: {lr.score(X_train, y_train)}')\n",
    "print(f'R² testing set score: {lr.score(X_test, y_test)}')"
   ]
  },
  {
   "cell_type": "markdown",
   "id": "ef5b1537",
   "metadata": {},
   "source": [
    "There is an improvement in results on a 80:20 trains:test split."
   ]
  },
  {
   "cell_type": "code",
   "execution_count": 133,
   "id": "fcc507d1",
   "metadata": {},
   "outputs": [],
   "source": [
    "# Calculate the predicted values\n",
    "y_pred = lr.predict(X_test)"
   ]
  },
  {
   "cell_type": "code",
   "execution_count": 134,
   "id": "6719e03e",
   "metadata": {},
   "outputs": [
    {
     "data": {
      "text/html": [
       "<div>\n",
       "<style scoped>\n",
       "    .dataframe tbody tr th:only-of-type {\n",
       "        vertical-align: middle;\n",
       "    }\n",
       "\n",
       "    .dataframe tbody tr th {\n",
       "        vertical-align: top;\n",
       "    }\n",
       "\n",
       "    .dataframe thead th {\n",
       "        text-align: right;\n",
       "    }\n",
       "</style>\n",
       "<table border=\"1\" class=\"dataframe\">\n",
       "  <thead>\n",
       "    <tr style=\"text-align: right;\">\n",
       "      <th></th>\n",
       "      <th>Actual</th>\n",
       "      <th>Predicted</th>\n",
       "    </tr>\n",
       "  </thead>\n",
       "  <tbody>\n",
       "    <tr>\n",
       "      <th>9772</th>\n",
       "      <td>25000.0</td>\n",
       "      <td>-7.371869e+05</td>\n",
       "    </tr>\n",
       "    <tr>\n",
       "      <th>2337</th>\n",
       "      <td>500000.0</td>\n",
       "      <td>1.257227e+06</td>\n",
       "    </tr>\n",
       "    <tr>\n",
       "      <th>9588</th>\n",
       "      <td>100000.0</td>\n",
       "      <td>1.489214e+06</td>\n",
       "    </tr>\n",
       "    <tr>\n",
       "      <th>2233</th>\n",
       "      <td>50000.0</td>\n",
       "      <td>2.287051e+06</td>\n",
       "    </tr>\n",
       "    <tr>\n",
       "      <th>4122</th>\n",
       "      <td>2000000.0</td>\n",
       "      <td>-5.979624e+05</td>\n",
       "    </tr>\n",
       "  </tbody>\n",
       "</table>\n",
       "</div>"
      ],
      "text/plain": [
       "         Actual     Predicted\n",
       "9772    25000.0 -7.371869e+05\n",
       "2337   500000.0  1.257227e+06\n",
       "9588   100000.0  1.489214e+06\n",
       "2233    50000.0  2.287051e+06\n",
       "4122  2000000.0 -5.979624e+05"
      ]
     },
     "execution_count": 134,
     "metadata": {},
     "output_type": "execute_result"
    }
   ],
   "source": [
    "# Display the test and predicted values\n",
    "df = pd.DataFrame({'Actual': y_test, 'Predicted': y_pred})\n",
    "df.head()"
   ]
  },
  {
   "cell_type": "markdown",
   "id": "c6363256",
   "metadata": {},
   "source": [
    "### <span style=\"color:Teal\">Third Split: 70% Training and 30% for Testing</span>"
   ]
  },
  {
   "cell_type": "code",
   "execution_count": 135,
   "id": "1239da83",
   "metadata": {},
   "outputs": [],
   "source": [
    "# Split dataset into training set and test set\n",
    "X_train, X_test, y_train, y_test = train_test_split(X, y, test_size = 0.3,  random_state = 42) "
   ]
  },
  {
   "cell_type": "code",
   "execution_count": 136,
   "id": "92c36299",
   "metadata": {},
   "outputs": [
    {
     "data": {
      "text/plain": [
       "((10168, 58), (10168,), (7117, 58), (3051, 58), (7117,), (3051,))"
      ]
     },
     "execution_count": 136,
     "metadata": {},
     "output_type": "execute_result"
    }
   ],
   "source": [
    "# Show the rows and columns\n",
    "X.shape, y.shape, X_train.shape, X_test.shape, y_train.shape, y_test.shape"
   ]
  },
  {
   "cell_type": "code",
   "execution_count": 137,
   "id": "2d9061bb",
   "metadata": {},
   "outputs": [],
   "source": [
    "#Instantiating a class of Linear Regression \n",
    "lr = LinearRegression()"
   ]
  },
  {
   "cell_type": "code",
   "execution_count": 138,
   "id": "775ba3c1",
   "metadata": {},
   "outputs": [
    {
     "data": {
      "text/html": [
       "<style>#sk-container-id-9 {color: black;}#sk-container-id-9 pre{padding: 0;}#sk-container-id-9 div.sk-toggleable {background-color: white;}#sk-container-id-9 label.sk-toggleable__label {cursor: pointer;display: block;width: 100%;margin-bottom: 0;padding: 0.3em;box-sizing: border-box;text-align: center;}#sk-container-id-9 label.sk-toggleable__label-arrow:before {content: \"▸\";float: left;margin-right: 0.25em;color: #696969;}#sk-container-id-9 label.sk-toggleable__label-arrow:hover:before {color: black;}#sk-container-id-9 div.sk-estimator:hover label.sk-toggleable__label-arrow:before {color: black;}#sk-container-id-9 div.sk-toggleable__content {max-height: 0;max-width: 0;overflow: hidden;text-align: left;background-color: #f0f8ff;}#sk-container-id-9 div.sk-toggleable__content pre {margin: 0.2em;color: black;border-radius: 0.25em;background-color: #f0f8ff;}#sk-container-id-9 input.sk-toggleable__control:checked~div.sk-toggleable__content {max-height: 200px;max-width: 100%;overflow: auto;}#sk-container-id-9 input.sk-toggleable__control:checked~label.sk-toggleable__label-arrow:before {content: \"▾\";}#sk-container-id-9 div.sk-estimator input.sk-toggleable__control:checked~label.sk-toggleable__label {background-color: #d4ebff;}#sk-container-id-9 div.sk-label input.sk-toggleable__control:checked~label.sk-toggleable__label {background-color: #d4ebff;}#sk-container-id-9 input.sk-hidden--visually {border: 0;clip: rect(1px 1px 1px 1px);clip: rect(1px, 1px, 1px, 1px);height: 1px;margin: -1px;overflow: hidden;padding: 0;position: absolute;width: 1px;}#sk-container-id-9 div.sk-estimator {font-family: monospace;background-color: #f0f8ff;border: 1px dotted black;border-radius: 0.25em;box-sizing: border-box;margin-bottom: 0.5em;}#sk-container-id-9 div.sk-estimator:hover {background-color: #d4ebff;}#sk-container-id-9 div.sk-parallel-item::after {content: \"\";width: 100%;border-bottom: 1px solid gray;flex-grow: 1;}#sk-container-id-9 div.sk-label:hover label.sk-toggleable__label {background-color: #d4ebff;}#sk-container-id-9 div.sk-serial::before {content: \"\";position: absolute;border-left: 1px solid gray;box-sizing: border-box;top: 0;bottom: 0;left: 50%;z-index: 0;}#sk-container-id-9 div.sk-serial {display: flex;flex-direction: column;align-items: center;background-color: white;padding-right: 0.2em;padding-left: 0.2em;position: relative;}#sk-container-id-9 div.sk-item {position: relative;z-index: 1;}#sk-container-id-9 div.sk-parallel {display: flex;align-items: stretch;justify-content: center;background-color: white;position: relative;}#sk-container-id-9 div.sk-item::before, #sk-container-id-9 div.sk-parallel-item::before {content: \"\";position: absolute;border-left: 1px solid gray;box-sizing: border-box;top: 0;bottom: 0;left: 50%;z-index: -1;}#sk-container-id-9 div.sk-parallel-item {display: flex;flex-direction: column;z-index: 1;position: relative;background-color: white;}#sk-container-id-9 div.sk-parallel-item:first-child::after {align-self: flex-end;width: 50%;}#sk-container-id-9 div.sk-parallel-item:last-child::after {align-self: flex-start;width: 50%;}#sk-container-id-9 div.sk-parallel-item:only-child::after {width: 0;}#sk-container-id-9 div.sk-dashed-wrapped {border: 1px dashed gray;margin: 0 0.4em 0.5em 0.4em;box-sizing: border-box;padding-bottom: 0.4em;background-color: white;}#sk-container-id-9 div.sk-label label {font-family: monospace;font-weight: bold;display: inline-block;line-height: 1.2em;}#sk-container-id-9 div.sk-label-container {text-align: center;}#sk-container-id-9 div.sk-container {/* jupyter's `normalize.less` sets `[hidden] { display: none; }` but bootstrap.min.css set `[hidden] { display: none !important; }` so we also need the `!important` here to be able to override the default hidden behavior on the sphinx rendered scikit-learn.org. See: https://github.com/scikit-learn/scikit-learn/issues/21755 */display: inline-block !important;position: relative;}#sk-container-id-9 div.sk-text-repr-fallback {display: none;}</style><div id=\"sk-container-id-9\" class=\"sk-top-container\"><div class=\"sk-text-repr-fallback\"><pre>LinearRegression()</pre><b>In a Jupyter environment, please rerun this cell to show the HTML representation or trust the notebook. <br />On GitHub, the HTML representation is unable to render, please try loading this page with nbviewer.org.</b></div><div class=\"sk-container\" hidden><div class=\"sk-item\"><div class=\"sk-estimator sk-toggleable\"><input class=\"sk-toggleable__control sk-hidden--visually\" id=\"sk-estimator-id-9\" type=\"checkbox\" checked><label for=\"sk-estimator-id-9\" class=\"sk-toggleable__label sk-toggleable__label-arrow\">LinearRegression</label><div class=\"sk-toggleable__content\"><pre>LinearRegression()</pre></div></div></div></div></div>"
      ],
      "text/plain": [
       "LinearRegression()"
      ]
     },
     "execution_count": 138,
     "metadata": {},
     "output_type": "execute_result"
    }
   ],
   "source": [
    "# Training the model\n",
    "lr.fit(X_train, y_train)"
   ]
  },
  {
   "cell_type": "code",
   "execution_count": 139,
   "id": "fca4c909",
   "metadata": {},
   "outputs": [
    {
     "name": "stdout",
     "output_type": "stream",
     "text": [
      "CV Mean R²:  0.46823361542286124\n",
      "CV STD:  0.051482301740775505\n",
      "Mean Absolute Error (MAE):  3776729.122741695\n",
      "Mean Squared Error (MSE):  47967368096260.78\n",
      "Root Mean Squared Error (RMSE):  6925847.825086888\n",
      "R-squared (R²):  0.5013748469704211\n",
      "\n",
      "\n"
     ]
    }
   ],
   "source": [
    "# Calculate the mean values and Standard deviation\n",
    "get_cv_scores(lr)"
   ]
  },
  {
   "cell_type": "markdown",
   "id": "a2aff4d6",
   "metadata": {},
   "source": [
    "The CV Mean R² has dropped with a 70:30 train:test split but so too has the STD."
   ]
  },
  {
   "cell_type": "code",
   "execution_count": 140,
   "id": "ba65bff9",
   "metadata": {},
   "outputs": [
    {
     "name": "stdout",
     "output_type": "stream",
     "text": [
      "R² training set score: 0.5013748469704211\n",
      "R² testing set score: 0.4499666859178947\n"
     ]
    }
   ],
   "source": [
    "# Comparing training to testing results\n",
    "print(f'R² training set score: {lr.score(X_train, y_train)}')\n",
    "print(f'R² testing set score: {lr.score(X_test, y_test)}')"
   ]
  },
  {
   "cell_type": "code",
   "execution_count": 141,
   "id": "f3288d2a",
   "metadata": {},
   "outputs": [],
   "source": [
    "# Calculate the predicted values\n",
    "y_pred = lr.predict(X_test)"
   ]
  },
  {
   "cell_type": "code",
   "execution_count": 142,
   "id": "e4d28181",
   "metadata": {},
   "outputs": [
    {
     "data": {
      "text/html": [
       "<div>\n",
       "<style scoped>\n",
       "    .dataframe tbody tr th:only-of-type {\n",
       "        vertical-align: middle;\n",
       "    }\n",
       "\n",
       "    .dataframe tbody tr th {\n",
       "        vertical-align: top;\n",
       "    }\n",
       "\n",
       "    .dataframe thead th {\n",
       "        text-align: right;\n",
       "    }\n",
       "</style>\n",
       "<table border=\"1\" class=\"dataframe\">\n",
       "  <thead>\n",
       "    <tr style=\"text-align: right;\">\n",
       "      <th></th>\n",
       "      <th>Actual</th>\n",
       "      <th>Predicted</th>\n",
       "    </tr>\n",
       "  </thead>\n",
       "  <tbody>\n",
       "    <tr>\n",
       "      <th>9772</th>\n",
       "      <td>25000.0</td>\n",
       "      <td>-7.520807e+05</td>\n",
       "    </tr>\n",
       "    <tr>\n",
       "      <th>2337</th>\n",
       "      <td>500000.0</td>\n",
       "      <td>1.345985e+06</td>\n",
       "    </tr>\n",
       "    <tr>\n",
       "      <th>9588</th>\n",
       "      <td>100000.0</td>\n",
       "      <td>1.471976e+06</td>\n",
       "    </tr>\n",
       "    <tr>\n",
       "      <th>2233</th>\n",
       "      <td>50000.0</td>\n",
       "      <td>2.267469e+06</td>\n",
       "    </tr>\n",
       "    <tr>\n",
       "      <th>4122</th>\n",
       "      <td>2000000.0</td>\n",
       "      <td>-4.839169e+05</td>\n",
       "    </tr>\n",
       "  </tbody>\n",
       "</table>\n",
       "</div>"
      ],
      "text/plain": [
       "         Actual     Predicted\n",
       "9772    25000.0 -7.520807e+05\n",
       "2337   500000.0  1.345985e+06\n",
       "9588   100000.0  1.471976e+06\n",
       "2233    50000.0  2.267469e+06\n",
       "4122  2000000.0 -4.839169e+05"
      ]
     },
     "execution_count": 142,
     "metadata": {},
     "output_type": "execute_result"
    }
   ],
   "source": [
    "# Display the test and predicted values\n",
    "df = pd.DataFrame({'Actual': y_test, 'Predicted': y_pred})\n",
    "df.head()"
   ]
  },
  {
   "cell_type": "markdown",
   "id": "184c8e8e",
   "metadata": {},
   "source": [
    "## Second Model: Linear Regression on Full Dummies Dataset ( No Scaling or Feature Selection)"
   ]
  },
  {
   "cell_type": "code",
   "execution_count": 143,
   "id": "f4291884",
   "metadata": {
    "scrolled": true
   },
   "outputs": [
    {
     "name": "stdout",
     "output_type": "stream",
     "text": [
      "<class 'pandas.core.frame.DataFrame'>\n",
      "RangeIndex: 10168 entries, 0 to 10167\n",
      "Columns: 374 entries, current_club_id to current_club_name_Ümraniyespor\n",
      "dtypes: float64(2), int64(372)\n",
      "memory usage: 29.0 MB\n"
     ]
    }
   ],
   "source": [
    "df8_dummies_all.info()"
   ]
  },
  {
   "cell_type": "markdown",
   "id": "46d21ef2",
   "metadata": {},
   "source": [
    "#### <span style=\"color:Teal\">Isolating target Variable</span>"
   ]
  },
  {
   "cell_type": "code",
   "execution_count": 144,
   "id": "e7a684a8",
   "metadata": {},
   "outputs": [],
   "source": [
    "y = df8_dummies_all['market_value_in_eur']"
   ]
  },
  {
   "cell_type": "code",
   "execution_count": 145,
   "id": "a3eb168e",
   "metadata": {},
   "outputs": [
    {
     "data": {
      "text/plain": [
       "(10168,)"
      ]
     },
     "execution_count": 145,
     "metadata": {},
     "output_type": "execute_result"
    }
   ],
   "source": [
    "y.shape"
   ]
  },
  {
   "cell_type": "code",
   "execution_count": 146,
   "id": "d3d235f9",
   "metadata": {},
   "outputs": [],
   "source": [
    "X = df8_dummies_all.drop(['market_value_in_eur'], axis = 1)"
   ]
  },
  {
   "cell_type": "code",
   "execution_count": 147,
   "id": "fd3e5118",
   "metadata": {},
   "outputs": [
    {
     "data": {
      "text/plain": [
       "(10168, 373)"
      ]
     },
     "execution_count": 147,
     "metadata": {},
     "output_type": "execute_result"
    }
   ],
   "source": [
    "X.shape"
   ]
  },
  {
   "cell_type": "markdown",
   "id": "ef5f95cc",
   "metadata": {},
   "source": [
    "### <span style=\"color:Teal\">First Split: 90% Training and 10% for Testing</span>"
   ]
  },
  {
   "cell_type": "code",
   "execution_count": 148,
   "id": "dcce1b8c",
   "metadata": {},
   "outputs": [],
   "source": [
    "# Split dataset into training set and test set\n",
    "X_train, X_test, y_train, y_test = train_test_split(X, y, test_size = 0.1,  random_state = 42) # 90% training and 10% test"
   ]
  },
  {
   "cell_type": "code",
   "execution_count": 149,
   "id": "3d81a84e",
   "metadata": {},
   "outputs": [
    {
     "data": {
      "text/plain": [
       "((10168, 373), (10168,), (9151, 373), (1017, 373), (9151,), (1017,))"
      ]
     },
     "execution_count": 149,
     "metadata": {},
     "output_type": "execute_result"
    }
   ],
   "source": [
    "# Show the rows and columns\n",
    "X.shape, y.shape, X_train.shape, X_test.shape, y_train.shape, y_test.shape"
   ]
  },
  {
   "cell_type": "code",
   "execution_count": 150,
   "id": "9b3b6ba3",
   "metadata": {},
   "outputs": [],
   "source": [
    "#Instantiating a class of Linear Regression \n",
    "lr = LinearRegression()"
   ]
  },
  {
   "cell_type": "code",
   "execution_count": 151,
   "id": "bbc6e67c",
   "metadata": {},
   "outputs": [
    {
     "data": {
      "text/html": [
       "<style>#sk-container-id-10 {color: black;}#sk-container-id-10 pre{padding: 0;}#sk-container-id-10 div.sk-toggleable {background-color: white;}#sk-container-id-10 label.sk-toggleable__label {cursor: pointer;display: block;width: 100%;margin-bottom: 0;padding: 0.3em;box-sizing: border-box;text-align: center;}#sk-container-id-10 label.sk-toggleable__label-arrow:before {content: \"▸\";float: left;margin-right: 0.25em;color: #696969;}#sk-container-id-10 label.sk-toggleable__label-arrow:hover:before {color: black;}#sk-container-id-10 div.sk-estimator:hover label.sk-toggleable__label-arrow:before {color: black;}#sk-container-id-10 div.sk-toggleable__content {max-height: 0;max-width: 0;overflow: hidden;text-align: left;background-color: #f0f8ff;}#sk-container-id-10 div.sk-toggleable__content pre {margin: 0.2em;color: black;border-radius: 0.25em;background-color: #f0f8ff;}#sk-container-id-10 input.sk-toggleable__control:checked~div.sk-toggleable__content {max-height: 200px;max-width: 100%;overflow: auto;}#sk-container-id-10 input.sk-toggleable__control:checked~label.sk-toggleable__label-arrow:before {content: \"▾\";}#sk-container-id-10 div.sk-estimator input.sk-toggleable__control:checked~label.sk-toggleable__label {background-color: #d4ebff;}#sk-container-id-10 div.sk-label input.sk-toggleable__control:checked~label.sk-toggleable__label {background-color: #d4ebff;}#sk-container-id-10 input.sk-hidden--visually {border: 0;clip: rect(1px 1px 1px 1px);clip: rect(1px, 1px, 1px, 1px);height: 1px;margin: -1px;overflow: hidden;padding: 0;position: absolute;width: 1px;}#sk-container-id-10 div.sk-estimator {font-family: monospace;background-color: #f0f8ff;border: 1px dotted black;border-radius: 0.25em;box-sizing: border-box;margin-bottom: 0.5em;}#sk-container-id-10 div.sk-estimator:hover {background-color: #d4ebff;}#sk-container-id-10 div.sk-parallel-item::after {content: \"\";width: 100%;border-bottom: 1px solid gray;flex-grow: 1;}#sk-container-id-10 div.sk-label:hover label.sk-toggleable__label {background-color: #d4ebff;}#sk-container-id-10 div.sk-serial::before {content: \"\";position: absolute;border-left: 1px solid gray;box-sizing: border-box;top: 0;bottom: 0;left: 50%;z-index: 0;}#sk-container-id-10 div.sk-serial {display: flex;flex-direction: column;align-items: center;background-color: white;padding-right: 0.2em;padding-left: 0.2em;position: relative;}#sk-container-id-10 div.sk-item {position: relative;z-index: 1;}#sk-container-id-10 div.sk-parallel {display: flex;align-items: stretch;justify-content: center;background-color: white;position: relative;}#sk-container-id-10 div.sk-item::before, #sk-container-id-10 div.sk-parallel-item::before {content: \"\";position: absolute;border-left: 1px solid gray;box-sizing: border-box;top: 0;bottom: 0;left: 50%;z-index: -1;}#sk-container-id-10 div.sk-parallel-item {display: flex;flex-direction: column;z-index: 1;position: relative;background-color: white;}#sk-container-id-10 div.sk-parallel-item:first-child::after {align-self: flex-end;width: 50%;}#sk-container-id-10 div.sk-parallel-item:last-child::after {align-self: flex-start;width: 50%;}#sk-container-id-10 div.sk-parallel-item:only-child::after {width: 0;}#sk-container-id-10 div.sk-dashed-wrapped {border: 1px dashed gray;margin: 0 0.4em 0.5em 0.4em;box-sizing: border-box;padding-bottom: 0.4em;background-color: white;}#sk-container-id-10 div.sk-label label {font-family: monospace;font-weight: bold;display: inline-block;line-height: 1.2em;}#sk-container-id-10 div.sk-label-container {text-align: center;}#sk-container-id-10 div.sk-container {/* jupyter's `normalize.less` sets `[hidden] { display: none; }` but bootstrap.min.css set `[hidden] { display: none !important; }` so we also need the `!important` here to be able to override the default hidden behavior on the sphinx rendered scikit-learn.org. See: https://github.com/scikit-learn/scikit-learn/issues/21755 */display: inline-block !important;position: relative;}#sk-container-id-10 div.sk-text-repr-fallback {display: none;}</style><div id=\"sk-container-id-10\" class=\"sk-top-container\"><div class=\"sk-text-repr-fallback\"><pre>LinearRegression()</pre><b>In a Jupyter environment, please rerun this cell to show the HTML representation or trust the notebook. <br />On GitHub, the HTML representation is unable to render, please try loading this page with nbviewer.org.</b></div><div class=\"sk-container\" hidden><div class=\"sk-item\"><div class=\"sk-estimator sk-toggleable\"><input class=\"sk-toggleable__control sk-hidden--visually\" id=\"sk-estimator-id-10\" type=\"checkbox\" checked><label for=\"sk-estimator-id-10\" class=\"sk-toggleable__label sk-toggleable__label-arrow\">LinearRegression</label><div class=\"sk-toggleable__content\"><pre>LinearRegression()</pre></div></div></div></div></div>"
      ],
      "text/plain": [
       "LinearRegression()"
      ]
     },
     "execution_count": 151,
     "metadata": {},
     "output_type": "execute_result"
    }
   ],
   "source": [
    "# Training the model\n",
    "lr.fit(X_train, y_train)"
   ]
  },
  {
   "cell_type": "code",
   "execution_count": 152,
   "id": "61f39422",
   "metadata": {
    "scrolled": true
   },
   "outputs": [
    {
     "name": "stdout",
     "output_type": "stream",
     "text": [
      "CV Mean R²:  0.5895488384360613\n",
      "CV STD:  0.0563729971925034\n",
      "Mean Absolute Error (MAE):  3361968.8122840365\n",
      "Mean Squared Error (MSE):  35990246978812.83\n",
      "Root Mean Squared Error (RMSE):  5999187.193179825\n",
      "R-squared (R²):  0.6393471260589041\n",
      "\n",
      "\n"
     ]
    }
   ],
   "source": [
    "# Calculate the mean values and Standard deviation\n",
    "get_cv_scores(lr)"
   ]
  },
  {
   "cell_type": "markdown",
   "id": "f4f56eb3",
   "metadata": {},
   "source": [
    "An improvement in scores which is to be expected as the dataset in use contains contains all categorical variables following one-hot label encoding."
   ]
  },
  {
   "cell_type": "code",
   "execution_count": 153,
   "id": "8faf3895",
   "metadata": {},
   "outputs": [
    {
     "name": "stdout",
     "output_type": "stream",
     "text": [
      "R² training set score: 0.6393471260589041\n",
      "R² testing set score: 0.534738839162484\n"
     ]
    }
   ],
   "source": [
    "# Comparing training to testing results\n",
    "print(f'R² training set score: {lr.score(X_train, y_train)}')\n",
    "print(f'R² testing set score: {lr.score(X_test, y_test)}')"
   ]
  },
  {
   "cell_type": "markdown",
   "id": "110aa3bc",
   "metadata": {},
   "source": [
    "The model appears to be slighlty underfitting with a higher training score than testing."
   ]
  },
  {
   "cell_type": "code",
   "execution_count": 154,
   "id": "82568554",
   "metadata": {},
   "outputs": [],
   "source": [
    "# Calculate the predicted values\n",
    "y_pred = lr.predict(X_test)"
   ]
  },
  {
   "cell_type": "code",
   "execution_count": 155,
   "id": "a10c3a3e",
   "metadata": {},
   "outputs": [
    {
     "data": {
      "text/html": [
       "<div>\n",
       "<style scoped>\n",
       "    .dataframe tbody tr th:only-of-type {\n",
       "        vertical-align: middle;\n",
       "    }\n",
       "\n",
       "    .dataframe tbody tr th {\n",
       "        vertical-align: top;\n",
       "    }\n",
       "\n",
       "    .dataframe thead th {\n",
       "        text-align: right;\n",
       "    }\n",
       "</style>\n",
       "<table border=\"1\" class=\"dataframe\">\n",
       "  <thead>\n",
       "    <tr style=\"text-align: right;\">\n",
       "      <th></th>\n",
       "      <th>Actual</th>\n",
       "      <th>Predicted</th>\n",
       "    </tr>\n",
       "  </thead>\n",
       "  <tbody>\n",
       "    <tr>\n",
       "      <th>9772</th>\n",
       "      <td>25000.0</td>\n",
       "      <td>-1.406327e+06</td>\n",
       "    </tr>\n",
       "    <tr>\n",
       "      <th>2337</th>\n",
       "      <td>500000.0</td>\n",
       "      <td>-1.037822e+06</td>\n",
       "    </tr>\n",
       "    <tr>\n",
       "      <th>9588</th>\n",
       "      <td>100000.0</td>\n",
       "      <td>6.859466e+06</td>\n",
       "    </tr>\n",
       "    <tr>\n",
       "      <th>2233</th>\n",
       "      <td>50000.0</td>\n",
       "      <td>2.608641e+06</td>\n",
       "    </tr>\n",
       "    <tr>\n",
       "      <th>4122</th>\n",
       "      <td>2000000.0</td>\n",
       "      <td>5.488002e+05</td>\n",
       "    </tr>\n",
       "  </tbody>\n",
       "</table>\n",
       "</div>"
      ],
      "text/plain": [
       "         Actual     Predicted\n",
       "9772    25000.0 -1.406327e+06\n",
       "2337   500000.0 -1.037822e+06\n",
       "9588   100000.0  6.859466e+06\n",
       "2233    50000.0  2.608641e+06\n",
       "4122  2000000.0  5.488002e+05"
      ]
     },
     "execution_count": 155,
     "metadata": {},
     "output_type": "execute_result"
    }
   ],
   "source": [
    "# Display the test and predicted values\n",
    "df = pd.DataFrame({'Actual': y_test, 'Predicted': y_pred})\n",
    "df.head()"
   ]
  },
  {
   "cell_type": "markdown",
   "id": "76d6f56d",
   "metadata": {},
   "source": [
    "### <span style=\"color:Teal\">First Split: 80% Training and 20% for Testing</span>"
   ]
  },
  {
   "cell_type": "code",
   "execution_count": 156,
   "id": "fac4cdc2",
   "metadata": {},
   "outputs": [],
   "source": [
    "# Split dataset into training set and test set\n",
    "X_train, X_test, y_train, y_test = train_test_split(X, y, test_size = 0.2,  random_state = 42) "
   ]
  },
  {
   "cell_type": "code",
   "execution_count": 157,
   "id": "ce6aed6d",
   "metadata": {},
   "outputs": [
    {
     "data": {
      "text/plain": [
       "((10168, 373), (10168,), (8134, 373), (2034, 373), (8134,), (2034,))"
      ]
     },
     "execution_count": 157,
     "metadata": {},
     "output_type": "execute_result"
    }
   ],
   "source": [
    "# Show the rows and columns\n",
    "X.shape, y.shape, X_train.shape, X_test.shape, y_train.shape, y_test.shape"
   ]
  },
  {
   "cell_type": "code",
   "execution_count": 158,
   "id": "ad63fb68",
   "metadata": {},
   "outputs": [],
   "source": [
    "#Instantiating a class of Linear Regression \n",
    "lr = LinearRegression()"
   ]
  },
  {
   "cell_type": "code",
   "execution_count": 159,
   "id": "e60211ca",
   "metadata": {},
   "outputs": [
    {
     "data": {
      "text/html": [
       "<style>#sk-container-id-11 {color: black;}#sk-container-id-11 pre{padding: 0;}#sk-container-id-11 div.sk-toggleable {background-color: white;}#sk-container-id-11 label.sk-toggleable__label {cursor: pointer;display: block;width: 100%;margin-bottom: 0;padding: 0.3em;box-sizing: border-box;text-align: center;}#sk-container-id-11 label.sk-toggleable__label-arrow:before {content: \"▸\";float: left;margin-right: 0.25em;color: #696969;}#sk-container-id-11 label.sk-toggleable__label-arrow:hover:before {color: black;}#sk-container-id-11 div.sk-estimator:hover label.sk-toggleable__label-arrow:before {color: black;}#sk-container-id-11 div.sk-toggleable__content {max-height: 0;max-width: 0;overflow: hidden;text-align: left;background-color: #f0f8ff;}#sk-container-id-11 div.sk-toggleable__content pre {margin: 0.2em;color: black;border-radius: 0.25em;background-color: #f0f8ff;}#sk-container-id-11 input.sk-toggleable__control:checked~div.sk-toggleable__content {max-height: 200px;max-width: 100%;overflow: auto;}#sk-container-id-11 input.sk-toggleable__control:checked~label.sk-toggleable__label-arrow:before {content: \"▾\";}#sk-container-id-11 div.sk-estimator input.sk-toggleable__control:checked~label.sk-toggleable__label {background-color: #d4ebff;}#sk-container-id-11 div.sk-label input.sk-toggleable__control:checked~label.sk-toggleable__label {background-color: #d4ebff;}#sk-container-id-11 input.sk-hidden--visually {border: 0;clip: rect(1px 1px 1px 1px);clip: rect(1px, 1px, 1px, 1px);height: 1px;margin: -1px;overflow: hidden;padding: 0;position: absolute;width: 1px;}#sk-container-id-11 div.sk-estimator {font-family: monospace;background-color: #f0f8ff;border: 1px dotted black;border-radius: 0.25em;box-sizing: border-box;margin-bottom: 0.5em;}#sk-container-id-11 div.sk-estimator:hover {background-color: #d4ebff;}#sk-container-id-11 div.sk-parallel-item::after {content: \"\";width: 100%;border-bottom: 1px solid gray;flex-grow: 1;}#sk-container-id-11 div.sk-label:hover label.sk-toggleable__label {background-color: #d4ebff;}#sk-container-id-11 div.sk-serial::before {content: \"\";position: absolute;border-left: 1px solid gray;box-sizing: border-box;top: 0;bottom: 0;left: 50%;z-index: 0;}#sk-container-id-11 div.sk-serial {display: flex;flex-direction: column;align-items: center;background-color: white;padding-right: 0.2em;padding-left: 0.2em;position: relative;}#sk-container-id-11 div.sk-item {position: relative;z-index: 1;}#sk-container-id-11 div.sk-parallel {display: flex;align-items: stretch;justify-content: center;background-color: white;position: relative;}#sk-container-id-11 div.sk-item::before, #sk-container-id-11 div.sk-parallel-item::before {content: \"\";position: absolute;border-left: 1px solid gray;box-sizing: border-box;top: 0;bottom: 0;left: 50%;z-index: -1;}#sk-container-id-11 div.sk-parallel-item {display: flex;flex-direction: column;z-index: 1;position: relative;background-color: white;}#sk-container-id-11 div.sk-parallel-item:first-child::after {align-self: flex-end;width: 50%;}#sk-container-id-11 div.sk-parallel-item:last-child::after {align-self: flex-start;width: 50%;}#sk-container-id-11 div.sk-parallel-item:only-child::after {width: 0;}#sk-container-id-11 div.sk-dashed-wrapped {border: 1px dashed gray;margin: 0 0.4em 0.5em 0.4em;box-sizing: border-box;padding-bottom: 0.4em;background-color: white;}#sk-container-id-11 div.sk-label label {font-family: monospace;font-weight: bold;display: inline-block;line-height: 1.2em;}#sk-container-id-11 div.sk-label-container {text-align: center;}#sk-container-id-11 div.sk-container {/* jupyter's `normalize.less` sets `[hidden] { display: none; }` but bootstrap.min.css set `[hidden] { display: none !important; }` so we also need the `!important` here to be able to override the default hidden behavior on the sphinx rendered scikit-learn.org. See: https://github.com/scikit-learn/scikit-learn/issues/21755 */display: inline-block !important;position: relative;}#sk-container-id-11 div.sk-text-repr-fallback {display: none;}</style><div id=\"sk-container-id-11\" class=\"sk-top-container\"><div class=\"sk-text-repr-fallback\"><pre>LinearRegression()</pre><b>In a Jupyter environment, please rerun this cell to show the HTML representation or trust the notebook. <br />On GitHub, the HTML representation is unable to render, please try loading this page with nbviewer.org.</b></div><div class=\"sk-container\" hidden><div class=\"sk-item\"><div class=\"sk-estimator sk-toggleable\"><input class=\"sk-toggleable__control sk-hidden--visually\" id=\"sk-estimator-id-11\" type=\"checkbox\" checked><label for=\"sk-estimator-id-11\" class=\"sk-toggleable__label sk-toggleable__label-arrow\">LinearRegression</label><div class=\"sk-toggleable__content\"><pre>LinearRegression()</pre></div></div></div></div></div>"
      ],
      "text/plain": [
       "LinearRegression()"
      ]
     },
     "execution_count": 159,
     "metadata": {},
     "output_type": "execute_result"
    }
   ],
   "source": [
    "# Training the model\n",
    "lr.fit(X_train, y_train)"
   ]
  },
  {
   "cell_type": "code",
   "execution_count": 160,
   "id": "1593adf1",
   "metadata": {},
   "outputs": [
    {
     "name": "stdout",
     "output_type": "stream",
     "text": [
      "CV Mean R²:  0.5925111953780882\n",
      "CV STD:  0.03531682361652216\n",
      "Mean Absolute Error (MAE):  3358520.5260272273\n",
      "Mean Squared Error (MSE):  35522385030735.4\n",
      "Root Mean Squared Error (RMSE):  5960065.8579193065\n",
      "R-squared (R²):  0.6380437221618656\n",
      "\n",
      "\n"
     ]
    }
   ],
   "source": [
    "# Calculate the mean values and Standard deviation\n",
    "get_cv_scores(lr)"
   ]
  },
  {
   "cell_type": "markdown",
   "id": "6020d100",
   "metadata": {},
   "source": [
    "The STD on 10-fold CV has reduced considerably from previous models which is promising."
   ]
  },
  {
   "cell_type": "code",
   "execution_count": 161,
   "id": "5b7f27ee",
   "metadata": {},
   "outputs": [
    {
     "name": "stdout",
     "output_type": "stream",
     "text": [
      "CV Mean R²:  0.5925111953780882\n",
      "CV STD:  0.03531682361652216\n",
      "Mean Absolute Error (MAE):  3358520.5260272273\n",
      "Mean Squared Error (MSE):  35522385030735.4\n",
      "Root Mean Squared Error (RMSE):  5960065.8579193065\n",
      "R-squared (R²):  0.6380437221618656\n",
      "\n",
      "\n"
     ]
    }
   ],
   "source": [
    "# Calculate the mean values and Standard deviation\n",
    "get_cv_scores(lr)"
   ]
  },
  {
   "cell_type": "code",
   "execution_count": 162,
   "id": "fa192219",
   "metadata": {},
   "outputs": [
    {
     "name": "stdout",
     "output_type": "stream",
     "text": [
      "R² training set score: 0.6380437221618656\n",
      "R² testing set score: 0.5896746569209096\n"
     ]
    }
   ],
   "source": [
    "# Comparing training to testing results\n",
    "print(f'R² training set score: {lr.score(X_train, y_train)}')\n",
    "print(f'R² testing set score: {lr.score(X_test, y_test)}')"
   ]
  },
  {
   "cell_type": "markdown",
   "id": "4404bd56",
   "metadata": {},
   "source": [
    "The model appears to be generalising better on an 80:20 test:train split."
   ]
  },
  {
   "cell_type": "code",
   "execution_count": 163,
   "id": "5e80ae21",
   "metadata": {},
   "outputs": [],
   "source": [
    "# Calculate the predicted values\n",
    "y_pred = lr.predict(X_test)"
   ]
  },
  {
   "cell_type": "code",
   "execution_count": 164,
   "id": "a72d7cc7",
   "metadata": {},
   "outputs": [
    {
     "data": {
      "text/html": [
       "<div>\n",
       "<style scoped>\n",
       "    .dataframe tbody tr th:only-of-type {\n",
       "        vertical-align: middle;\n",
       "    }\n",
       "\n",
       "    .dataframe tbody tr th {\n",
       "        vertical-align: top;\n",
       "    }\n",
       "\n",
       "    .dataframe thead th {\n",
       "        text-align: right;\n",
       "    }\n",
       "</style>\n",
       "<table border=\"1\" class=\"dataframe\">\n",
       "  <thead>\n",
       "    <tr style=\"text-align: right;\">\n",
       "      <th></th>\n",
       "      <th>Actual</th>\n",
       "      <th>Predicted</th>\n",
       "    </tr>\n",
       "  </thead>\n",
       "  <tbody>\n",
       "    <tr>\n",
       "      <th>9772</th>\n",
       "      <td>25000.0</td>\n",
       "      <td>-1.883180e+06</td>\n",
       "    </tr>\n",
       "    <tr>\n",
       "      <th>2337</th>\n",
       "      <td>500000.0</td>\n",
       "      <td>-8.497077e+05</td>\n",
       "    </tr>\n",
       "    <tr>\n",
       "      <th>9588</th>\n",
       "      <td>100000.0</td>\n",
       "      <td>6.489852e+06</td>\n",
       "    </tr>\n",
       "    <tr>\n",
       "      <th>2233</th>\n",
       "      <td>50000.0</td>\n",
       "      <td>2.881348e+06</td>\n",
       "    </tr>\n",
       "    <tr>\n",
       "      <th>4122</th>\n",
       "      <td>2000000.0</td>\n",
       "      <td>2.108293e+05</td>\n",
       "    </tr>\n",
       "  </tbody>\n",
       "</table>\n",
       "</div>"
      ],
      "text/plain": [
       "         Actual     Predicted\n",
       "9772    25000.0 -1.883180e+06\n",
       "2337   500000.0 -8.497077e+05\n",
       "9588   100000.0  6.489852e+06\n",
       "2233    50000.0  2.881348e+06\n",
       "4122  2000000.0  2.108293e+05"
      ]
     },
     "execution_count": 164,
     "metadata": {},
     "output_type": "execute_result"
    }
   ],
   "source": [
    "# Display the test and predicted values\n",
    "df = pd.DataFrame({'Actual': y_test, 'Predicted': y_pred})\n",
    "df.head()"
   ]
  },
  {
   "cell_type": "markdown",
   "id": "e5ebba86",
   "metadata": {},
   "source": [
    "### <span style=\"color:Teal\">First Split: 70% Training and 30% for Testing</span>"
   ]
  },
  {
   "cell_type": "code",
   "execution_count": 165,
   "id": "cd9108eb",
   "metadata": {},
   "outputs": [],
   "source": [
    "# Split dataset into training set and test set\n",
    "X_train, X_test, y_train, y_test = train_test_split(X, y, test_size = 0.3,  random_state = 42) "
   ]
  },
  {
   "cell_type": "code",
   "execution_count": 166,
   "id": "01714888",
   "metadata": {},
   "outputs": [
    {
     "data": {
      "text/plain": [
       "((10168, 373), (10168,), (7117, 373), (3051, 373), (7117,), (3051,))"
      ]
     },
     "execution_count": 166,
     "metadata": {},
     "output_type": "execute_result"
    }
   ],
   "source": [
    "# Show the rows and columns\n",
    "X.shape, y.shape, X_train.shape, X_test.shape, y_train.shape, y_test.shape"
   ]
  },
  {
   "cell_type": "code",
   "execution_count": 167,
   "id": "50b7f395",
   "metadata": {},
   "outputs": [],
   "source": [
    "#Instantiating a class of Linear Regression \n",
    "lr = LinearRegression()"
   ]
  },
  {
   "cell_type": "code",
   "execution_count": 168,
   "id": "c8e63a60",
   "metadata": {},
   "outputs": [
    {
     "data": {
      "text/html": [
       "<style>#sk-container-id-12 {color: black;}#sk-container-id-12 pre{padding: 0;}#sk-container-id-12 div.sk-toggleable {background-color: white;}#sk-container-id-12 label.sk-toggleable__label {cursor: pointer;display: block;width: 100%;margin-bottom: 0;padding: 0.3em;box-sizing: border-box;text-align: center;}#sk-container-id-12 label.sk-toggleable__label-arrow:before {content: \"▸\";float: left;margin-right: 0.25em;color: #696969;}#sk-container-id-12 label.sk-toggleable__label-arrow:hover:before {color: black;}#sk-container-id-12 div.sk-estimator:hover label.sk-toggleable__label-arrow:before {color: black;}#sk-container-id-12 div.sk-toggleable__content {max-height: 0;max-width: 0;overflow: hidden;text-align: left;background-color: #f0f8ff;}#sk-container-id-12 div.sk-toggleable__content pre {margin: 0.2em;color: black;border-radius: 0.25em;background-color: #f0f8ff;}#sk-container-id-12 input.sk-toggleable__control:checked~div.sk-toggleable__content {max-height: 200px;max-width: 100%;overflow: auto;}#sk-container-id-12 input.sk-toggleable__control:checked~label.sk-toggleable__label-arrow:before {content: \"▾\";}#sk-container-id-12 div.sk-estimator input.sk-toggleable__control:checked~label.sk-toggleable__label {background-color: #d4ebff;}#sk-container-id-12 div.sk-label input.sk-toggleable__control:checked~label.sk-toggleable__label {background-color: #d4ebff;}#sk-container-id-12 input.sk-hidden--visually {border: 0;clip: rect(1px 1px 1px 1px);clip: rect(1px, 1px, 1px, 1px);height: 1px;margin: -1px;overflow: hidden;padding: 0;position: absolute;width: 1px;}#sk-container-id-12 div.sk-estimator {font-family: monospace;background-color: #f0f8ff;border: 1px dotted black;border-radius: 0.25em;box-sizing: border-box;margin-bottom: 0.5em;}#sk-container-id-12 div.sk-estimator:hover {background-color: #d4ebff;}#sk-container-id-12 div.sk-parallel-item::after {content: \"\";width: 100%;border-bottom: 1px solid gray;flex-grow: 1;}#sk-container-id-12 div.sk-label:hover label.sk-toggleable__label {background-color: #d4ebff;}#sk-container-id-12 div.sk-serial::before {content: \"\";position: absolute;border-left: 1px solid gray;box-sizing: border-box;top: 0;bottom: 0;left: 50%;z-index: 0;}#sk-container-id-12 div.sk-serial {display: flex;flex-direction: column;align-items: center;background-color: white;padding-right: 0.2em;padding-left: 0.2em;position: relative;}#sk-container-id-12 div.sk-item {position: relative;z-index: 1;}#sk-container-id-12 div.sk-parallel {display: flex;align-items: stretch;justify-content: center;background-color: white;position: relative;}#sk-container-id-12 div.sk-item::before, #sk-container-id-12 div.sk-parallel-item::before {content: \"\";position: absolute;border-left: 1px solid gray;box-sizing: border-box;top: 0;bottom: 0;left: 50%;z-index: -1;}#sk-container-id-12 div.sk-parallel-item {display: flex;flex-direction: column;z-index: 1;position: relative;background-color: white;}#sk-container-id-12 div.sk-parallel-item:first-child::after {align-self: flex-end;width: 50%;}#sk-container-id-12 div.sk-parallel-item:last-child::after {align-self: flex-start;width: 50%;}#sk-container-id-12 div.sk-parallel-item:only-child::after {width: 0;}#sk-container-id-12 div.sk-dashed-wrapped {border: 1px dashed gray;margin: 0 0.4em 0.5em 0.4em;box-sizing: border-box;padding-bottom: 0.4em;background-color: white;}#sk-container-id-12 div.sk-label label {font-family: monospace;font-weight: bold;display: inline-block;line-height: 1.2em;}#sk-container-id-12 div.sk-label-container {text-align: center;}#sk-container-id-12 div.sk-container {/* jupyter's `normalize.less` sets `[hidden] { display: none; }` but bootstrap.min.css set `[hidden] { display: none !important; }` so we also need the `!important` here to be able to override the default hidden behavior on the sphinx rendered scikit-learn.org. See: https://github.com/scikit-learn/scikit-learn/issues/21755 */display: inline-block !important;position: relative;}#sk-container-id-12 div.sk-text-repr-fallback {display: none;}</style><div id=\"sk-container-id-12\" class=\"sk-top-container\"><div class=\"sk-text-repr-fallback\"><pre>LinearRegression()</pre><b>In a Jupyter environment, please rerun this cell to show the HTML representation or trust the notebook. <br />On GitHub, the HTML representation is unable to render, please try loading this page with nbviewer.org.</b></div><div class=\"sk-container\" hidden><div class=\"sk-item\"><div class=\"sk-estimator sk-toggleable\"><input class=\"sk-toggleable__control sk-hidden--visually\" id=\"sk-estimator-id-12\" type=\"checkbox\" checked><label for=\"sk-estimator-id-12\" class=\"sk-toggleable__label sk-toggleable__label-arrow\">LinearRegression</label><div class=\"sk-toggleable__content\"><pre>LinearRegression()</pre></div></div></div></div></div>"
      ],
      "text/plain": [
       "LinearRegression()"
      ]
     },
     "execution_count": 168,
     "metadata": {},
     "output_type": "execute_result"
    }
   ],
   "source": [
    "# Training the model\n",
    "lr.fit(X_train, y_train)"
   ]
  },
  {
   "cell_type": "code",
   "execution_count": 169,
   "id": "950c32f4",
   "metadata": {},
   "outputs": [
    {
     "name": "stdout",
     "output_type": "stream",
     "text": [
      "CV Mean R²:  0.5772943054300581\n",
      "CV STD:  0.048884699062744605\n",
      "Mean Absolute Error (MAE):  3330076.8223675066\n",
      "Mean Squared Error (MSE):  34664661336619.723\n",
      "Root Mean Squared Error (RMSE):  5887670.280902262\n",
      "R-squared (R²):  0.6396576933509527\n",
      "\n",
      "\n"
     ]
    }
   ],
   "source": [
    "# Calculate the mean values and Standard deviation\n",
    "get_cv_scores(lr)"
   ]
  },
  {
   "cell_type": "code",
   "execution_count": 170,
   "id": "84a989ee",
   "metadata": {},
   "outputs": [
    {
     "name": "stdout",
     "output_type": "stream",
     "text": [
      "R² training set score: 0.6396576933509527\n",
      "R² testing set score: 0.5925137008357042\n"
     ]
    }
   ],
   "source": [
    "# Comparing training to testing results\n",
    "print(f'R² training set score: {lr.score(X_train, y_train)}')\n",
    "print(f'R² testing set score: {lr.score(X_test, y_test)}')"
   ]
  },
  {
   "cell_type": "code",
   "execution_count": 171,
   "id": "97e4491b",
   "metadata": {},
   "outputs": [],
   "source": [
    "# Calculate the predicted values\n",
    "y_pred = lr.predict(X_test)"
   ]
  },
  {
   "cell_type": "code",
   "execution_count": 172,
   "id": "3bc9435c",
   "metadata": {},
   "outputs": [
    {
     "data": {
      "text/html": [
       "<div>\n",
       "<style scoped>\n",
       "    .dataframe tbody tr th:only-of-type {\n",
       "        vertical-align: middle;\n",
       "    }\n",
       "\n",
       "    .dataframe tbody tr th {\n",
       "        vertical-align: top;\n",
       "    }\n",
       "\n",
       "    .dataframe thead th {\n",
       "        text-align: right;\n",
       "    }\n",
       "</style>\n",
       "<table border=\"1\" class=\"dataframe\">\n",
       "  <thead>\n",
       "    <tr style=\"text-align: right;\">\n",
       "      <th></th>\n",
       "      <th>Actual</th>\n",
       "      <th>Predicted</th>\n",
       "    </tr>\n",
       "  </thead>\n",
       "  <tbody>\n",
       "    <tr>\n",
       "      <th>9772</th>\n",
       "      <td>25000.0</td>\n",
       "      <td>-1.555862e+06</td>\n",
       "    </tr>\n",
       "    <tr>\n",
       "      <th>2337</th>\n",
       "      <td>500000.0</td>\n",
       "      <td>-1.276385e+06</td>\n",
       "    </tr>\n",
       "    <tr>\n",
       "      <th>9588</th>\n",
       "      <td>100000.0</td>\n",
       "      <td>6.180624e+06</td>\n",
       "    </tr>\n",
       "    <tr>\n",
       "      <th>2233</th>\n",
       "      <td>50000.0</td>\n",
       "      <td>2.923863e+06</td>\n",
       "    </tr>\n",
       "    <tr>\n",
       "      <th>4122</th>\n",
       "      <td>2000000.0</td>\n",
       "      <td>1.246844e+05</td>\n",
       "    </tr>\n",
       "  </tbody>\n",
       "</table>\n",
       "</div>"
      ],
      "text/plain": [
       "         Actual     Predicted\n",
       "9772    25000.0 -1.555862e+06\n",
       "2337   500000.0 -1.276385e+06\n",
       "9588   100000.0  6.180624e+06\n",
       "2233    50000.0  2.923863e+06\n",
       "4122  2000000.0  1.246844e+05"
      ]
     },
     "execution_count": 172,
     "metadata": {},
     "output_type": "execute_result"
    }
   ],
   "source": [
    "# Display the test and predicted values\n",
    "df = pd.DataFrame({'Actual': y_test, 'Predicted': y_pred})\n",
    "df.head()"
   ]
  },
  {
   "cell_type": "markdown",
   "id": "0cc592fe",
   "metadata": {},
   "source": [
    "Again, the Linear Regression Model is performing better to the data on an 80:20 train:test split."
   ]
  },
  {
   "cell_type": "markdown",
   "id": "db4f9fc9",
   "metadata": {},
   "source": [
    "## Third Model: Linear Regression on Reduced Dummies Dataset ( MinMax Scaled)"
   ]
  },
  {
   "cell_type": "code",
   "execution_count": 173,
   "id": "955dbb5b",
   "metadata": {
    "scrolled": true
   },
   "outputs": [
    {
     "name": "stdout",
     "output_type": "stream",
     "text": [
      "<class 'pandas.core.frame.DataFrame'>\n",
      "RangeIndex: 10168 entries, 0 to 10167\n",
      "Data columns (total 86 columns):\n",
      " #   Column                           Non-Null Count  Dtype  \n",
      "---  ------                           --------------  -----  \n",
      " 0   current_club_id                  10168 non-null  float64\n",
      " 1   height_in_cm                     10168 non-null  float64\n",
      " 2   market_value_in_eur              10168 non-null  float64\n",
      " 3   age                              10168 non-null  float64\n",
      " 4   remaining_contract_days          10168 non-null  float64\n",
      " 5   games_total                      10168 non-null  float64\n",
      " 6   goals_total                      10168 non-null  float64\n",
      " 7   assists_total                    10168 non-null  float64\n",
      " 8   minutes_played_total             10168 non-null  float64\n",
      " 9   goals_for_total                  10168 non-null  float64\n",
      " 10  goals_against_total              10168 non-null  float64\n",
      " 11  clean_sheet_total                10168 non-null  float64\n",
      " 12  yellow_cards_total               10168 non-null  float64\n",
      " 13  red_cards_total                  10168 non-null  float64\n",
      " 14  games_2019                       10168 non-null  float64\n",
      " 15  goals_2019                       10168 non-null  float64\n",
      " 16  assists_2019                     10168 non-null  float64\n",
      " 17  minutes_played_2019              10168 non-null  float64\n",
      " 18  goals_for_2019                   10168 non-null  float64\n",
      " 19  goals_against_2019               10168 non-null  float64\n",
      " 20  clean_sheet_2019                 10168 non-null  float64\n",
      " 21  yellow_cards_2019                10168 non-null  float64\n",
      " 22  red_cards_2019                   10168 non-null  float64\n",
      " 23  games_2020                       10168 non-null  float64\n",
      " 24  goals_2020                       10168 non-null  float64\n",
      " 25  assists_2020                     10168 non-null  float64\n",
      " 26  minutes_played_2020              10168 non-null  float64\n",
      " 27  goals_for_2020                   10168 non-null  float64\n",
      " 28  goals_against_2020               10168 non-null  float64\n",
      " 29  clean_sheet_2020                 10168 non-null  float64\n",
      " 30  yellow_cards_2020                10168 non-null  float64\n",
      " 31  red_cards_2020                   10168 non-null  float64\n",
      " 32  games_2021                       10168 non-null  float64\n",
      " 33  goals_2021                       10168 non-null  float64\n",
      " 34  assists_2021                     10168 non-null  float64\n",
      " 35  minutes_played_2021              10168 non-null  float64\n",
      " 36  goals_for_2021                   10168 non-null  float64\n",
      " 37  goals_against_2021               10168 non-null  float64\n",
      " 38  clean_sheet_2021                 10168 non-null  float64\n",
      " 39  yellow_cards_2021                10168 non-null  float64\n",
      " 40  red_cards_2021                   10168 non-null  float64\n",
      " 41  games_2022                       10168 non-null  float64\n",
      " 42  goals_2022                       10168 non-null  float64\n",
      " 43  assists_2022                     10168 non-null  float64\n",
      " 44  minutes_played_2022              10168 non-null  float64\n",
      " 45  goals_for_2022                   10168 non-null  float64\n",
      " 46  goals_against_2022               10168 non-null  float64\n",
      " 47  clean_sheet_2022                 10168 non-null  float64\n",
      " 48  yellow_cards_2022                10168 non-null  float64\n",
      " 49  red_cards_2022                   10168 non-null  float64\n",
      " 50  games_2023                       10168 non-null  float64\n",
      " 51  goals_2023                       10168 non-null  float64\n",
      " 52  assists_2023                     10168 non-null  float64\n",
      " 53  minutes_played_2023              10168 non-null  float64\n",
      " 54  goals_for_2023                   10168 non-null  float64\n",
      " 55  goals_against_2023               10168 non-null  float64\n",
      " 56  clean_sheet_2023                 10168 non-null  float64\n",
      " 57  yellow_cards_2023                10168 non-null  float64\n",
      " 58  red_cards_2023                   10168 non-null  float64\n",
      " 59  last_season_2022                 10168 non-null  int64  \n",
      " 60  last_season_2023                 10168 non-null  int64  \n",
      " 61  sub_position_Attacking Midfield  10168 non-null  int64  \n",
      " 62  sub_position_Central Midfield    10168 non-null  int64  \n",
      " 63  sub_position_Centre-Back         10168 non-null  int64  \n",
      " 64  sub_position_Centre-Forward      10168 non-null  int64  \n",
      " 65  sub_position_Defensive Midfield  10168 non-null  int64  \n",
      " 66  sub_position_Goalkeeper          10168 non-null  int64  \n",
      " 67  sub_position_Left Midfield       10168 non-null  int64  \n",
      " 68  sub_position_Left Winger         10168 non-null  int64  \n",
      " 69  sub_position_Left-Back           10168 non-null  int64  \n",
      " 70  sub_position_Right Midfield      10168 non-null  int64  \n",
      " 71  sub_position_Right Winger        10168 non-null  int64  \n",
      " 72  sub_position_Right-Back          10168 non-null  int64  \n",
      " 73  sub_position_Second Striker      10168 non-null  int64  \n",
      " 74  position_Attack                  10168 non-null  int64  \n",
      " 75  position_Defender                10168 non-null  int64  \n",
      " 76  position_Goalkeeper              10168 non-null  int64  \n",
      " 77  position_Midfield                10168 non-null  int64  \n",
      " 78  foot_both                        10168 non-null  int64  \n",
      " 79  foot_left                        10168 non-null  int64  \n",
      " 80  foot_right                       10168 non-null  int64  \n",
      " 81  age_group_Ages 22 - 26           10168 non-null  int64  \n",
      " 82  age_group_Ages 27 - 32           10168 non-null  int64  \n",
      " 83  age_group_Ages 33 - 38           10168 non-null  int64  \n",
      " 84  age_group_Ages 39 - 44           10168 non-null  int64  \n",
      " 85  age_group_Ages Under 22          10168 non-null  int64  \n",
      "dtypes: float64(59), int64(27)\n",
      "memory usage: 6.7 MB\n"
     ]
    }
   ],
   "source": [
    "df8_dummies_essential_mm_scaled.info()"
   ]
  },
  {
   "cell_type": "markdown",
   "id": "e4ef3ef8",
   "metadata": {},
   "source": [
    "#### <span style=\"color:Teal\">Isolating target Variable</span>"
   ]
  },
  {
   "cell_type": "code",
   "execution_count": 174,
   "id": "8aff7ed0",
   "metadata": {},
   "outputs": [],
   "source": [
    "y = df8_dummies_essential_mm_scaled['market_value_in_eur']"
   ]
  },
  {
   "cell_type": "code",
   "execution_count": 175,
   "id": "c16fa76d",
   "metadata": {},
   "outputs": [
    {
     "data": {
      "text/plain": [
       "(10168,)"
      ]
     },
     "execution_count": 175,
     "metadata": {},
     "output_type": "execute_result"
    }
   ],
   "source": [
    "y.shape"
   ]
  },
  {
   "cell_type": "code",
   "execution_count": 176,
   "id": "016efaca",
   "metadata": {},
   "outputs": [],
   "source": [
    "X = df8_dummies_essential_mm_scaled.drop(['market_value_in_eur'], axis = 1)"
   ]
  },
  {
   "cell_type": "code",
   "execution_count": 177,
   "id": "5af7f6f3",
   "metadata": {},
   "outputs": [
    {
     "data": {
      "text/plain": [
       "(10168, 85)"
      ]
     },
     "execution_count": 177,
     "metadata": {},
     "output_type": "execute_result"
    }
   ],
   "source": [
    "X.shape"
   ]
  },
  {
   "cell_type": "markdown",
   "id": "9c307a75",
   "metadata": {},
   "source": [
    "### <span style=\"color:Teal\">Split: 80% Training and 20% for Testing</span>"
   ]
  },
  {
   "cell_type": "code",
   "execution_count": 178,
   "id": "25205a04",
   "metadata": {},
   "outputs": [],
   "source": [
    "# Split dataset into training set and test set\n",
    "X_train, X_test, y_train, y_test = train_test_split(X, y, test_size = 0.2,  random_state = 42) "
   ]
  },
  {
   "cell_type": "code",
   "execution_count": 179,
   "id": "73149586",
   "metadata": {},
   "outputs": [
    {
     "data": {
      "text/plain": [
       "((10168, 85), (10168,), (8134, 85), (2034, 85), (8134,), (2034,))"
      ]
     },
     "execution_count": 179,
     "metadata": {},
     "output_type": "execute_result"
    }
   ],
   "source": [
    "# Show the rows and columns\n",
    "X.shape, y.shape, X_train.shape, X_test.shape, y_train.shape, y_test.shape"
   ]
  },
  {
   "cell_type": "code",
   "execution_count": 180,
   "id": "6d5e7dcd",
   "metadata": {},
   "outputs": [],
   "source": [
    "#Instantiating a class of Linear Regression \n",
    "lr = LinearRegression()"
   ]
  },
  {
   "cell_type": "code",
   "execution_count": 181,
   "id": "ee79279f",
   "metadata": {},
   "outputs": [
    {
     "data": {
      "text/html": [
       "<style>#sk-container-id-13 {color: black;}#sk-container-id-13 pre{padding: 0;}#sk-container-id-13 div.sk-toggleable {background-color: white;}#sk-container-id-13 label.sk-toggleable__label {cursor: pointer;display: block;width: 100%;margin-bottom: 0;padding: 0.3em;box-sizing: border-box;text-align: center;}#sk-container-id-13 label.sk-toggleable__label-arrow:before {content: \"▸\";float: left;margin-right: 0.25em;color: #696969;}#sk-container-id-13 label.sk-toggleable__label-arrow:hover:before {color: black;}#sk-container-id-13 div.sk-estimator:hover label.sk-toggleable__label-arrow:before {color: black;}#sk-container-id-13 div.sk-toggleable__content {max-height: 0;max-width: 0;overflow: hidden;text-align: left;background-color: #f0f8ff;}#sk-container-id-13 div.sk-toggleable__content pre {margin: 0.2em;color: black;border-radius: 0.25em;background-color: #f0f8ff;}#sk-container-id-13 input.sk-toggleable__control:checked~div.sk-toggleable__content {max-height: 200px;max-width: 100%;overflow: auto;}#sk-container-id-13 input.sk-toggleable__control:checked~label.sk-toggleable__label-arrow:before {content: \"▾\";}#sk-container-id-13 div.sk-estimator input.sk-toggleable__control:checked~label.sk-toggleable__label {background-color: #d4ebff;}#sk-container-id-13 div.sk-label input.sk-toggleable__control:checked~label.sk-toggleable__label {background-color: #d4ebff;}#sk-container-id-13 input.sk-hidden--visually {border: 0;clip: rect(1px 1px 1px 1px);clip: rect(1px, 1px, 1px, 1px);height: 1px;margin: -1px;overflow: hidden;padding: 0;position: absolute;width: 1px;}#sk-container-id-13 div.sk-estimator {font-family: monospace;background-color: #f0f8ff;border: 1px dotted black;border-radius: 0.25em;box-sizing: border-box;margin-bottom: 0.5em;}#sk-container-id-13 div.sk-estimator:hover {background-color: #d4ebff;}#sk-container-id-13 div.sk-parallel-item::after {content: \"\";width: 100%;border-bottom: 1px solid gray;flex-grow: 1;}#sk-container-id-13 div.sk-label:hover label.sk-toggleable__label {background-color: #d4ebff;}#sk-container-id-13 div.sk-serial::before {content: \"\";position: absolute;border-left: 1px solid gray;box-sizing: border-box;top: 0;bottom: 0;left: 50%;z-index: 0;}#sk-container-id-13 div.sk-serial {display: flex;flex-direction: column;align-items: center;background-color: white;padding-right: 0.2em;padding-left: 0.2em;position: relative;}#sk-container-id-13 div.sk-item {position: relative;z-index: 1;}#sk-container-id-13 div.sk-parallel {display: flex;align-items: stretch;justify-content: center;background-color: white;position: relative;}#sk-container-id-13 div.sk-item::before, #sk-container-id-13 div.sk-parallel-item::before {content: \"\";position: absolute;border-left: 1px solid gray;box-sizing: border-box;top: 0;bottom: 0;left: 50%;z-index: -1;}#sk-container-id-13 div.sk-parallel-item {display: flex;flex-direction: column;z-index: 1;position: relative;background-color: white;}#sk-container-id-13 div.sk-parallel-item:first-child::after {align-self: flex-end;width: 50%;}#sk-container-id-13 div.sk-parallel-item:last-child::after {align-self: flex-start;width: 50%;}#sk-container-id-13 div.sk-parallel-item:only-child::after {width: 0;}#sk-container-id-13 div.sk-dashed-wrapped {border: 1px dashed gray;margin: 0 0.4em 0.5em 0.4em;box-sizing: border-box;padding-bottom: 0.4em;background-color: white;}#sk-container-id-13 div.sk-label label {font-family: monospace;font-weight: bold;display: inline-block;line-height: 1.2em;}#sk-container-id-13 div.sk-label-container {text-align: center;}#sk-container-id-13 div.sk-container {/* jupyter's `normalize.less` sets `[hidden] { display: none; }` but bootstrap.min.css set `[hidden] { display: none !important; }` so we also need the `!important` here to be able to override the default hidden behavior on the sphinx rendered scikit-learn.org. See: https://github.com/scikit-learn/scikit-learn/issues/21755 */display: inline-block !important;position: relative;}#sk-container-id-13 div.sk-text-repr-fallback {display: none;}</style><div id=\"sk-container-id-13\" class=\"sk-top-container\"><div class=\"sk-text-repr-fallback\"><pre>LinearRegression()</pre><b>In a Jupyter environment, please rerun this cell to show the HTML representation or trust the notebook. <br />On GitHub, the HTML representation is unable to render, please try loading this page with nbviewer.org.</b></div><div class=\"sk-container\" hidden><div class=\"sk-item\"><div class=\"sk-estimator sk-toggleable\"><input class=\"sk-toggleable__control sk-hidden--visually\" id=\"sk-estimator-id-13\" type=\"checkbox\" checked><label for=\"sk-estimator-id-13\" class=\"sk-toggleable__label sk-toggleable__label-arrow\">LinearRegression</label><div class=\"sk-toggleable__content\"><pre>LinearRegression()</pre></div></div></div></div></div>"
      ],
      "text/plain": [
       "LinearRegression()"
      ]
     },
     "execution_count": 181,
     "metadata": {},
     "output_type": "execute_result"
    }
   ],
   "source": [
    "# Training the model\n",
    "lr.fit(X_train, y_train)"
   ]
  },
  {
   "cell_type": "code",
   "execution_count": 182,
   "id": "38cb69d8",
   "metadata": {},
   "outputs": [
    {
     "name": "stdout",
     "output_type": "stream",
     "text": [
      "CV Mean R²:  0.47469745697051485\n",
      "CV STD:  0.051922159970132824\n",
      "Mean Absolute Error (MAE):  0.020992143524748232\n",
      "Mean Squared Error (MSE):  0.0015151055411705878\n",
      "Root Mean Squared Error (RMSE):  0.03892435665711879\n",
      "R-squared (R²):  0.4998576427754219\n",
      "\n",
      "\n"
     ]
    }
   ],
   "source": [
    "# Calculate the mean values and Standard deviation\n",
    "get_cv_scores(lr)"
   ]
  },
  {
   "cell_type": "code",
   "execution_count": 183,
   "id": "775b6973",
   "metadata": {},
   "outputs": [
    {
     "name": "stdout",
     "output_type": "stream",
     "text": [
      "R² training set score: 0.4998576427754219\n",
      "R² testing set score: 0.45659404721508934\n"
     ]
    }
   ],
   "source": [
    "# Comparing training to testing results\n",
    "print(f'R² training set score: {lr.score(X_train, y_train)}')\n",
    "print(f'R² testing set score: {lr.score(X_test, y_test)}')"
   ]
  },
  {
   "cell_type": "code",
   "execution_count": 184,
   "id": "8ee81a39",
   "metadata": {},
   "outputs": [],
   "source": [
    "# Calculate the predicted values\n",
    "y_pred = lr.predict(X_test)"
   ]
  },
  {
   "cell_type": "code",
   "execution_count": null,
   "id": "c094f8ae",
   "metadata": {},
   "outputs": [],
   "source": [
    "# Display the test and predicted values\n",
    "df = pd.DataFrame({'Actual': y_test, 'Predicted': y_pred})\n",
    "df.head()"
   ]
  },
  {
   "cell_type": "markdown",
   "id": "b6d563d4",
   "metadata": {},
   "source": [
    "The model evaluation scores are worse on this dataset. This dataset contains a select few categorical variables in last_season, foot, position, sub_position and age_group which have been one-hot label encoded and numerical varaiables scaled with the MinMax Scaler."
   ]
  },
  {
   "cell_type": "markdown",
   "id": "e354e5fa",
   "metadata": {},
   "source": [
    "## Third Model: Linear Regression on Full Dummies Dataset ( MinMax Scaled)"
   ]
  },
  {
   "cell_type": "code",
   "execution_count": 203,
   "id": "81035cad",
   "metadata": {},
   "outputs": [
    {
     "data": {
      "text/plain": [
       "(10168, 374)"
      ]
     },
     "execution_count": 203,
     "metadata": {},
     "output_type": "execute_result"
    }
   ],
   "source": [
    "df8_dummies_all_mm_scaled.shape"
   ]
  },
  {
   "cell_type": "code",
   "execution_count": 204,
   "id": "dc18e17d",
   "metadata": {},
   "outputs": [
    {
     "name": "stdout",
     "output_type": "stream",
     "text": [
      "<class 'pandas.core.frame.DataFrame'>\n",
      "RangeIndex: 10168 entries, 0 to 10167\n",
      "Columns: 374 entries, current_club_id to current_club_name_Ümraniyespor\n",
      "dtypes: float64(59), int64(315)\n",
      "memory usage: 29.0 MB\n"
     ]
    }
   ],
   "source": [
    "df8_dummies_all_mm_scaled.info()"
   ]
  },
  {
   "cell_type": "markdown",
   "id": "f57c064c",
   "metadata": {},
   "source": [
    "#### <span style=\"color:Teal\">Isolating target Variable</span>"
   ]
  },
  {
   "cell_type": "code",
   "execution_count": 205,
   "id": "66470095",
   "metadata": {},
   "outputs": [],
   "source": [
    "y = df8_dummies_all_mm_scaled['market_value_in_eur']"
   ]
  },
  {
   "cell_type": "code",
   "execution_count": 206,
   "id": "ac8e77ab",
   "metadata": {},
   "outputs": [
    {
     "data": {
      "text/plain": [
       "(10168,)"
      ]
     },
     "execution_count": 206,
     "metadata": {},
     "output_type": "execute_result"
    }
   ],
   "source": [
    "y.shape"
   ]
  },
  {
   "cell_type": "code",
   "execution_count": 207,
   "id": "015ba75d",
   "metadata": {},
   "outputs": [],
   "source": [
    "X = df8_dummies_all_mm_scaled.drop(['market_value_in_eur'], axis = 1)"
   ]
  },
  {
   "cell_type": "code",
   "execution_count": 208,
   "id": "be54a698",
   "metadata": {},
   "outputs": [
    {
     "data": {
      "text/plain": [
       "(10168, 373)"
      ]
     },
     "execution_count": 208,
     "metadata": {},
     "output_type": "execute_result"
    }
   ],
   "source": [
    "X.shape"
   ]
  },
  {
   "cell_type": "markdown",
   "id": "28820c27",
   "metadata": {},
   "source": [
    "### <span style=\"color:Teal\">Split: 80% Training and 20% for Testing</span>"
   ]
  },
  {
   "cell_type": "code",
   "execution_count": 209,
   "id": "e896bb8b",
   "metadata": {},
   "outputs": [],
   "source": [
    "# Split dataset into training set and test set\n",
    "X_train, X_test, y_train, y_test = train_test_split(X, y, test_size = 0.2,  random_state = 42) "
   ]
  },
  {
   "cell_type": "code",
   "execution_count": 210,
   "id": "2b6f7d5d",
   "metadata": {},
   "outputs": [
    {
     "data": {
      "text/plain": [
       "((10168, 373), (10168,), (8134, 373), (2034, 373), (8134,), (2034,))"
      ]
     },
     "execution_count": 210,
     "metadata": {},
     "output_type": "execute_result"
    }
   ],
   "source": [
    "# Show the rows and columns\n",
    "X.shape, y.shape, X_train.shape, X_test.shape, y_train.shape, y_test.shape"
   ]
  },
  {
   "cell_type": "code",
   "execution_count": 211,
   "id": "769f380b",
   "metadata": {},
   "outputs": [],
   "source": [
    "#Instantiating a class of Linear Regression \n",
    "lr = LinearRegression()"
   ]
  },
  {
   "cell_type": "code",
   "execution_count": 212,
   "id": "1f0b5d1e",
   "metadata": {},
   "outputs": [
    {
     "data": {
      "text/html": [
       "<style>#sk-container-id-15 {color: black;}#sk-container-id-15 pre{padding: 0;}#sk-container-id-15 div.sk-toggleable {background-color: white;}#sk-container-id-15 label.sk-toggleable__label {cursor: pointer;display: block;width: 100%;margin-bottom: 0;padding: 0.3em;box-sizing: border-box;text-align: center;}#sk-container-id-15 label.sk-toggleable__label-arrow:before {content: \"▸\";float: left;margin-right: 0.25em;color: #696969;}#sk-container-id-15 label.sk-toggleable__label-arrow:hover:before {color: black;}#sk-container-id-15 div.sk-estimator:hover label.sk-toggleable__label-arrow:before {color: black;}#sk-container-id-15 div.sk-toggleable__content {max-height: 0;max-width: 0;overflow: hidden;text-align: left;background-color: #f0f8ff;}#sk-container-id-15 div.sk-toggleable__content pre {margin: 0.2em;color: black;border-radius: 0.25em;background-color: #f0f8ff;}#sk-container-id-15 input.sk-toggleable__control:checked~div.sk-toggleable__content {max-height: 200px;max-width: 100%;overflow: auto;}#sk-container-id-15 input.sk-toggleable__control:checked~label.sk-toggleable__label-arrow:before {content: \"▾\";}#sk-container-id-15 div.sk-estimator input.sk-toggleable__control:checked~label.sk-toggleable__label {background-color: #d4ebff;}#sk-container-id-15 div.sk-label input.sk-toggleable__control:checked~label.sk-toggleable__label {background-color: #d4ebff;}#sk-container-id-15 input.sk-hidden--visually {border: 0;clip: rect(1px 1px 1px 1px);clip: rect(1px, 1px, 1px, 1px);height: 1px;margin: -1px;overflow: hidden;padding: 0;position: absolute;width: 1px;}#sk-container-id-15 div.sk-estimator {font-family: monospace;background-color: #f0f8ff;border: 1px dotted black;border-radius: 0.25em;box-sizing: border-box;margin-bottom: 0.5em;}#sk-container-id-15 div.sk-estimator:hover {background-color: #d4ebff;}#sk-container-id-15 div.sk-parallel-item::after {content: \"\";width: 100%;border-bottom: 1px solid gray;flex-grow: 1;}#sk-container-id-15 div.sk-label:hover label.sk-toggleable__label {background-color: #d4ebff;}#sk-container-id-15 div.sk-serial::before {content: \"\";position: absolute;border-left: 1px solid gray;box-sizing: border-box;top: 0;bottom: 0;left: 50%;z-index: 0;}#sk-container-id-15 div.sk-serial {display: flex;flex-direction: column;align-items: center;background-color: white;padding-right: 0.2em;padding-left: 0.2em;position: relative;}#sk-container-id-15 div.sk-item {position: relative;z-index: 1;}#sk-container-id-15 div.sk-parallel {display: flex;align-items: stretch;justify-content: center;background-color: white;position: relative;}#sk-container-id-15 div.sk-item::before, #sk-container-id-15 div.sk-parallel-item::before {content: \"\";position: absolute;border-left: 1px solid gray;box-sizing: border-box;top: 0;bottom: 0;left: 50%;z-index: -1;}#sk-container-id-15 div.sk-parallel-item {display: flex;flex-direction: column;z-index: 1;position: relative;background-color: white;}#sk-container-id-15 div.sk-parallel-item:first-child::after {align-self: flex-end;width: 50%;}#sk-container-id-15 div.sk-parallel-item:last-child::after {align-self: flex-start;width: 50%;}#sk-container-id-15 div.sk-parallel-item:only-child::after {width: 0;}#sk-container-id-15 div.sk-dashed-wrapped {border: 1px dashed gray;margin: 0 0.4em 0.5em 0.4em;box-sizing: border-box;padding-bottom: 0.4em;background-color: white;}#sk-container-id-15 div.sk-label label {font-family: monospace;font-weight: bold;display: inline-block;line-height: 1.2em;}#sk-container-id-15 div.sk-label-container {text-align: center;}#sk-container-id-15 div.sk-container {/* jupyter's `normalize.less` sets `[hidden] { display: none; }` but bootstrap.min.css set `[hidden] { display: none !important; }` so we also need the `!important` here to be able to override the default hidden behavior on the sphinx rendered scikit-learn.org. See: https://github.com/scikit-learn/scikit-learn/issues/21755 */display: inline-block !important;position: relative;}#sk-container-id-15 div.sk-text-repr-fallback {display: none;}</style><div id=\"sk-container-id-15\" class=\"sk-top-container\"><div class=\"sk-text-repr-fallback\"><pre>LinearRegression()</pre><b>In a Jupyter environment, please rerun this cell to show the HTML representation or trust the notebook. <br />On GitHub, the HTML representation is unable to render, please try loading this page with nbviewer.org.</b></div><div class=\"sk-container\" hidden><div class=\"sk-item\"><div class=\"sk-estimator sk-toggleable\"><input class=\"sk-toggleable__control sk-hidden--visually\" id=\"sk-estimator-id-15\" type=\"checkbox\" checked><label for=\"sk-estimator-id-15\" class=\"sk-toggleable__label sk-toggleable__label-arrow\">LinearRegression</label><div class=\"sk-toggleable__content\"><pre>LinearRegression()</pre></div></div></div></div></div>"
      ],
      "text/plain": [
       "LinearRegression()"
      ]
     },
     "execution_count": 212,
     "metadata": {},
     "output_type": "execute_result"
    }
   ],
   "source": [
    "# Training the model\n",
    "lr.fit(X_train, y_train)"
   ]
  },
  {
   "cell_type": "code",
   "execution_count": 213,
   "id": "bfb292be",
   "metadata": {},
   "outputs": [
    {
     "name": "stdout",
     "output_type": "stream",
     "text": [
      "CV Mean R²:  0.5916710096578333\n",
      "CV STD:  0.0358957904861988\n",
      "Mean Absolute Error (MAE):  0.018642846626075762\n",
      "Mean Squared Error (MSE):  0.0010963330601905354\n",
      "Root Mean Squared Error (RMSE):  0.033110920557884456\n",
      "R-squared (R²):  0.6380961021347137\n",
      "\n",
      "\n"
     ]
    }
   ],
   "source": [
    "# Calculate the mean values and Standard deviation\n",
    "get_cv_scores(lr)"
   ]
  },
  {
   "cell_type": "markdown",
   "id": "2c3adb97",
   "metadata": {},
   "source": [
    "This Model on MinMAx scaled data results indicate good generalising of the model."
   ]
  },
  {
   "cell_type": "code",
   "execution_count": 214,
   "id": "b65caa8b",
   "metadata": {},
   "outputs": [
    {
     "name": "stdout",
     "output_type": "stream",
     "text": [
      "R² training set score: 0.6380961021347137\n",
      "R² testing set score: 0.5899301185366463\n"
     ]
    }
   ],
   "source": [
    "# Comparing training to testing results\n",
    "print(f'R² training set score: {lr.score(X_train, y_train)}')\n",
    "print(f'R² testing set score: {lr.score(X_test, y_test)}')"
   ]
  },
  {
   "cell_type": "code",
   "execution_count": 215,
   "id": "4ab07c93",
   "metadata": {},
   "outputs": [],
   "source": [
    "# Calculate the predicted values\n",
    "y_pred = lr.predict(X_test)"
   ]
  },
  {
   "cell_type": "code",
   "execution_count": 216,
   "id": "6c96f720",
   "metadata": {},
   "outputs": [
    {
     "data": {
      "text/html": [
       "<div>\n",
       "<style scoped>\n",
       "    .dataframe tbody tr th:only-of-type {\n",
       "        vertical-align: middle;\n",
       "    }\n",
       "\n",
       "    .dataframe tbody tr th {\n",
       "        vertical-align: top;\n",
       "    }\n",
       "\n",
       "    .dataframe thead th {\n",
       "        text-align: right;\n",
       "    }\n",
       "</style>\n",
       "<table border=\"1\" class=\"dataframe\">\n",
       "  <thead>\n",
       "    <tr style=\"text-align: right;\">\n",
       "      <th></th>\n",
       "      <th>Actual</th>\n",
       "      <th>Predicted</th>\n",
       "    </tr>\n",
       "  </thead>\n",
       "  <tbody>\n",
       "    <tr>\n",
       "      <th>9772</th>\n",
       "      <td>0.000083</td>\n",
       "      <td>-0.009621</td>\n",
       "    </tr>\n",
       "    <tr>\n",
       "      <th>2337</th>\n",
       "      <td>0.002722</td>\n",
       "      <td>-0.005655</td>\n",
       "    </tr>\n",
       "    <tr>\n",
       "      <th>9588</th>\n",
       "      <td>0.000500</td>\n",
       "      <td>0.035402</td>\n",
       "    </tr>\n",
       "    <tr>\n",
       "      <th>2233</th>\n",
       "      <td>0.000222</td>\n",
       "      <td>0.015766</td>\n",
       "    </tr>\n",
       "    <tr>\n",
       "      <th>4122</th>\n",
       "      <td>0.011056</td>\n",
       "      <td>0.001451</td>\n",
       "    </tr>\n",
       "  </tbody>\n",
       "</table>\n",
       "</div>"
      ],
      "text/plain": [
       "        Actual  Predicted\n",
       "9772  0.000083  -0.009621\n",
       "2337  0.002722  -0.005655\n",
       "9588  0.000500   0.035402\n",
       "2233  0.000222   0.015766\n",
       "4122  0.011056   0.001451"
      ]
     },
     "execution_count": 216,
     "metadata": {},
     "output_type": "execute_result"
    }
   ],
   "source": [
    "# Display the test and predicted values\n",
    "df = pd.DataFrame({'Actual': y_test, 'Predicted': y_pred})\n",
    "df.head()"
   ]
  },
  {
   "cell_type": "markdown",
   "id": "091001b3",
   "metadata": {},
   "source": [
    "The models so far are definitely performing better on the larger datasets with all features."
   ]
  },
  {
   "cell_type": "markdown",
   "id": "cc22ca03",
   "metadata": {},
   "source": [
    "## Fourth Model: Linear Regression on  Dummies Dataset  with Feature Selection based on Pearson Correlation( Robust Scaled)"
   ]
  },
  {
   "cell_type": "code",
   "execution_count": 219,
   "id": "05c06c29",
   "metadata": {},
   "outputs": [
    {
     "data": {
      "text/plain": [
       "(10168, 65)"
      ]
     },
     "execution_count": 219,
     "metadata": {},
     "output_type": "execute_result"
    }
   ],
   "source": [
    "df8_dummies_all_fs_rb_scaled.shape"
   ]
  },
  {
   "cell_type": "code",
   "execution_count": 220,
   "id": "9cfbf01e",
   "metadata": {
    "scrolled": true
   },
   "outputs": [
    {
     "name": "stdout",
     "output_type": "stream",
     "text": [
      "<class 'pandas.core.frame.DataFrame'>\n",
      "RangeIndex: 10168 entries, 0 to 10167\n",
      "Data columns (total 65 columns):\n",
      " #   Column                                    Non-Null Count  Dtype  \n",
      "---  ------                                    --------------  -----  \n",
      " 0   current_club_id                           10168 non-null  float64\n",
      " 1   market_value_in_eur                       10168 non-null  float64\n",
      " 2   remaining_contract_days                   10168 non-null  float64\n",
      " 3   games_total                               10168 non-null  float64\n",
      " 4   goals_total                               10168 non-null  float64\n",
      " 5   assists_total                             10168 non-null  float64\n",
      " 6   minutes_played_total                      10168 non-null  float64\n",
      " 7   goals_for_total                           10168 non-null  float64\n",
      " 8   goals_against_total                       10168 non-null  float64\n",
      " 9   clean_sheet_total                         10168 non-null  float64\n",
      " 10  yellow_cards_total                        10168 non-null  float64\n",
      " 11  red_cards_total                           10168 non-null  float64\n",
      " 12  games_2019                                10168 non-null  float64\n",
      " 13  goals_2019                                10168 non-null  float64\n",
      " 14  assists_2019                              10168 non-null  float64\n",
      " 15  minutes_played_2019                       10168 non-null  float64\n",
      " 16  goals_for_2019                            10168 non-null  float64\n",
      " 17  goals_against_2019                        10168 non-null  float64\n",
      " 18  clean_sheet_2019                          10168 non-null  float64\n",
      " 19  yellow_cards_2019                         10168 non-null  float64\n",
      " 20  games_2020                                10168 non-null  float64\n",
      " 21  goals_2020                                10168 non-null  float64\n",
      " 22  assists_2020                              10168 non-null  float64\n",
      " 23  minutes_played_2020                       10168 non-null  float64\n",
      " 24  goals_for_2020                            10168 non-null  float64\n",
      " 25  goals_against_2020                        10168 non-null  float64\n",
      " 26  clean_sheet_2020                          10168 non-null  float64\n",
      " 27  yellow_cards_2020                         10168 non-null  float64\n",
      " 28  games_2021                                10168 non-null  float64\n",
      " 29  goals_2021                                10168 non-null  float64\n",
      " 30  assists_2021                              10168 non-null  float64\n",
      " 31  minutes_played_2021                       10168 non-null  float64\n",
      " 32  goals_for_2021                            10168 non-null  float64\n",
      " 33  goals_against_2021                        10168 non-null  float64\n",
      " 34  clean_sheet_2021                          10168 non-null  float64\n",
      " 35  yellow_cards_2021                         10168 non-null  float64\n",
      " 36  games_2022                                10168 non-null  float64\n",
      " 37  goals_2022                                10168 non-null  float64\n",
      " 38  assists_2022                              10168 non-null  float64\n",
      " 39  minutes_played_2022                       10168 non-null  float64\n",
      " 40  goals_for_2022                            10168 non-null  float64\n",
      " 41  goals_against_2022                        10168 non-null  float64\n",
      " 42  clean_sheet_2022                          10168 non-null  float64\n",
      " 43  yellow_cards_2022                         10168 non-null  float64\n",
      " 44  games_2023                                10168 non-null  float64\n",
      " 45  goals_2023                                10168 non-null  float64\n",
      " 46  assists_2023                              10168 non-null  float64\n",
      " 47  minutes_played_2023                       10168 non-null  float64\n",
      " 48  goals_for_2023                            10168 non-null  float64\n",
      " 49  goals_against_2023                        10168 non-null  float64\n",
      " 50  clean_sheet_2023                          10168 non-null  float64\n",
      " 51  yellow_cards_2023                         10168 non-null  float64\n",
      " 52  last_season_2022                          10168 non-null  int64  \n",
      " 53  last_season_2023                          10168 non-null  int64  \n",
      " 54  current_club_domestic_competition_id_GB1  10168 non-null  int64  \n",
      " 55  current_club_name_Arsenal FC              10168 non-null  int64  \n",
      " 56  current_club_name_Bayern Munich           10168 non-null  int64  \n",
      " 57  current_club_name_Chelsea FC              10168 non-null  int64  \n",
      " 58  current_club_name_FC Barcelona            10168 non-null  int64  \n",
      " 59  current_club_name_Liverpool FC            10168 non-null  int64  \n",
      " 60  current_club_name_Manchester City         10168 non-null  int64  \n",
      " 61  current_club_name_Manchester United       10168 non-null  int64  \n",
      " 62  current_club_name_Paris Saint-Germain     10168 non-null  int64  \n",
      " 63  current_club_name_Real Madrid             10168 non-null  int64  \n",
      " 64  current_club_name_Tottenham Hotspur       10168 non-null  int64  \n",
      "dtypes: float64(52), int64(13)\n",
      "memory usage: 5.0 MB\n"
     ]
    }
   ],
   "source": [
    "df8_dummies_all_fs_rb_scaled.info()"
   ]
  },
  {
   "cell_type": "markdown",
   "id": "f6a902d9",
   "metadata": {},
   "source": [
    "#### <span style=\"color:Teal\">Isolating target Variable</span>"
   ]
  },
  {
   "cell_type": "code",
   "execution_count": 221,
   "id": "3b1ebb40",
   "metadata": {},
   "outputs": [],
   "source": [
    "y = df8_dummies_all_fs_rb_scaled['market_value_in_eur']"
   ]
  },
  {
   "cell_type": "code",
   "execution_count": 222,
   "id": "da2f5003",
   "metadata": {},
   "outputs": [
    {
     "data": {
      "text/plain": [
       "(10168,)"
      ]
     },
     "execution_count": 222,
     "metadata": {},
     "output_type": "execute_result"
    }
   ],
   "source": [
    "y.shape"
   ]
  },
  {
   "cell_type": "code",
   "execution_count": 223,
   "id": "67a06789",
   "metadata": {},
   "outputs": [],
   "source": [
    "X = df8_dummies_all_fs_rb_scaled.drop(['market_value_in_eur'], axis = 1)"
   ]
  },
  {
   "cell_type": "code",
   "execution_count": 225,
   "id": "1ac5d663",
   "metadata": {},
   "outputs": [
    {
     "data": {
      "text/plain": [
       "(10168, 64)"
      ]
     },
     "execution_count": 225,
     "metadata": {},
     "output_type": "execute_result"
    }
   ],
   "source": [
    "X.shape"
   ]
  },
  {
   "cell_type": "markdown",
   "id": "ccbfbfa5",
   "metadata": {},
   "source": [
    "### <span style=\"color:Teal\">Split: 80% Training and 20% for Testing</span>"
   ]
  },
  {
   "cell_type": "code",
   "execution_count": 226,
   "id": "7055e914",
   "metadata": {},
   "outputs": [],
   "source": [
    "# Split dataset into training set and test set\n",
    "X_train, X_test, y_train, y_test = train_test_split(X, y, test_size = 0.2,  random_state = 42) "
   ]
  },
  {
   "cell_type": "code",
   "execution_count": 227,
   "id": "370b3c15",
   "metadata": {},
   "outputs": [
    {
     "data": {
      "text/plain": [
       "((10168, 64), (10168,), (8134, 64), (2034, 64), (8134,), (2034,))"
      ]
     },
     "execution_count": 227,
     "metadata": {},
     "output_type": "execute_result"
    }
   ],
   "source": [
    "# Show the rows and columns\n",
    "X.shape, y.shape, X_train.shape, X_test.shape, y_train.shape, y_test.shape"
   ]
  },
  {
   "cell_type": "code",
   "execution_count": 228,
   "id": "afa7bd09",
   "metadata": {},
   "outputs": [],
   "source": [
    "#Instantiating a class of Linear Regression \n",
    "lr = LinearRegression()"
   ]
  },
  {
   "cell_type": "code",
   "execution_count": 229,
   "id": "0bdc06e0",
   "metadata": {},
   "outputs": [
    {
     "data": {
      "text/html": [
       "<style>#sk-container-id-16 {color: black;}#sk-container-id-16 pre{padding: 0;}#sk-container-id-16 div.sk-toggleable {background-color: white;}#sk-container-id-16 label.sk-toggleable__label {cursor: pointer;display: block;width: 100%;margin-bottom: 0;padding: 0.3em;box-sizing: border-box;text-align: center;}#sk-container-id-16 label.sk-toggleable__label-arrow:before {content: \"▸\";float: left;margin-right: 0.25em;color: #696969;}#sk-container-id-16 label.sk-toggleable__label-arrow:hover:before {color: black;}#sk-container-id-16 div.sk-estimator:hover label.sk-toggleable__label-arrow:before {color: black;}#sk-container-id-16 div.sk-toggleable__content {max-height: 0;max-width: 0;overflow: hidden;text-align: left;background-color: #f0f8ff;}#sk-container-id-16 div.sk-toggleable__content pre {margin: 0.2em;color: black;border-radius: 0.25em;background-color: #f0f8ff;}#sk-container-id-16 input.sk-toggleable__control:checked~div.sk-toggleable__content {max-height: 200px;max-width: 100%;overflow: auto;}#sk-container-id-16 input.sk-toggleable__control:checked~label.sk-toggleable__label-arrow:before {content: \"▾\";}#sk-container-id-16 div.sk-estimator input.sk-toggleable__control:checked~label.sk-toggleable__label {background-color: #d4ebff;}#sk-container-id-16 div.sk-label input.sk-toggleable__control:checked~label.sk-toggleable__label {background-color: #d4ebff;}#sk-container-id-16 input.sk-hidden--visually {border: 0;clip: rect(1px 1px 1px 1px);clip: rect(1px, 1px, 1px, 1px);height: 1px;margin: -1px;overflow: hidden;padding: 0;position: absolute;width: 1px;}#sk-container-id-16 div.sk-estimator {font-family: monospace;background-color: #f0f8ff;border: 1px dotted black;border-radius: 0.25em;box-sizing: border-box;margin-bottom: 0.5em;}#sk-container-id-16 div.sk-estimator:hover {background-color: #d4ebff;}#sk-container-id-16 div.sk-parallel-item::after {content: \"\";width: 100%;border-bottom: 1px solid gray;flex-grow: 1;}#sk-container-id-16 div.sk-label:hover label.sk-toggleable__label {background-color: #d4ebff;}#sk-container-id-16 div.sk-serial::before {content: \"\";position: absolute;border-left: 1px solid gray;box-sizing: border-box;top: 0;bottom: 0;left: 50%;z-index: 0;}#sk-container-id-16 div.sk-serial {display: flex;flex-direction: column;align-items: center;background-color: white;padding-right: 0.2em;padding-left: 0.2em;position: relative;}#sk-container-id-16 div.sk-item {position: relative;z-index: 1;}#sk-container-id-16 div.sk-parallel {display: flex;align-items: stretch;justify-content: center;background-color: white;position: relative;}#sk-container-id-16 div.sk-item::before, #sk-container-id-16 div.sk-parallel-item::before {content: \"\";position: absolute;border-left: 1px solid gray;box-sizing: border-box;top: 0;bottom: 0;left: 50%;z-index: -1;}#sk-container-id-16 div.sk-parallel-item {display: flex;flex-direction: column;z-index: 1;position: relative;background-color: white;}#sk-container-id-16 div.sk-parallel-item:first-child::after {align-self: flex-end;width: 50%;}#sk-container-id-16 div.sk-parallel-item:last-child::after {align-self: flex-start;width: 50%;}#sk-container-id-16 div.sk-parallel-item:only-child::after {width: 0;}#sk-container-id-16 div.sk-dashed-wrapped {border: 1px dashed gray;margin: 0 0.4em 0.5em 0.4em;box-sizing: border-box;padding-bottom: 0.4em;background-color: white;}#sk-container-id-16 div.sk-label label {font-family: monospace;font-weight: bold;display: inline-block;line-height: 1.2em;}#sk-container-id-16 div.sk-label-container {text-align: center;}#sk-container-id-16 div.sk-container {/* jupyter's `normalize.less` sets `[hidden] { display: none; }` but bootstrap.min.css set `[hidden] { display: none !important; }` so we also need the `!important` here to be able to override the default hidden behavior on the sphinx rendered scikit-learn.org. See: https://github.com/scikit-learn/scikit-learn/issues/21755 */display: inline-block !important;position: relative;}#sk-container-id-16 div.sk-text-repr-fallback {display: none;}</style><div id=\"sk-container-id-16\" class=\"sk-top-container\"><div class=\"sk-text-repr-fallback\"><pre>LinearRegression()</pre><b>In a Jupyter environment, please rerun this cell to show the HTML representation or trust the notebook. <br />On GitHub, the HTML representation is unable to render, please try loading this page with nbviewer.org.</b></div><div class=\"sk-container\" hidden><div class=\"sk-item\"><div class=\"sk-estimator sk-toggleable\"><input class=\"sk-toggleable__control sk-hidden--visually\" id=\"sk-estimator-id-16\" type=\"checkbox\" checked><label for=\"sk-estimator-id-16\" class=\"sk-toggleable__label sk-toggleable__label-arrow\">LinearRegression</label><div class=\"sk-toggleable__content\"><pre>LinearRegression()</pre></div></div></div></div></div>"
      ],
      "text/plain": [
       "LinearRegression()"
      ]
     },
     "execution_count": 229,
     "metadata": {},
     "output_type": "execute_result"
    }
   ],
   "source": [
    "# Training the model\n",
    "lr.fit(X_train, y_train)"
   ]
  },
  {
   "cell_type": "code",
   "execution_count": 230,
   "id": "ad5eef8d",
   "metadata": {},
   "outputs": [
    {
     "name": "stdout",
     "output_type": "stream",
     "text": [
      "CV Mean R²:  0.5303348638263463\n",
      "CV STD:  0.06226616330870756\n",
      "Mean Absolute Error (MAE):  1.4065395701589007\n",
      "Mean Squared Error (MSE):  6.6308766534830035\n",
      "Root Mean Squared Error (RMSE):  2.5750488642903466\n",
      "R-squared (R²):  0.5777156731203013\n",
      "\n",
      "\n"
     ]
    }
   ],
   "source": [
    "# Calculate the mean values and Standard deviation\n",
    "get_cv_scores(lr)"
   ]
  },
  {
   "cell_type": "code",
   "execution_count": 231,
   "id": "3f8d8a08",
   "metadata": {},
   "outputs": [
    {
     "name": "stdout",
     "output_type": "stream",
     "text": [
      "R² training set score: 0.5777156731203013\n",
      "R² testing set score: 0.5357891089948299\n"
     ]
    }
   ],
   "source": [
    "# Comparing training to testing results\n",
    "print(f'R² training set score: {lr.score(X_train, y_train)}')\n",
    "print(f'R² testing set score: {lr.score(X_test, y_test)}')"
   ]
  },
  {
   "cell_type": "code",
   "execution_count": 232,
   "id": "f0437e7c",
   "metadata": {},
   "outputs": [],
   "source": [
    "# Calculate the predicted values\n",
    "y_pred = lr.predict(X_test)"
   ]
  },
  {
   "cell_type": "code",
   "execution_count": 233,
   "id": "c7027a45",
   "metadata": {},
   "outputs": [
    {
     "data": {
      "text/html": [
       "<div>\n",
       "<style scoped>\n",
       "    .dataframe tbody tr th:only-of-type {\n",
       "        vertical-align: middle;\n",
       "    }\n",
       "\n",
       "    .dataframe tbody tr th {\n",
       "        vertical-align: top;\n",
       "    }\n",
       "\n",
       "    .dataframe thead th {\n",
       "        text-align: right;\n",
       "    }\n",
       "</style>\n",
       "<table border=\"1\" class=\"dataframe\">\n",
       "  <thead>\n",
       "    <tr style=\"text-align: right;\">\n",
       "      <th></th>\n",
       "      <th>Actual</th>\n",
       "      <th>Predicted</th>\n",
       "    </tr>\n",
       "  </thead>\n",
       "  <tbody>\n",
       "    <tr>\n",
       "      <th>9772</th>\n",
       "      <td>-0.31</td>\n",
       "      <td>-1.579590</td>\n",
       "    </tr>\n",
       "    <tr>\n",
       "      <th>2337</th>\n",
       "      <td>-0.12</td>\n",
       "      <td>1.352783</td>\n",
       "    </tr>\n",
       "    <tr>\n",
       "      <th>9588</th>\n",
       "      <td>-0.28</td>\n",
       "      <td>1.974365</td>\n",
       "    </tr>\n",
       "    <tr>\n",
       "      <th>2233</th>\n",
       "      <td>-0.30</td>\n",
       "      <td>0.017334</td>\n",
       "    </tr>\n",
       "    <tr>\n",
       "      <th>4122</th>\n",
       "      <td>0.48</td>\n",
       "      <td>-0.867188</td>\n",
       "    </tr>\n",
       "  </tbody>\n",
       "</table>\n",
       "</div>"
      ],
      "text/plain": [
       "      Actual  Predicted\n",
       "9772   -0.31  -1.579590\n",
       "2337   -0.12   1.352783\n",
       "9588   -0.28   1.974365\n",
       "2233   -0.30   0.017334\n",
       "4122    0.48  -0.867188"
      ]
     },
     "execution_count": 233,
     "metadata": {},
     "output_type": "execute_result"
    }
   ],
   "source": [
    "# Display the test and predicted values\n",
    "df = pd.DataFrame({'Actual': y_test, 'Predicted': y_pred})\n",
    "df.head()"
   ]
  },
  {
   "cell_type": "markdown",
   "id": "ab79223c",
   "metadata": {},
   "source": [
    "Again, this dataset with specific features selected based on higher correlation to the target variable has performed worse."
   ]
  },
  {
   "cell_type": "markdown",
   "id": "62b73e44",
   "metadata": {},
   "source": [
    "## Fifth Model: Linear Regression on  Dummies Dataset with all features ( Robust Scaled)"
   ]
  },
  {
   "cell_type": "code",
   "execution_count": 234,
   "id": "7214a6b2",
   "metadata": {},
   "outputs": [
    {
     "data": {
      "text/plain": [
       "(10168, 374)"
      ]
     },
     "execution_count": 234,
     "metadata": {},
     "output_type": "execute_result"
    }
   ],
   "source": [
    "df8_dummies_all_rb_scaled.shape"
   ]
  },
  {
   "cell_type": "code",
   "execution_count": 235,
   "id": "a94395d6",
   "metadata": {},
   "outputs": [
    {
     "name": "stdout",
     "output_type": "stream",
     "text": [
      "<class 'pandas.core.frame.DataFrame'>\n",
      "RangeIndex: 10168 entries, 0 to 10167\n",
      "Columns: 374 entries, current_club_id to current_club_name_Ümraniyespor\n",
      "dtypes: float64(59), int64(315)\n",
      "memory usage: 29.0 MB\n"
     ]
    }
   ],
   "source": [
    "df8_dummies_all_rb_scaled.info()"
   ]
  },
  {
   "cell_type": "markdown",
   "id": "fc434109",
   "metadata": {},
   "source": [
    "#### <span style=\"color:Teal\">Isolating target Variable</span>"
   ]
  },
  {
   "cell_type": "code",
   "execution_count": 236,
   "id": "92909c71",
   "metadata": {},
   "outputs": [],
   "source": [
    "y = df8_dummies_all_rb_scaled['market_value_in_eur']"
   ]
  },
  {
   "cell_type": "code",
   "execution_count": 237,
   "id": "4af4fa22",
   "metadata": {},
   "outputs": [
    {
     "data": {
      "text/plain": [
       "(10168,)"
      ]
     },
     "execution_count": 237,
     "metadata": {},
     "output_type": "execute_result"
    }
   ],
   "source": [
    "y.shape"
   ]
  },
  {
   "cell_type": "code",
   "execution_count": 238,
   "id": "c366baaa",
   "metadata": {},
   "outputs": [],
   "source": [
    "X = df8_dummies_all_rb_scaled.drop(['market_value_in_eur'], axis = 1)"
   ]
  },
  {
   "cell_type": "code",
   "execution_count": 239,
   "id": "abd6227a",
   "metadata": {},
   "outputs": [
    {
     "data": {
      "text/plain": [
       "(10168, 373)"
      ]
     },
     "execution_count": 239,
     "metadata": {},
     "output_type": "execute_result"
    }
   ],
   "source": [
    "X.shape"
   ]
  },
  {
   "cell_type": "markdown",
   "id": "29f9f081",
   "metadata": {},
   "source": [
    "### <span style=\"color:Teal\">Split: 80% Training and 20% for Testing</span>"
   ]
  },
  {
   "cell_type": "code",
   "execution_count": 240,
   "id": "1b934a8f",
   "metadata": {},
   "outputs": [],
   "source": [
    "# Split dataset into training set and test set\n",
    "X_train, X_test, y_train, y_test = train_test_split(X, y, test_size = 0.2,  random_state = 42)"
   ]
  },
  {
   "cell_type": "code",
   "execution_count": 241,
   "id": "db7ac487",
   "metadata": {},
   "outputs": [
    {
     "data": {
      "text/plain": [
       "((10168, 373), (10168,), (8134, 373), (2034, 373), (8134,), (2034,))"
      ]
     },
     "execution_count": 241,
     "metadata": {},
     "output_type": "execute_result"
    }
   ],
   "source": [
    "# Show the rows and columns\n",
    "X.shape, y.shape, X_train.shape, X_test.shape, y_train.shape, y_test.shape"
   ]
  },
  {
   "cell_type": "code",
   "execution_count": 242,
   "id": "ff92b13e",
   "metadata": {},
   "outputs": [],
   "source": [
    "#Instantiating a class of Linear Regression \n",
    "lr = LinearRegression()"
   ]
  },
  {
   "cell_type": "code",
   "execution_count": 243,
   "id": "d6763356",
   "metadata": {},
   "outputs": [
    {
     "data": {
      "text/html": [
       "<style>#sk-container-id-17 {color: black;}#sk-container-id-17 pre{padding: 0;}#sk-container-id-17 div.sk-toggleable {background-color: white;}#sk-container-id-17 label.sk-toggleable__label {cursor: pointer;display: block;width: 100%;margin-bottom: 0;padding: 0.3em;box-sizing: border-box;text-align: center;}#sk-container-id-17 label.sk-toggleable__label-arrow:before {content: \"▸\";float: left;margin-right: 0.25em;color: #696969;}#sk-container-id-17 label.sk-toggleable__label-arrow:hover:before {color: black;}#sk-container-id-17 div.sk-estimator:hover label.sk-toggleable__label-arrow:before {color: black;}#sk-container-id-17 div.sk-toggleable__content {max-height: 0;max-width: 0;overflow: hidden;text-align: left;background-color: #f0f8ff;}#sk-container-id-17 div.sk-toggleable__content pre {margin: 0.2em;color: black;border-radius: 0.25em;background-color: #f0f8ff;}#sk-container-id-17 input.sk-toggleable__control:checked~div.sk-toggleable__content {max-height: 200px;max-width: 100%;overflow: auto;}#sk-container-id-17 input.sk-toggleable__control:checked~label.sk-toggleable__label-arrow:before {content: \"▾\";}#sk-container-id-17 div.sk-estimator input.sk-toggleable__control:checked~label.sk-toggleable__label {background-color: #d4ebff;}#sk-container-id-17 div.sk-label input.sk-toggleable__control:checked~label.sk-toggleable__label {background-color: #d4ebff;}#sk-container-id-17 input.sk-hidden--visually {border: 0;clip: rect(1px 1px 1px 1px);clip: rect(1px, 1px, 1px, 1px);height: 1px;margin: -1px;overflow: hidden;padding: 0;position: absolute;width: 1px;}#sk-container-id-17 div.sk-estimator {font-family: monospace;background-color: #f0f8ff;border: 1px dotted black;border-radius: 0.25em;box-sizing: border-box;margin-bottom: 0.5em;}#sk-container-id-17 div.sk-estimator:hover {background-color: #d4ebff;}#sk-container-id-17 div.sk-parallel-item::after {content: \"\";width: 100%;border-bottom: 1px solid gray;flex-grow: 1;}#sk-container-id-17 div.sk-label:hover label.sk-toggleable__label {background-color: #d4ebff;}#sk-container-id-17 div.sk-serial::before {content: \"\";position: absolute;border-left: 1px solid gray;box-sizing: border-box;top: 0;bottom: 0;left: 50%;z-index: 0;}#sk-container-id-17 div.sk-serial {display: flex;flex-direction: column;align-items: center;background-color: white;padding-right: 0.2em;padding-left: 0.2em;position: relative;}#sk-container-id-17 div.sk-item {position: relative;z-index: 1;}#sk-container-id-17 div.sk-parallel {display: flex;align-items: stretch;justify-content: center;background-color: white;position: relative;}#sk-container-id-17 div.sk-item::before, #sk-container-id-17 div.sk-parallel-item::before {content: \"\";position: absolute;border-left: 1px solid gray;box-sizing: border-box;top: 0;bottom: 0;left: 50%;z-index: -1;}#sk-container-id-17 div.sk-parallel-item {display: flex;flex-direction: column;z-index: 1;position: relative;background-color: white;}#sk-container-id-17 div.sk-parallel-item:first-child::after {align-self: flex-end;width: 50%;}#sk-container-id-17 div.sk-parallel-item:last-child::after {align-self: flex-start;width: 50%;}#sk-container-id-17 div.sk-parallel-item:only-child::after {width: 0;}#sk-container-id-17 div.sk-dashed-wrapped {border: 1px dashed gray;margin: 0 0.4em 0.5em 0.4em;box-sizing: border-box;padding-bottom: 0.4em;background-color: white;}#sk-container-id-17 div.sk-label label {font-family: monospace;font-weight: bold;display: inline-block;line-height: 1.2em;}#sk-container-id-17 div.sk-label-container {text-align: center;}#sk-container-id-17 div.sk-container {/* jupyter's `normalize.less` sets `[hidden] { display: none; }` but bootstrap.min.css set `[hidden] { display: none !important; }` so we also need the `!important` here to be able to override the default hidden behavior on the sphinx rendered scikit-learn.org. See: https://github.com/scikit-learn/scikit-learn/issues/21755 */display: inline-block !important;position: relative;}#sk-container-id-17 div.sk-text-repr-fallback {display: none;}</style><div id=\"sk-container-id-17\" class=\"sk-top-container\"><div class=\"sk-text-repr-fallback\"><pre>LinearRegression()</pre><b>In a Jupyter environment, please rerun this cell to show the HTML representation or trust the notebook. <br />On GitHub, the HTML representation is unable to render, please try loading this page with nbviewer.org.</b></div><div class=\"sk-container\" hidden><div class=\"sk-item\"><div class=\"sk-estimator sk-toggleable\"><input class=\"sk-toggleable__control sk-hidden--visually\" id=\"sk-estimator-id-17\" type=\"checkbox\" checked><label for=\"sk-estimator-id-17\" class=\"sk-toggleable__label sk-toggleable__label-arrow\">LinearRegression</label><div class=\"sk-toggleable__content\"><pre>LinearRegression()</pre></div></div></div></div></div>"
      ],
      "text/plain": [
       "LinearRegression()"
      ]
     },
     "execution_count": 243,
     "metadata": {},
     "output_type": "execute_result"
    }
   ],
   "source": [
    "# Training the model\n",
    "lr.fit(X_train, y_train)"
   ]
  },
  {
   "cell_type": "code",
   "execution_count": 244,
   "id": "5b2233da",
   "metadata": {},
   "outputs": [
    {
     "name": "stdout",
     "output_type": "stream",
     "text": [
      "CV Mean R²:  0.5924988623113406\n",
      "CV STD:  0.0350881748283972\n",
      "Mean Absolute Error (MAE):  1.3396654892897868\n",
      "Mean Squared Error (MSE):  5.683656494144298\n",
      "Root Mean Squared Error (RMSE):  2.384042049575531\n",
      "R-squared (R²):  0.6380389528759457\n",
      "\n",
      "\n"
     ]
    }
   ],
   "source": [
    "# Calculate the mean values and Standard deviation\n",
    "get_cv_scores(lr)"
   ]
  },
  {
   "cell_type": "markdown",
   "id": "60e817f4",
   "metadata": {},
   "source": [
    "The results for CV Mean R² and CV STD are very similar but slightly better than the model with data that had been scaled using the MinMax scaler. The MAE, MAE and RMSE are higher which indicates that it does not generalise as well as the MINMAX scaled data Model. The features are the same."
   ]
  },
  {
   "cell_type": "code",
   "execution_count": 245,
   "id": "baf394fd",
   "metadata": {},
   "outputs": [
    {
     "name": "stdout",
     "output_type": "stream",
     "text": [
      "R² training set score: 0.6380389528759457\n",
      "R² testing set score: 0.5904014458104625\n"
     ]
    }
   ],
   "source": [
    "# Comparing training to testing results\n",
    "print(f'R² training set score: {lr.score(X_train, y_train)}')\n",
    "print(f'R² testing set score: {lr.score(X_test, y_test)}')"
   ]
  },
  {
   "cell_type": "code",
   "execution_count": 246,
   "id": "192a0431",
   "metadata": {},
   "outputs": [],
   "source": [
    "# Calculate the predicted values\n",
    "y_pred = lr.predict(X_test)"
   ]
  },
  {
   "cell_type": "code",
   "execution_count": 247,
   "id": "9d13c5b6",
   "metadata": {},
   "outputs": [
    {
     "data": {
      "text/html": [
       "<div>\n",
       "<style scoped>\n",
       "    .dataframe tbody tr th:only-of-type {\n",
       "        vertical-align: middle;\n",
       "    }\n",
       "\n",
       "    .dataframe tbody tr th {\n",
       "        vertical-align: top;\n",
       "    }\n",
       "\n",
       "    .dataframe thead th {\n",
       "        text-align: right;\n",
       "    }\n",
       "</style>\n",
       "<table border=\"1\" class=\"dataframe\">\n",
       "  <thead>\n",
       "    <tr style=\"text-align: right;\">\n",
       "      <th></th>\n",
       "      <th>Actual</th>\n",
       "      <th>Predicted</th>\n",
       "    </tr>\n",
       "  </thead>\n",
       "  <tbody>\n",
       "    <tr>\n",
       "      <th>9772</th>\n",
       "      <td>-0.31</td>\n",
       "      <td>-1.006592</td>\n",
       "    </tr>\n",
       "    <tr>\n",
       "      <th>2337</th>\n",
       "      <td>-0.12</td>\n",
       "      <td>-0.735107</td>\n",
       "    </tr>\n",
       "    <tr>\n",
       "      <th>9588</th>\n",
       "      <td>-0.28</td>\n",
       "      <td>2.229004</td>\n",
       "    </tr>\n",
       "    <tr>\n",
       "      <th>2233</th>\n",
       "      <td>-0.30</td>\n",
       "      <td>0.804199</td>\n",
       "    </tr>\n",
       "    <tr>\n",
       "      <th>4122</th>\n",
       "      <td>0.48</td>\n",
       "      <td>-0.227783</td>\n",
       "    </tr>\n",
       "  </tbody>\n",
       "</table>\n",
       "</div>"
      ],
      "text/plain": [
       "      Actual  Predicted\n",
       "9772   -0.31  -1.006592\n",
       "2337   -0.12  -0.735107\n",
       "9588   -0.28   2.229004\n",
       "2233   -0.30   0.804199\n",
       "4122    0.48  -0.227783"
      ]
     },
     "execution_count": 247,
     "metadata": {},
     "output_type": "execute_result"
    }
   ],
   "source": [
    "# Display the test and predicted values\n",
    "df = pd.DataFrame({'Actual': y_test, 'Predicted': y_pred})\n",
    "df.head()"
   ]
  },
  {
   "cell_type": "markdown",
   "id": "7884eb5e",
   "metadata": {},
   "source": [
    "## Sixth Model: Ridge Regression on  Dummies Dataset with all features ( Robust Scaled)"
   ]
  },
  {
   "cell_type": "code",
   "execution_count": 249,
   "id": "963f4dc8",
   "metadata": {},
   "outputs": [],
   "source": [
    "# Instantiating and Fitting model to data\n",
    "ridge = Ridge().fit(X_train, y_train)"
   ]
  },
  {
   "cell_type": "code",
   "execution_count": 250,
   "id": "26121403",
   "metadata": {},
   "outputs": [
    {
     "name": "stdout",
     "output_type": "stream",
     "text": [
      "CV Mean R²:  0.593642610677101\n",
      "CV STD:  0.03521094035750554\n",
      "Mean Absolute Error (MAE):  1.340109237543643\n",
      "Mean Squared Error (MSE):  5.683967778190859\n",
      "Root Mean Squared Error (RMSE):  2.384107333613749\n",
      "R-squared (R²):  0.6380191288947529\n",
      "\n",
      "\n"
     ]
    }
   ],
   "source": [
    "# Calculate the mean values and Standard deviation\n",
    "get_cv_scores(ridge)"
   ]
  },
  {
   "cell_type": "code",
   "execution_count": 252,
   "id": "e33dc38e",
   "metadata": {
    "scrolled": true
   },
   "outputs": [
    {
     "name": "stdout",
     "output_type": "stream",
     "text": [
      "R² training set score: 0.6380191288947529\n",
      "R² testing set score: 0.590368406172169\n"
     ]
    }
   ],
   "source": [
    "# Comparing training to testing results\n",
    "print(f'R² training set score: {ridge.score(X_train, y_train)}')\n",
    "print(f'R² testing set score: {ridge.score(X_test, y_test)}')"
   ]
  },
  {
   "cell_type": "markdown",
   "id": "527438a5",
   "metadata": {},
   "source": [
    "#### <span style=\"color:Teal\">Adjusting hyperparameters</span>"
   ]
  },
  {
   "cell_type": "code",
   "execution_count": 260,
   "id": "34772ddc",
   "metadata": {
    "scrolled": true
   },
   "outputs": [],
   "source": [
    "ridge10 = Ridge(alpha=10).fit(X_train, y_train)"
   ]
  },
  {
   "cell_type": "code",
   "execution_count": 261,
   "id": "35364693",
   "metadata": {},
   "outputs": [
    {
     "name": "stdout",
     "output_type": "stream",
     "text": [
      "R² training set score: 0.6328580344598841\n",
      "R² testing set score: 0.5880983886984735\n"
     ]
    }
   ],
   "source": [
    "# Comparing training to testing results\n",
    "print(f'R² training set score: {ridge10.score(X_train, y_train)}')\n",
    "print(f'R² testing set score: {ridge10.score(X_test, y_test)}')"
   ]
  },
  {
   "cell_type": "code",
   "execution_count": 262,
   "id": "c4c6c2fc",
   "metadata": {},
   "outputs": [],
   "source": [
    "ridge01 = Ridge(alpha=0.1).fit(X_train, y_train)\n"
   ]
  },
  {
   "cell_type": "code",
   "execution_count": 263,
   "id": "033d8ed6",
   "metadata": {
    "scrolled": true
   },
   "outputs": [
    {
     "name": "stdout",
     "output_type": "stream",
     "text": [
      "R² training set score: 0.6381120161565172\n",
      "R² testing set score: 0.5900625860019808\n"
     ]
    }
   ],
   "source": [
    "# Comparing training to testing results\n",
    "print(f'R² training set score: {ridge01.score(X_train, y_train)}')\n",
    "print(f'R² testing set score: {ridge01.score(X_test, y_test)}')"
   ]
  },
  {
   "cell_type": "markdown",
   "id": "4d6570a6",
   "metadata": {},
   "source": [
    "Ridge regression using L2 regularistaion scored almost identically to the previous linear regression model which is no surpise as it too is a linear model. Ridge regression would be better suited if the previous model was overfitting as its restricts a model through regularisation."
   ]
  },
  {
   "cell_type": "markdown",
   "id": "b6285631",
   "metadata": {},
   "source": [
    "## Seventh Model: Lasso Regression on  Dummies Dataset with all features ( Robust Scaled)"
   ]
  },
  {
   "cell_type": "code",
   "execution_count": 265,
   "id": "0ae4cbeb",
   "metadata": {},
   "outputs": [],
   "source": [
    "# Instantiating and Fitting model to data\n",
    "lasso = Lasso().fit(X_train, y_train)"
   ]
  },
  {
   "cell_type": "code",
   "execution_count": 266,
   "id": "b9f44935",
   "metadata": {},
   "outputs": [
    {
     "name": "stdout",
     "output_type": "stream",
     "text": [
      "Training set score: 0.27\n",
      "Test set score: 0.29\n",
      "Number of features used: 7\n"
     ]
    }
   ],
   "source": [
    "print(\"Training set score: {:.2f}\".format(lasso.score(X_train, y_train)))\n",
    "print(\"Test set score: {:.2f}\".format(lasso.score(X_test, y_test)))\n",
    "print(\"Number of features used: {}\".format(np.sum(lasso.coef_ != 0)))\n"
   ]
  },
  {
   "cell_type": "markdown",
   "id": "7dedafda",
   "metadata": {},
   "source": [
    "Both the training and test scores are low which indicates underfitting."
   ]
  },
  {
   "cell_type": "markdown",
   "id": "484f14c2",
   "metadata": {},
   "source": [
    "#### <span style=\"color:Teal\">Adjusting hyperparameters</span>"
   ]
  },
  {
   "cell_type": "code",
   "execution_count": 267,
   "id": "9e83bcea",
   "metadata": {},
   "outputs": [],
   "source": [
    "lasso001 = Lasso(alpha=0.01, max_iter=100000).fit(X_train, y_train)"
   ]
  },
  {
   "cell_type": "code",
   "execution_count": 268,
   "id": "dd277eb7",
   "metadata": {},
   "outputs": [
    {
     "name": "stdout",
     "output_type": "stream",
     "text": [
      "Training set score: 0.59\n",
      "Test set score: 0.55\n",
      "Number of features used: 66\n"
     ]
    }
   ],
   "source": [
    "print(\"Training set score: {:.2f}\".format(lasso001.score(X_train, y_train)))\n",
    "print(\"Test set score: {:.2f}\".format(lasso001.score(X_test, y_test)))\n",
    "print(\"Number of features used: {}\".format(np.sum(lasso001.coef_ != 0)))"
   ]
  },
  {
   "cell_type": "code",
   "execution_count": 269,
   "id": "7a9141a9",
   "metadata": {},
   "outputs": [
    {
     "name": "stdout",
     "output_type": "stream",
     "text": [
      "Training set score: 0.64\n",
      "Test set score: 0.59\n",
      "Number of features used: 340\n"
     ]
    }
   ],
   "source": [
    "lasso00001 = Lasso(alpha=0.0001, max_iter=100000).fit(X_train, y_train)\n",
    "print(\"Training set score: {:.2f}\".format(lasso00001.score(X_train, y_train)))\n",
    "print(\"Test set score: {:.2f}\".format(lasso00001.score(X_test, y_test)))\n",
    "print(\"Number of features used: {}\".format(np.sum(lasso00001.coef_ != 0)))\n"
   ]
  },
  {
   "cell_type": "markdown",
   "id": "9af571f5",
   "metadata": {},
   "source": [
    "The scores unsurprising have not improved on previous models linear and ridge models."
   ]
  },
  {
   "cell_type": "markdown",
   "id": "47c4be65",
   "metadata": {},
   "source": [
    "Lasso Regression, like Ridge regression are good for regularising linear regression. Lasso uses L1 regularisation which can be seen as a form of feature selection as it reduces some coefficinets to zero, only using the most important features. Again, like Ridge it would be better utilised on an overfitting linear regression model."
   ]
  },
  {
   "cell_type": "markdown",
   "id": "ceaa684b",
   "metadata": {},
   "source": [
    "## Eighth Model: Random Forest Regressor on  Dummies Dataset with all features ( Robust Scaled)"
   ]
  },
  {
   "cell_type": "code",
   "execution_count": 271,
   "id": "117af4ad",
   "metadata": {},
   "outputs": [],
   "source": [
    "#Instantiating Random Forest Regressor algorithm and storing it to 'forest' object\n",
    "forest = RandomForestRegressor()"
   ]
  },
  {
   "cell_type": "code",
   "execution_count": 272,
   "id": "66c69ecd",
   "metadata": {},
   "outputs": [
    {
     "data": {
      "text/html": [
       "<style>#sk-container-id-18 {color: black;}#sk-container-id-18 pre{padding: 0;}#sk-container-id-18 div.sk-toggleable {background-color: white;}#sk-container-id-18 label.sk-toggleable__label {cursor: pointer;display: block;width: 100%;margin-bottom: 0;padding: 0.3em;box-sizing: border-box;text-align: center;}#sk-container-id-18 label.sk-toggleable__label-arrow:before {content: \"▸\";float: left;margin-right: 0.25em;color: #696969;}#sk-container-id-18 label.sk-toggleable__label-arrow:hover:before {color: black;}#sk-container-id-18 div.sk-estimator:hover label.sk-toggleable__label-arrow:before {color: black;}#sk-container-id-18 div.sk-toggleable__content {max-height: 0;max-width: 0;overflow: hidden;text-align: left;background-color: #f0f8ff;}#sk-container-id-18 div.sk-toggleable__content pre {margin: 0.2em;color: black;border-radius: 0.25em;background-color: #f0f8ff;}#sk-container-id-18 input.sk-toggleable__control:checked~div.sk-toggleable__content {max-height: 200px;max-width: 100%;overflow: auto;}#sk-container-id-18 input.sk-toggleable__control:checked~label.sk-toggleable__label-arrow:before {content: \"▾\";}#sk-container-id-18 div.sk-estimator input.sk-toggleable__control:checked~label.sk-toggleable__label {background-color: #d4ebff;}#sk-container-id-18 div.sk-label input.sk-toggleable__control:checked~label.sk-toggleable__label {background-color: #d4ebff;}#sk-container-id-18 input.sk-hidden--visually {border: 0;clip: rect(1px 1px 1px 1px);clip: rect(1px, 1px, 1px, 1px);height: 1px;margin: -1px;overflow: hidden;padding: 0;position: absolute;width: 1px;}#sk-container-id-18 div.sk-estimator {font-family: monospace;background-color: #f0f8ff;border: 1px dotted black;border-radius: 0.25em;box-sizing: border-box;margin-bottom: 0.5em;}#sk-container-id-18 div.sk-estimator:hover {background-color: #d4ebff;}#sk-container-id-18 div.sk-parallel-item::after {content: \"\";width: 100%;border-bottom: 1px solid gray;flex-grow: 1;}#sk-container-id-18 div.sk-label:hover label.sk-toggleable__label {background-color: #d4ebff;}#sk-container-id-18 div.sk-serial::before {content: \"\";position: absolute;border-left: 1px solid gray;box-sizing: border-box;top: 0;bottom: 0;left: 50%;z-index: 0;}#sk-container-id-18 div.sk-serial {display: flex;flex-direction: column;align-items: center;background-color: white;padding-right: 0.2em;padding-left: 0.2em;position: relative;}#sk-container-id-18 div.sk-item {position: relative;z-index: 1;}#sk-container-id-18 div.sk-parallel {display: flex;align-items: stretch;justify-content: center;background-color: white;position: relative;}#sk-container-id-18 div.sk-item::before, #sk-container-id-18 div.sk-parallel-item::before {content: \"\";position: absolute;border-left: 1px solid gray;box-sizing: border-box;top: 0;bottom: 0;left: 50%;z-index: -1;}#sk-container-id-18 div.sk-parallel-item {display: flex;flex-direction: column;z-index: 1;position: relative;background-color: white;}#sk-container-id-18 div.sk-parallel-item:first-child::after {align-self: flex-end;width: 50%;}#sk-container-id-18 div.sk-parallel-item:last-child::after {align-self: flex-start;width: 50%;}#sk-container-id-18 div.sk-parallel-item:only-child::after {width: 0;}#sk-container-id-18 div.sk-dashed-wrapped {border: 1px dashed gray;margin: 0 0.4em 0.5em 0.4em;box-sizing: border-box;padding-bottom: 0.4em;background-color: white;}#sk-container-id-18 div.sk-label label {font-family: monospace;font-weight: bold;display: inline-block;line-height: 1.2em;}#sk-container-id-18 div.sk-label-container {text-align: center;}#sk-container-id-18 div.sk-container {/* jupyter's `normalize.less` sets `[hidden] { display: none; }` but bootstrap.min.css set `[hidden] { display: none !important; }` so we also need the `!important` here to be able to override the default hidden behavior on the sphinx rendered scikit-learn.org. See: https://github.com/scikit-learn/scikit-learn/issues/21755 */display: inline-block !important;position: relative;}#sk-container-id-18 div.sk-text-repr-fallback {display: none;}</style><div id=\"sk-container-id-18\" class=\"sk-top-container\"><div class=\"sk-text-repr-fallback\"><pre>RandomForestRegressor()</pre><b>In a Jupyter environment, please rerun this cell to show the HTML representation or trust the notebook. <br />On GitHub, the HTML representation is unable to render, please try loading this page with nbviewer.org.</b></div><div class=\"sk-container\" hidden><div class=\"sk-item\"><div class=\"sk-estimator sk-toggleable\"><input class=\"sk-toggleable__control sk-hidden--visually\" id=\"sk-estimator-id-18\" type=\"checkbox\" checked><label for=\"sk-estimator-id-18\" class=\"sk-toggleable__label sk-toggleable__label-arrow\">RandomForestRegressor</label><div class=\"sk-toggleable__content\"><pre>RandomForestRegressor()</pre></div></div></div></div></div>"
      ],
      "text/plain": [
       "RandomForestRegressor()"
      ]
     },
     "execution_count": 272,
     "metadata": {},
     "output_type": "execute_result"
    }
   ],
   "source": [
    "#Fitting the model to nthe data\n",
    "forest.fit(X_train, y_train)"
   ]
  },
  {
   "cell_type": "code",
   "execution_count": 273,
   "id": "4cf83a98",
   "metadata": {
    "scrolled": true
   },
   "outputs": [
    {
     "name": "stdout",
     "output_type": "stream",
     "text": [
      "CV Mean R²:  0.7066386980658086\n",
      "CV STD:  0.0391061450124774\n",
      "Mean Absolute Error (MAE):  0.292116524587587\n",
      "Mean Squared Error (MSE):  0.629682838717122\n",
      "Root Mean Squared Error (RMSE):  0.7935255753390196\n",
      "R-squared (R²):  0.959898938316748\n",
      "\n",
      "\n"
     ]
    }
   ],
   "source": [
    "# Calculate the mean values and Standard deviation\n",
    "get_cv_scores(forest)"
   ]
  },
  {
   "cell_type": "markdown",
   "id": "f4f40fe7",
   "metadata": {},
   "source": [
    "The Random Forest Regeressor has produced the best CV Mean R² score so far at 0.71. MAE, MSE and RMSE are also promising."
   ]
  },
  {
   "cell_type": "code",
   "execution_count": 274,
   "id": "a2fddf88",
   "metadata": {},
   "outputs": [
    {
     "name": "stdout",
     "output_type": "stream",
     "text": [
      "R² training set score: 0.959898938316748\n",
      "R² testing set score: 0.7172613044808764\n"
     ]
    }
   ],
   "source": [
    "# Comparing training to testing results\n",
    "print(f'R² training set score: {forest.score(X_train, y_train)}')\n",
    "print(f'R² testing set score: {forest.score(X_test, y_test)}')"
   ]
  },
  {
   "cell_type": "markdown",
   "id": "59a2f8d9",
   "metadata": {},
   "source": [
    "The training and test results above indicate and overfitting model."
   ]
  },
  {
   "cell_type": "markdown",
   "id": "2d91ec7a",
   "metadata": {},
   "source": [
    "## Ninth Model: Random Forest Regressor on  Dummies Dataset with all features ( MinMax Scaled)"
   ]
  },
  {
   "cell_type": "markdown",
   "id": "2f13b225",
   "metadata": {},
   "source": [
    "Applying Random Forest Regressor algorithm to MinMAx Scaled data as this produced a more generalised model when used on a Linear Regression model."
   ]
  },
  {
   "cell_type": "code",
   "execution_count": 282,
   "id": "cbfecab4",
   "metadata": {},
   "outputs": [],
   "source": [
    "y = df8_dummies_all_mm_scaled['market_value_in_eur']"
   ]
  },
  {
   "cell_type": "code",
   "execution_count": 283,
   "id": "47e6f11c",
   "metadata": {},
   "outputs": [
    {
     "data": {
      "text/plain": [
       "(10168,)"
      ]
     },
     "execution_count": 283,
     "metadata": {},
     "output_type": "execute_result"
    }
   ],
   "source": [
    "y.shape"
   ]
  },
  {
   "cell_type": "code",
   "execution_count": 284,
   "id": "bd6300cc",
   "metadata": {},
   "outputs": [],
   "source": [
    "X = df8_dummies_all_mm_scaled.drop(['market_value_in_eur'], axis = 1)"
   ]
  },
  {
   "cell_type": "code",
   "execution_count": 285,
   "id": "ca5143c5",
   "metadata": {},
   "outputs": [
    {
     "data": {
      "text/plain": [
       "(10168, 373)"
      ]
     },
     "execution_count": 285,
     "metadata": {},
     "output_type": "execute_result"
    }
   ],
   "source": [
    "X.shape"
   ]
  },
  {
   "cell_type": "markdown",
   "id": "9bb0f7c4",
   "metadata": {},
   "source": [
    "### <span style=\"color:Teal\">Split: 80% Training and 20% for Testing</span>"
   ]
  },
  {
   "cell_type": "code",
   "execution_count": 286,
   "id": "42cb4298",
   "metadata": {},
   "outputs": [],
   "source": [
    "# Split dataset into training set and test set\n",
    "X_train, X_test, y_train, y_test = train_test_split(X, y, test_size = 0.2,  random_state = 42) "
   ]
  },
  {
   "cell_type": "code",
   "execution_count": 287,
   "id": "f0177171",
   "metadata": {},
   "outputs": [
    {
     "data": {
      "text/plain": [
       "((10168, 373), (10168,), (8134, 373), (2034, 373), (8134,), (2034,))"
      ]
     },
     "execution_count": 287,
     "metadata": {},
     "output_type": "execute_result"
    }
   ],
   "source": [
    "# Show the rows and columns\n",
    "X.shape, y.shape, X_train.shape, X_test.shape, y_train.shape, y_test.shape"
   ]
  },
  {
   "cell_type": "markdown",
   "id": "cd54354f",
   "metadata": {},
   "source": [
    "#### <span style=\"color:Teal\">Modelling</span>"
   ]
  },
  {
   "cell_type": "code",
   "execution_count": 288,
   "id": "21eaac65",
   "metadata": {},
   "outputs": [],
   "source": [
    "#Instantiating Random Forest Regressor algorithm and storing it to 'forest' object\n",
    "forest = RandomForestRegressor()"
   ]
  },
  {
   "cell_type": "code",
   "execution_count": 289,
   "id": "7810c909",
   "metadata": {},
   "outputs": [
    {
     "data": {
      "text/html": [
       "<style>#sk-container-id-19 {color: black;}#sk-container-id-19 pre{padding: 0;}#sk-container-id-19 div.sk-toggleable {background-color: white;}#sk-container-id-19 label.sk-toggleable__label {cursor: pointer;display: block;width: 100%;margin-bottom: 0;padding: 0.3em;box-sizing: border-box;text-align: center;}#sk-container-id-19 label.sk-toggleable__label-arrow:before {content: \"▸\";float: left;margin-right: 0.25em;color: #696969;}#sk-container-id-19 label.sk-toggleable__label-arrow:hover:before {color: black;}#sk-container-id-19 div.sk-estimator:hover label.sk-toggleable__label-arrow:before {color: black;}#sk-container-id-19 div.sk-toggleable__content {max-height: 0;max-width: 0;overflow: hidden;text-align: left;background-color: #f0f8ff;}#sk-container-id-19 div.sk-toggleable__content pre {margin: 0.2em;color: black;border-radius: 0.25em;background-color: #f0f8ff;}#sk-container-id-19 input.sk-toggleable__control:checked~div.sk-toggleable__content {max-height: 200px;max-width: 100%;overflow: auto;}#sk-container-id-19 input.sk-toggleable__control:checked~label.sk-toggleable__label-arrow:before {content: \"▾\";}#sk-container-id-19 div.sk-estimator input.sk-toggleable__control:checked~label.sk-toggleable__label {background-color: #d4ebff;}#sk-container-id-19 div.sk-label input.sk-toggleable__control:checked~label.sk-toggleable__label {background-color: #d4ebff;}#sk-container-id-19 input.sk-hidden--visually {border: 0;clip: rect(1px 1px 1px 1px);clip: rect(1px, 1px, 1px, 1px);height: 1px;margin: -1px;overflow: hidden;padding: 0;position: absolute;width: 1px;}#sk-container-id-19 div.sk-estimator {font-family: monospace;background-color: #f0f8ff;border: 1px dotted black;border-radius: 0.25em;box-sizing: border-box;margin-bottom: 0.5em;}#sk-container-id-19 div.sk-estimator:hover {background-color: #d4ebff;}#sk-container-id-19 div.sk-parallel-item::after {content: \"\";width: 100%;border-bottom: 1px solid gray;flex-grow: 1;}#sk-container-id-19 div.sk-label:hover label.sk-toggleable__label {background-color: #d4ebff;}#sk-container-id-19 div.sk-serial::before {content: \"\";position: absolute;border-left: 1px solid gray;box-sizing: border-box;top: 0;bottom: 0;left: 50%;z-index: 0;}#sk-container-id-19 div.sk-serial {display: flex;flex-direction: column;align-items: center;background-color: white;padding-right: 0.2em;padding-left: 0.2em;position: relative;}#sk-container-id-19 div.sk-item {position: relative;z-index: 1;}#sk-container-id-19 div.sk-parallel {display: flex;align-items: stretch;justify-content: center;background-color: white;position: relative;}#sk-container-id-19 div.sk-item::before, #sk-container-id-19 div.sk-parallel-item::before {content: \"\";position: absolute;border-left: 1px solid gray;box-sizing: border-box;top: 0;bottom: 0;left: 50%;z-index: -1;}#sk-container-id-19 div.sk-parallel-item {display: flex;flex-direction: column;z-index: 1;position: relative;background-color: white;}#sk-container-id-19 div.sk-parallel-item:first-child::after {align-self: flex-end;width: 50%;}#sk-container-id-19 div.sk-parallel-item:last-child::after {align-self: flex-start;width: 50%;}#sk-container-id-19 div.sk-parallel-item:only-child::after {width: 0;}#sk-container-id-19 div.sk-dashed-wrapped {border: 1px dashed gray;margin: 0 0.4em 0.5em 0.4em;box-sizing: border-box;padding-bottom: 0.4em;background-color: white;}#sk-container-id-19 div.sk-label label {font-family: monospace;font-weight: bold;display: inline-block;line-height: 1.2em;}#sk-container-id-19 div.sk-label-container {text-align: center;}#sk-container-id-19 div.sk-container {/* jupyter's `normalize.less` sets `[hidden] { display: none; }` but bootstrap.min.css set `[hidden] { display: none !important; }` so we also need the `!important` here to be able to override the default hidden behavior on the sphinx rendered scikit-learn.org. See: https://github.com/scikit-learn/scikit-learn/issues/21755 */display: inline-block !important;position: relative;}#sk-container-id-19 div.sk-text-repr-fallback {display: none;}</style><div id=\"sk-container-id-19\" class=\"sk-top-container\"><div class=\"sk-text-repr-fallback\"><pre>RandomForestRegressor()</pre><b>In a Jupyter environment, please rerun this cell to show the HTML representation or trust the notebook. <br />On GitHub, the HTML representation is unable to render, please try loading this page with nbviewer.org.</b></div><div class=\"sk-container\" hidden><div class=\"sk-item\"><div class=\"sk-estimator sk-toggleable\"><input class=\"sk-toggleable__control sk-hidden--visually\" id=\"sk-estimator-id-19\" type=\"checkbox\" checked><label for=\"sk-estimator-id-19\" class=\"sk-toggleable__label sk-toggleable__label-arrow\">RandomForestRegressor</label><div class=\"sk-toggleable__content\"><pre>RandomForestRegressor()</pre></div></div></div></div></div>"
      ],
      "text/plain": [
       "RandomForestRegressor()"
      ]
     },
     "execution_count": 289,
     "metadata": {},
     "output_type": "execute_result"
    }
   ],
   "source": [
    "#Fitting the model to nthe data\n",
    "forest.fit(X_train, y_train)"
   ]
  },
  {
   "cell_type": "markdown",
   "id": "1005d704",
   "metadata": {},
   "source": [
    "#### <span style=\"color:Teal\">Evaluating the Model</span>"
   ]
  },
  {
   "cell_type": "code",
   "execution_count": 290,
   "id": "e214d0bf",
   "metadata": {
    "scrolled": false
   },
   "outputs": [
    {
     "name": "stdout",
     "output_type": "stream",
     "text": [
      "CV Mean R²:  0.7069506879434364\n",
      "CV STD:  0.03635995536991886\n",
      "Mean Absolute Error (MAE):  0.004094586475040317\n",
      "Mean Squared Error (MSE):  0.00012470795347825934\n",
      "Root Mean Squared Error (RMSE):  0.011167271532395877\n",
      "R-squared (R²):  0.9588334092098425\n",
      "\n",
      "\n"
     ]
    }
   ],
   "source": [
    "# Calculate the mean values and Standard deviation\n",
    "get_cv_scores(forest)"
   ]
  },
  {
   "cell_type": "code",
   "execution_count": 291,
   "id": "0d7d96ae",
   "metadata": {},
   "outputs": [
    {
     "name": "stdout",
     "output_type": "stream",
     "text": [
      "R² training set score: 0.9588334092098425\n",
      "R² testing set score: 0.7332104307052365\n"
     ]
    }
   ],
   "source": [
    "# Comparing training to testing results\n",
    "print(f'R² training set score: {forest.score(X_train, y_train)}')\n",
    "print(f'R² testing set score: {forest.score(X_test, y_test)}')"
   ]
  },
  {
   "cell_type": "code",
   "execution_count": 295,
   "id": "68ecad72",
   "metadata": {},
   "outputs": [],
   "source": [
    "# Calculate the predicted values\n",
    "y_pred = forest.predict(X_test)"
   ]
  },
  {
   "cell_type": "code",
   "execution_count": 296,
   "id": "2b3da231",
   "metadata": {
    "scrolled": true
   },
   "outputs": [
    {
     "data": {
      "text/html": [
       "<div>\n",
       "<style scoped>\n",
       "    .dataframe tbody tr th:only-of-type {\n",
       "        vertical-align: middle;\n",
       "    }\n",
       "\n",
       "    .dataframe tbody tr th {\n",
       "        vertical-align: top;\n",
       "    }\n",
       "\n",
       "    .dataframe thead th {\n",
       "        text-align: right;\n",
       "    }\n",
       "</style>\n",
       "<table border=\"1\" class=\"dataframe\">\n",
       "  <thead>\n",
       "    <tr style=\"text-align: right;\">\n",
       "      <th></th>\n",
       "      <th>Actual</th>\n",
       "      <th>Predicted</th>\n",
       "    </tr>\n",
       "  </thead>\n",
       "  <tbody>\n",
       "    <tr>\n",
       "      <th>9772</th>\n",
       "      <td>0.000083</td>\n",
       "      <td>0.000855</td>\n",
       "    </tr>\n",
       "    <tr>\n",
       "      <th>2337</th>\n",
       "      <td>0.002722</td>\n",
       "      <td>0.005010</td>\n",
       "    </tr>\n",
       "    <tr>\n",
       "      <th>9588</th>\n",
       "      <td>0.000500</td>\n",
       "      <td>0.004641</td>\n",
       "    </tr>\n",
       "    <tr>\n",
       "      <th>2233</th>\n",
       "      <td>0.000222</td>\n",
       "      <td>0.003501</td>\n",
       "    </tr>\n",
       "    <tr>\n",
       "      <th>4122</th>\n",
       "      <td>0.011056</td>\n",
       "      <td>0.004205</td>\n",
       "    </tr>\n",
       "  </tbody>\n",
       "</table>\n",
       "</div>"
      ],
      "text/plain": [
       "        Actual  Predicted\n",
       "9772  0.000083   0.000855\n",
       "2337  0.002722   0.005010\n",
       "9588  0.000500   0.004641\n",
       "2233  0.000222   0.003501\n",
       "4122  0.011056   0.004205"
      ]
     },
     "execution_count": 296,
     "metadata": {},
     "output_type": "execute_result"
    }
   ],
   "source": [
    "# Display the test and predicted values\n",
    "df = pd.DataFrame({'Actual': y_test, 'Predicted': y_pred})\n",
    "df.head()"
   ]
  },
  {
   "cell_type": "markdown",
   "id": "73853aeb",
   "metadata": {},
   "source": [
    "The resulst are at least in the same ball park unlike previous models"
   ]
  },
  {
   "cell_type": "markdown",
   "id": "0d049855",
   "metadata": {},
   "source": [
    "### <span style=\"color:Teal\">Split: 90% Training and 10% for Testing</span>"
   ]
  },
  {
   "cell_type": "code",
   "execution_count": 303,
   "id": "88c90890",
   "metadata": {},
   "outputs": [],
   "source": [
    "# Split dataset into training set and test set\n",
    "X_train, X_test, y_train, y_test = train_test_split(X, y, test_size = 0.1,  random_state = 42) "
   ]
  },
  {
   "cell_type": "code",
   "execution_count": 304,
   "id": "e9ec2e4e",
   "metadata": {},
   "outputs": [
    {
     "data": {
      "text/html": [
       "<style>#sk-container-id-22 {color: black;}#sk-container-id-22 pre{padding: 0;}#sk-container-id-22 div.sk-toggleable {background-color: white;}#sk-container-id-22 label.sk-toggleable__label {cursor: pointer;display: block;width: 100%;margin-bottom: 0;padding: 0.3em;box-sizing: border-box;text-align: center;}#sk-container-id-22 label.sk-toggleable__label-arrow:before {content: \"▸\";float: left;margin-right: 0.25em;color: #696969;}#sk-container-id-22 label.sk-toggleable__label-arrow:hover:before {color: black;}#sk-container-id-22 div.sk-estimator:hover label.sk-toggleable__label-arrow:before {color: black;}#sk-container-id-22 div.sk-toggleable__content {max-height: 0;max-width: 0;overflow: hidden;text-align: left;background-color: #f0f8ff;}#sk-container-id-22 div.sk-toggleable__content pre {margin: 0.2em;color: black;border-radius: 0.25em;background-color: #f0f8ff;}#sk-container-id-22 input.sk-toggleable__control:checked~div.sk-toggleable__content {max-height: 200px;max-width: 100%;overflow: auto;}#sk-container-id-22 input.sk-toggleable__control:checked~label.sk-toggleable__label-arrow:before {content: \"▾\";}#sk-container-id-22 div.sk-estimator input.sk-toggleable__control:checked~label.sk-toggleable__label {background-color: #d4ebff;}#sk-container-id-22 div.sk-label input.sk-toggleable__control:checked~label.sk-toggleable__label {background-color: #d4ebff;}#sk-container-id-22 input.sk-hidden--visually {border: 0;clip: rect(1px 1px 1px 1px);clip: rect(1px, 1px, 1px, 1px);height: 1px;margin: -1px;overflow: hidden;padding: 0;position: absolute;width: 1px;}#sk-container-id-22 div.sk-estimator {font-family: monospace;background-color: #f0f8ff;border: 1px dotted black;border-radius: 0.25em;box-sizing: border-box;margin-bottom: 0.5em;}#sk-container-id-22 div.sk-estimator:hover {background-color: #d4ebff;}#sk-container-id-22 div.sk-parallel-item::after {content: \"\";width: 100%;border-bottom: 1px solid gray;flex-grow: 1;}#sk-container-id-22 div.sk-label:hover label.sk-toggleable__label {background-color: #d4ebff;}#sk-container-id-22 div.sk-serial::before {content: \"\";position: absolute;border-left: 1px solid gray;box-sizing: border-box;top: 0;bottom: 0;left: 50%;z-index: 0;}#sk-container-id-22 div.sk-serial {display: flex;flex-direction: column;align-items: center;background-color: white;padding-right: 0.2em;padding-left: 0.2em;position: relative;}#sk-container-id-22 div.sk-item {position: relative;z-index: 1;}#sk-container-id-22 div.sk-parallel {display: flex;align-items: stretch;justify-content: center;background-color: white;position: relative;}#sk-container-id-22 div.sk-item::before, #sk-container-id-22 div.sk-parallel-item::before {content: \"\";position: absolute;border-left: 1px solid gray;box-sizing: border-box;top: 0;bottom: 0;left: 50%;z-index: -1;}#sk-container-id-22 div.sk-parallel-item {display: flex;flex-direction: column;z-index: 1;position: relative;background-color: white;}#sk-container-id-22 div.sk-parallel-item:first-child::after {align-self: flex-end;width: 50%;}#sk-container-id-22 div.sk-parallel-item:last-child::after {align-self: flex-start;width: 50%;}#sk-container-id-22 div.sk-parallel-item:only-child::after {width: 0;}#sk-container-id-22 div.sk-dashed-wrapped {border: 1px dashed gray;margin: 0 0.4em 0.5em 0.4em;box-sizing: border-box;padding-bottom: 0.4em;background-color: white;}#sk-container-id-22 div.sk-label label {font-family: monospace;font-weight: bold;display: inline-block;line-height: 1.2em;}#sk-container-id-22 div.sk-label-container {text-align: center;}#sk-container-id-22 div.sk-container {/* jupyter's `normalize.less` sets `[hidden] { display: none; }` but bootstrap.min.css set `[hidden] { display: none !important; }` so we also need the `!important` here to be able to override the default hidden behavior on the sphinx rendered scikit-learn.org. See: https://github.com/scikit-learn/scikit-learn/issues/21755 */display: inline-block !important;position: relative;}#sk-container-id-22 div.sk-text-repr-fallback {display: none;}</style><div id=\"sk-container-id-22\" class=\"sk-top-container\"><div class=\"sk-text-repr-fallback\"><pre>RandomForestRegressor()</pre><b>In a Jupyter environment, please rerun this cell to show the HTML representation or trust the notebook. <br />On GitHub, the HTML representation is unable to render, please try loading this page with nbviewer.org.</b></div><div class=\"sk-container\" hidden><div class=\"sk-item\"><div class=\"sk-estimator sk-toggleable\"><input class=\"sk-toggleable__control sk-hidden--visually\" id=\"sk-estimator-id-22\" type=\"checkbox\" checked><label for=\"sk-estimator-id-22\" class=\"sk-toggleable__label sk-toggleable__label-arrow\">RandomForestRegressor</label><div class=\"sk-toggleable__content\"><pre>RandomForestRegressor()</pre></div></div></div></div></div>"
      ],
      "text/plain": [
       "RandomForestRegressor()"
      ]
     },
     "execution_count": 304,
     "metadata": {},
     "output_type": "execute_result"
    }
   ],
   "source": [
    "#Fitting the model to nthe data\n",
    "forest.fit(X_train, y_train)"
   ]
  },
  {
   "cell_type": "markdown",
   "id": "47e14d3e",
   "metadata": {},
   "source": [
    "#### <span style=\"color:Teal\">Evaluating the Model</span>"
   ]
  },
  {
   "cell_type": "code",
   "execution_count": 305,
   "id": "1af12ebe",
   "metadata": {},
   "outputs": [
    {
     "name": "stdout",
     "output_type": "stream",
     "text": [
      "CV Mean R²:  0.7156304018368109\n",
      "CV STD:  0.03605767081595555\n",
      "Mean Absolute Error (MAE):  0.004029437935089631\n",
      "Mean Squared Error (MSE):  0.00011964819963889735\n",
      "Root Mean Squared Error (RMSE):  0.010938381947934409\n",
      "R-squared (R²):  0.9611574715601694\n",
      "\n",
      "\n"
     ]
    }
   ],
   "source": [
    "# Calculate the mean values and Standard deviation\n",
    "get_cv_scores(forest)"
   ]
  },
  {
   "cell_type": "markdown",
   "id": "2214f28f",
   "metadata": {},
   "source": [
    "The 90:10 train:test split produces the best results. Although we see signs of overfitting below, the MAE, MSE and RMSE are quite low indicating the lowest difference so far between actual and prediccted values. "
   ]
  },
  {
   "cell_type": "code",
   "execution_count": 306,
   "id": "f5d942c4",
   "metadata": {
    "scrolled": false
   },
   "outputs": [
    {
     "name": "stdout",
     "output_type": "stream",
     "text": [
      "R² training set score: 0.9611574715601694\n",
      "R² testing set score: 0.7356555852201675\n"
     ]
    }
   ],
   "source": [
    "# Comparing training to testing results\n",
    "print(f'R² training set score: {forest.score(X_train, y_train)}')\n",
    "print(f'R² testing set score: {forest.score(X_test, y_test)}')"
   ]
  },
  {
   "cell_type": "markdown",
   "id": "047b64b2",
   "metadata": {},
   "source": [
    "The model is still overfitting to the training dataset. Overfitting is not uncommon for Random Forest models. We may need to appy pruning or early stopping or some other hyperparameter tuning to counter this."
   ]
  },
  {
   "cell_type": "code",
   "execution_count": 307,
   "id": "13bda589",
   "metadata": {},
   "outputs": [],
   "source": [
    "# Calculate the predicted values\n",
    "y_pred = forest.predict(X_test)"
   ]
  },
  {
   "cell_type": "code",
   "execution_count": 308,
   "id": "a98591f9",
   "metadata": {},
   "outputs": [
    {
     "data": {
      "text/html": [
       "<div>\n",
       "<style scoped>\n",
       "    .dataframe tbody tr th:only-of-type {\n",
       "        vertical-align: middle;\n",
       "    }\n",
       "\n",
       "    .dataframe tbody tr th {\n",
       "        vertical-align: top;\n",
       "    }\n",
       "\n",
       "    .dataframe thead th {\n",
       "        text-align: right;\n",
       "    }\n",
       "</style>\n",
       "<table border=\"1\" class=\"dataframe\">\n",
       "  <thead>\n",
       "    <tr style=\"text-align: right;\">\n",
       "      <th></th>\n",
       "      <th>Actual</th>\n",
       "      <th>Predicted</th>\n",
       "    </tr>\n",
       "  </thead>\n",
       "  <tbody>\n",
       "    <tr>\n",
       "      <th>9772</th>\n",
       "      <td>0.000083</td>\n",
       "      <td>0.000442</td>\n",
       "    </tr>\n",
       "    <tr>\n",
       "      <th>2337</th>\n",
       "      <td>0.002722</td>\n",
       "      <td>0.005420</td>\n",
       "    </tr>\n",
       "    <tr>\n",
       "      <th>9588</th>\n",
       "      <td>0.000500</td>\n",
       "      <td>0.004846</td>\n",
       "    </tr>\n",
       "    <tr>\n",
       "      <th>2233</th>\n",
       "      <td>0.000222</td>\n",
       "      <td>0.003550</td>\n",
       "    </tr>\n",
       "    <tr>\n",
       "      <th>4122</th>\n",
       "      <td>0.011056</td>\n",
       "      <td>0.003855</td>\n",
       "    </tr>\n",
       "  </tbody>\n",
       "</table>\n",
       "</div>"
      ],
      "text/plain": [
       "        Actual  Predicted\n",
       "9772  0.000083   0.000442\n",
       "2337  0.002722   0.005420\n",
       "9588  0.000500   0.004846\n",
       "2233  0.000222   0.003550\n",
       "4122  0.011056   0.003855"
      ]
     },
     "execution_count": 308,
     "metadata": {},
     "output_type": "execute_result"
    }
   ],
   "source": [
    "# Display the test and predicted values\n",
    "df = pd.DataFrame({'Actual': y_test, 'Predicted': y_pred})\n",
    "df.head()"
   ]
  },
  {
   "cell_type": "markdown",
   "id": "ada348f4",
   "metadata": {},
   "source": [
    "### <span style=\"color:Teal\">Split: 70% Training and 30% for Testing</span>"
   ]
  },
  {
   "cell_type": "code",
   "execution_count": 300,
   "id": "f4b8e1c8",
   "metadata": {},
   "outputs": [],
   "source": [
    "# Split dataset into training set and test set\n",
    "X_train, X_test, y_train, y_test = train_test_split(X, y, test_size = 0.3,  random_state = 42) "
   ]
  },
  {
   "cell_type": "code",
   "execution_count": 301,
   "id": "595f4023",
   "metadata": {},
   "outputs": [
    {
     "data": {
      "text/html": [
       "<style>#sk-container-id-21 {color: black;}#sk-container-id-21 pre{padding: 0;}#sk-container-id-21 div.sk-toggleable {background-color: white;}#sk-container-id-21 label.sk-toggleable__label {cursor: pointer;display: block;width: 100%;margin-bottom: 0;padding: 0.3em;box-sizing: border-box;text-align: center;}#sk-container-id-21 label.sk-toggleable__label-arrow:before {content: \"▸\";float: left;margin-right: 0.25em;color: #696969;}#sk-container-id-21 label.sk-toggleable__label-arrow:hover:before {color: black;}#sk-container-id-21 div.sk-estimator:hover label.sk-toggleable__label-arrow:before {color: black;}#sk-container-id-21 div.sk-toggleable__content {max-height: 0;max-width: 0;overflow: hidden;text-align: left;background-color: #f0f8ff;}#sk-container-id-21 div.sk-toggleable__content pre {margin: 0.2em;color: black;border-radius: 0.25em;background-color: #f0f8ff;}#sk-container-id-21 input.sk-toggleable__control:checked~div.sk-toggleable__content {max-height: 200px;max-width: 100%;overflow: auto;}#sk-container-id-21 input.sk-toggleable__control:checked~label.sk-toggleable__label-arrow:before {content: \"▾\";}#sk-container-id-21 div.sk-estimator input.sk-toggleable__control:checked~label.sk-toggleable__label {background-color: #d4ebff;}#sk-container-id-21 div.sk-label input.sk-toggleable__control:checked~label.sk-toggleable__label {background-color: #d4ebff;}#sk-container-id-21 input.sk-hidden--visually {border: 0;clip: rect(1px 1px 1px 1px);clip: rect(1px, 1px, 1px, 1px);height: 1px;margin: -1px;overflow: hidden;padding: 0;position: absolute;width: 1px;}#sk-container-id-21 div.sk-estimator {font-family: monospace;background-color: #f0f8ff;border: 1px dotted black;border-radius: 0.25em;box-sizing: border-box;margin-bottom: 0.5em;}#sk-container-id-21 div.sk-estimator:hover {background-color: #d4ebff;}#sk-container-id-21 div.sk-parallel-item::after {content: \"\";width: 100%;border-bottom: 1px solid gray;flex-grow: 1;}#sk-container-id-21 div.sk-label:hover label.sk-toggleable__label {background-color: #d4ebff;}#sk-container-id-21 div.sk-serial::before {content: \"\";position: absolute;border-left: 1px solid gray;box-sizing: border-box;top: 0;bottom: 0;left: 50%;z-index: 0;}#sk-container-id-21 div.sk-serial {display: flex;flex-direction: column;align-items: center;background-color: white;padding-right: 0.2em;padding-left: 0.2em;position: relative;}#sk-container-id-21 div.sk-item {position: relative;z-index: 1;}#sk-container-id-21 div.sk-parallel {display: flex;align-items: stretch;justify-content: center;background-color: white;position: relative;}#sk-container-id-21 div.sk-item::before, #sk-container-id-21 div.sk-parallel-item::before {content: \"\";position: absolute;border-left: 1px solid gray;box-sizing: border-box;top: 0;bottom: 0;left: 50%;z-index: -1;}#sk-container-id-21 div.sk-parallel-item {display: flex;flex-direction: column;z-index: 1;position: relative;background-color: white;}#sk-container-id-21 div.sk-parallel-item:first-child::after {align-self: flex-end;width: 50%;}#sk-container-id-21 div.sk-parallel-item:last-child::after {align-self: flex-start;width: 50%;}#sk-container-id-21 div.sk-parallel-item:only-child::after {width: 0;}#sk-container-id-21 div.sk-dashed-wrapped {border: 1px dashed gray;margin: 0 0.4em 0.5em 0.4em;box-sizing: border-box;padding-bottom: 0.4em;background-color: white;}#sk-container-id-21 div.sk-label label {font-family: monospace;font-weight: bold;display: inline-block;line-height: 1.2em;}#sk-container-id-21 div.sk-label-container {text-align: center;}#sk-container-id-21 div.sk-container {/* jupyter's `normalize.less` sets `[hidden] { display: none; }` but bootstrap.min.css set `[hidden] { display: none !important; }` so we also need the `!important` here to be able to override the default hidden behavior on the sphinx rendered scikit-learn.org. See: https://github.com/scikit-learn/scikit-learn/issues/21755 */display: inline-block !important;position: relative;}#sk-container-id-21 div.sk-text-repr-fallback {display: none;}</style><div id=\"sk-container-id-21\" class=\"sk-top-container\"><div class=\"sk-text-repr-fallback\"><pre>RandomForestRegressor()</pre><b>In a Jupyter environment, please rerun this cell to show the HTML representation or trust the notebook. <br />On GitHub, the HTML representation is unable to render, please try loading this page with nbviewer.org.</b></div><div class=\"sk-container\" hidden><div class=\"sk-item\"><div class=\"sk-estimator sk-toggleable\"><input class=\"sk-toggleable__control sk-hidden--visually\" id=\"sk-estimator-id-21\" type=\"checkbox\" checked><label for=\"sk-estimator-id-21\" class=\"sk-toggleable__label sk-toggleable__label-arrow\">RandomForestRegressor</label><div class=\"sk-toggleable__content\"><pre>RandomForestRegressor()</pre></div></div></div></div></div>"
      ],
      "text/plain": [
       "RandomForestRegressor()"
      ]
     },
     "execution_count": 301,
     "metadata": {},
     "output_type": "execute_result"
    }
   ],
   "source": [
    "#Fitting the model to nthe data\n",
    "forest.fit(X_train, y_train)"
   ]
  },
  {
   "cell_type": "code",
   "execution_count": 302,
   "id": "25d06be1",
   "metadata": {},
   "outputs": [
    {
     "name": "stdout",
     "output_type": "stream",
     "text": [
      "R² training set score: 0.9562298870779404\n",
      "R² testing set score: 0.7048923155359867\n"
     ]
    }
   ],
   "source": [
    "# Comparing training to testing results\n",
    "print(f'R² training set score: {forest.score(X_train, y_train)}')\n",
    "print(f'R² testing set score: {forest.score(X_test, y_test)}')"
   ]
  },
  {
   "cell_type": "markdown",
   "id": "1cd3c5f0",
   "metadata": {},
   "source": [
    "### <span style=\"color:Teal\">Hyperparameter Tuning</span>"
   ]
  },
  {
   "cell_type": "code",
   "execution_count": null,
   "id": "0d93484d",
   "metadata": {},
   "outputs": [],
   "source": []
  },
  {
   "cell_type": "code",
   "execution_count": null,
   "id": "7d0ffe7b",
   "metadata": {},
   "outputs": [],
   "source": []
  },
  {
   "cell_type": "code",
   "execution_count": null,
   "id": "391284a2",
   "metadata": {},
   "outputs": [],
   "source": []
  },
  {
   "cell_type": "code",
   "execution_count": null,
   "id": "7fddad46",
   "metadata": {},
   "outputs": [],
   "source": []
  },
  {
   "cell_type": "code",
   "execution_count": null,
   "id": "1cd83583",
   "metadata": {},
   "outputs": [],
   "source": []
  },
  {
   "cell_type": "code",
   "execution_count": null,
   "id": "9960909f",
   "metadata": {},
   "outputs": [],
   "source": []
  },
  {
   "cell_type": "markdown",
   "id": "995ad11c",
   "metadata": {},
   "source": [
    "# Ninth Model: Gradient Boosting Regressor on  Dummies Dataset with all features ( MinMax Scaled)"
   ]
  },
  {
   "cell_type": "code",
   "execution_count": 309,
   "id": "19f79de3",
   "metadata": {},
   "outputs": [],
   "source": [
    "y = df8_dummies_all_mm_scaled['market_value_in_eur']"
   ]
  },
  {
   "cell_type": "code",
   "execution_count": 310,
   "id": "6400ed8b",
   "metadata": {},
   "outputs": [
    {
     "data": {
      "text/plain": [
       "(10168,)"
      ]
     },
     "execution_count": 310,
     "metadata": {},
     "output_type": "execute_result"
    }
   ],
   "source": [
    "y.shape"
   ]
  },
  {
   "cell_type": "code",
   "execution_count": 311,
   "id": "32064f33",
   "metadata": {},
   "outputs": [],
   "source": [
    "X = df8_dummies_all_mm_scaled.drop(['market_value_in_eur'], axis = 1)"
   ]
  },
  {
   "cell_type": "code",
   "execution_count": 312,
   "id": "1114647c",
   "metadata": {},
   "outputs": [
    {
     "data": {
      "text/plain": [
       "(10168, 373)"
      ]
     },
     "execution_count": 312,
     "metadata": {},
     "output_type": "execute_result"
    }
   ],
   "source": [
    "X.shape"
   ]
  },
  {
   "cell_type": "markdown",
   "id": "2ad6f625",
   "metadata": {},
   "source": [
    "### <span style=\"color:Teal\">Split: 70% Training and 30% for Testing</span>"
   ]
  },
  {
   "cell_type": "code",
   "execution_count": 313,
   "id": "6f3b5fa0",
   "metadata": {},
   "outputs": [],
   "source": [
    "# Split dataset into training set and test set\n",
    "X_train, X_test, y_train, y_test = train_test_split(X, y, test_size = 0.3,  random_state = 42) "
   ]
  },
  {
   "cell_type": "markdown",
   "id": "930e0581",
   "metadata": {},
   "source": [
    "#### <span style=\"color:Teal\">Modelling</span>"
   ]
  },
  {
   "cell_type": "code",
   "execution_count": 314,
   "id": "6e2361fb",
   "metadata": {},
   "outputs": [],
   "source": [
    "#Instantiating Gradient Boosting Regressor algorithm and storing it to 'gbr' object\n",
    "gbr = GradientBoostingRegressor()"
   ]
  },
  {
   "cell_type": "code",
   "execution_count": 315,
   "id": "e2d7c264",
   "metadata": {},
   "outputs": [
    {
     "data": {
      "text/html": [
       "<style>#sk-container-id-23 {color: black;}#sk-container-id-23 pre{padding: 0;}#sk-container-id-23 div.sk-toggleable {background-color: white;}#sk-container-id-23 label.sk-toggleable__label {cursor: pointer;display: block;width: 100%;margin-bottom: 0;padding: 0.3em;box-sizing: border-box;text-align: center;}#sk-container-id-23 label.sk-toggleable__label-arrow:before {content: \"▸\";float: left;margin-right: 0.25em;color: #696969;}#sk-container-id-23 label.sk-toggleable__label-arrow:hover:before {color: black;}#sk-container-id-23 div.sk-estimator:hover label.sk-toggleable__label-arrow:before {color: black;}#sk-container-id-23 div.sk-toggleable__content {max-height: 0;max-width: 0;overflow: hidden;text-align: left;background-color: #f0f8ff;}#sk-container-id-23 div.sk-toggleable__content pre {margin: 0.2em;color: black;border-radius: 0.25em;background-color: #f0f8ff;}#sk-container-id-23 input.sk-toggleable__control:checked~div.sk-toggleable__content {max-height: 200px;max-width: 100%;overflow: auto;}#sk-container-id-23 input.sk-toggleable__control:checked~label.sk-toggleable__label-arrow:before {content: \"▾\";}#sk-container-id-23 div.sk-estimator input.sk-toggleable__control:checked~label.sk-toggleable__label {background-color: #d4ebff;}#sk-container-id-23 div.sk-label input.sk-toggleable__control:checked~label.sk-toggleable__label {background-color: #d4ebff;}#sk-container-id-23 input.sk-hidden--visually {border: 0;clip: rect(1px 1px 1px 1px);clip: rect(1px, 1px, 1px, 1px);height: 1px;margin: -1px;overflow: hidden;padding: 0;position: absolute;width: 1px;}#sk-container-id-23 div.sk-estimator {font-family: monospace;background-color: #f0f8ff;border: 1px dotted black;border-radius: 0.25em;box-sizing: border-box;margin-bottom: 0.5em;}#sk-container-id-23 div.sk-estimator:hover {background-color: #d4ebff;}#sk-container-id-23 div.sk-parallel-item::after {content: \"\";width: 100%;border-bottom: 1px solid gray;flex-grow: 1;}#sk-container-id-23 div.sk-label:hover label.sk-toggleable__label {background-color: #d4ebff;}#sk-container-id-23 div.sk-serial::before {content: \"\";position: absolute;border-left: 1px solid gray;box-sizing: border-box;top: 0;bottom: 0;left: 50%;z-index: 0;}#sk-container-id-23 div.sk-serial {display: flex;flex-direction: column;align-items: center;background-color: white;padding-right: 0.2em;padding-left: 0.2em;position: relative;}#sk-container-id-23 div.sk-item {position: relative;z-index: 1;}#sk-container-id-23 div.sk-parallel {display: flex;align-items: stretch;justify-content: center;background-color: white;position: relative;}#sk-container-id-23 div.sk-item::before, #sk-container-id-23 div.sk-parallel-item::before {content: \"\";position: absolute;border-left: 1px solid gray;box-sizing: border-box;top: 0;bottom: 0;left: 50%;z-index: -1;}#sk-container-id-23 div.sk-parallel-item {display: flex;flex-direction: column;z-index: 1;position: relative;background-color: white;}#sk-container-id-23 div.sk-parallel-item:first-child::after {align-self: flex-end;width: 50%;}#sk-container-id-23 div.sk-parallel-item:last-child::after {align-self: flex-start;width: 50%;}#sk-container-id-23 div.sk-parallel-item:only-child::after {width: 0;}#sk-container-id-23 div.sk-dashed-wrapped {border: 1px dashed gray;margin: 0 0.4em 0.5em 0.4em;box-sizing: border-box;padding-bottom: 0.4em;background-color: white;}#sk-container-id-23 div.sk-label label {font-family: monospace;font-weight: bold;display: inline-block;line-height: 1.2em;}#sk-container-id-23 div.sk-label-container {text-align: center;}#sk-container-id-23 div.sk-container {/* jupyter's `normalize.less` sets `[hidden] { display: none; }` but bootstrap.min.css set `[hidden] { display: none !important; }` so we also need the `!important` here to be able to override the default hidden behavior on the sphinx rendered scikit-learn.org. See: https://github.com/scikit-learn/scikit-learn/issues/21755 */display: inline-block !important;position: relative;}#sk-container-id-23 div.sk-text-repr-fallback {display: none;}</style><div id=\"sk-container-id-23\" class=\"sk-top-container\"><div class=\"sk-text-repr-fallback\"><pre>GradientBoostingRegressor()</pre><b>In a Jupyter environment, please rerun this cell to show the HTML representation or trust the notebook. <br />On GitHub, the HTML representation is unable to render, please try loading this page with nbviewer.org.</b></div><div class=\"sk-container\" hidden><div class=\"sk-item\"><div class=\"sk-estimator sk-toggleable\"><input class=\"sk-toggleable__control sk-hidden--visually\" id=\"sk-estimator-id-23\" type=\"checkbox\" checked><label for=\"sk-estimator-id-23\" class=\"sk-toggleable__label sk-toggleable__label-arrow\">GradientBoostingRegressor</label><div class=\"sk-toggleable__content\"><pre>GradientBoostingRegressor()</pre></div></div></div></div></div>"
      ],
      "text/plain": [
       "GradientBoostingRegressor()"
      ]
     },
     "execution_count": 315,
     "metadata": {},
     "output_type": "execute_result"
    }
   ],
   "source": [
    "#Fitting the model to nthe data\n",
    "gbr.fit(X_train, y_train)"
   ]
  },
  {
   "cell_type": "markdown",
   "id": "28060a0e",
   "metadata": {},
   "source": [
    "#### <span style=\"color:Teal\">Evaluating the Model</span>"
   ]
  },
  {
   "cell_type": "code",
   "execution_count": 316,
   "id": "7614f799",
   "metadata": {},
   "outputs": [
    {
     "name": "stdout",
     "output_type": "stream",
     "text": [
      "R² training set score: 0.8909816296588506\n",
      "R² testing set score: 0.7058180144701349\n"
     ]
    }
   ],
   "source": [
    "# Comparing training to testing results\n",
    "print(f'R² training set score: {gbr.score(X_train, y_train)}')\n",
    "print(f'R² testing set score: {gbr.score(X_test, y_test)}')"
   ]
  },
  {
   "cell_type": "code",
   "execution_count": 317,
   "id": "9b8861ea",
   "metadata": {},
   "outputs": [
    {
     "name": "stdout",
     "output_type": "stream",
     "text": [
      "CV Mean R²:  0.70422703464754\n",
      "CV STD:  0.041758932604699164\n",
      "Mean Absolute Error (MAE):  0.009036824231652618\n",
      "Mean Squared Error (MSE):  0.000323723807061457\n",
      "Root Mean Squared Error (RMSE):  0.017992326338232556\n",
      "R-squared (R²):  0.8909816296588506\n",
      "\n",
      "\n"
     ]
    }
   ],
   "source": [
    "# Calculate the mean values and Standard deviation\n",
    "get_cv_scores(gbr)"
   ]
  },
  {
   "cell_type": "code",
   "execution_count": 318,
   "id": "691241df",
   "metadata": {},
   "outputs": [],
   "source": [
    "# Calculate the predicted values\n",
    "y_pred = gbr.predict(X_test)"
   ]
  },
  {
   "cell_type": "code",
   "execution_count": 319,
   "id": "d66e2e4e",
   "metadata": {},
   "outputs": [
    {
     "data": {
      "text/html": [
       "<div>\n",
       "<style scoped>\n",
       "    .dataframe tbody tr th:only-of-type {\n",
       "        vertical-align: middle;\n",
       "    }\n",
       "\n",
       "    .dataframe tbody tr th {\n",
       "        vertical-align: top;\n",
       "    }\n",
       "\n",
       "    .dataframe thead th {\n",
       "        text-align: right;\n",
       "    }\n",
       "</style>\n",
       "<table border=\"1\" class=\"dataframe\">\n",
       "  <thead>\n",
       "    <tr style=\"text-align: right;\">\n",
       "      <th></th>\n",
       "      <th>Actual</th>\n",
       "      <th>Predicted</th>\n",
       "    </tr>\n",
       "  </thead>\n",
       "  <tbody>\n",
       "    <tr>\n",
       "      <th>9772</th>\n",
       "      <td>0.000083</td>\n",
       "      <td>0.005194</td>\n",
       "    </tr>\n",
       "    <tr>\n",
       "      <th>2337</th>\n",
       "      <td>0.002722</td>\n",
       "      <td>0.005291</td>\n",
       "    </tr>\n",
       "    <tr>\n",
       "      <th>9588</th>\n",
       "      <td>0.000500</td>\n",
       "      <td>0.011292</td>\n",
       "    </tr>\n",
       "    <tr>\n",
       "      <th>2233</th>\n",
       "      <td>0.000222</td>\n",
       "      <td>0.003168</td>\n",
       "    </tr>\n",
       "    <tr>\n",
       "      <th>4122</th>\n",
       "      <td>0.011056</td>\n",
       "      <td>0.005679</td>\n",
       "    </tr>\n",
       "  </tbody>\n",
       "</table>\n",
       "</div>"
      ],
      "text/plain": [
       "        Actual  Predicted\n",
       "9772  0.000083   0.005194\n",
       "2337  0.002722   0.005291\n",
       "9588  0.000500   0.011292\n",
       "2233  0.000222   0.003168\n",
       "4122  0.011056   0.005679"
      ]
     },
     "execution_count": 319,
     "metadata": {},
     "output_type": "execute_result"
    }
   ],
   "source": [
    "# Display the test and predicted values\n",
    "df = pd.DataFrame({'Actual': y_test, 'Predicted': y_pred})\n",
    "df.head()"
   ]
  },
  {
   "cell_type": "markdown",
   "id": "4bb3ed52",
   "metadata": {},
   "source": [
    "### <span style=\"color:Teal\">Split: 80% Training and 20% for Testing</span>"
   ]
  },
  {
   "cell_type": "code",
   "execution_count": 320,
   "id": "9aec9de6",
   "metadata": {},
   "outputs": [],
   "source": [
    "# Split dataset into training set and test set\n",
    "X_train, X_test, y_train, y_test = train_test_split(X, y, test_size = 0.2,  random_state = 42) "
   ]
  },
  {
   "cell_type": "markdown",
   "id": "bfbe501e",
   "metadata": {},
   "source": [
    "#### <span style=\"color:Teal\">Modelling</span>"
   ]
  },
  {
   "cell_type": "code",
   "execution_count": 321,
   "id": "f4a266d9",
   "metadata": {},
   "outputs": [
    {
     "data": {
      "text/html": [
       "<style>#sk-container-id-24 {color: black;}#sk-container-id-24 pre{padding: 0;}#sk-container-id-24 div.sk-toggleable {background-color: white;}#sk-container-id-24 label.sk-toggleable__label {cursor: pointer;display: block;width: 100%;margin-bottom: 0;padding: 0.3em;box-sizing: border-box;text-align: center;}#sk-container-id-24 label.sk-toggleable__label-arrow:before {content: \"▸\";float: left;margin-right: 0.25em;color: #696969;}#sk-container-id-24 label.sk-toggleable__label-arrow:hover:before {color: black;}#sk-container-id-24 div.sk-estimator:hover label.sk-toggleable__label-arrow:before {color: black;}#sk-container-id-24 div.sk-toggleable__content {max-height: 0;max-width: 0;overflow: hidden;text-align: left;background-color: #f0f8ff;}#sk-container-id-24 div.sk-toggleable__content pre {margin: 0.2em;color: black;border-radius: 0.25em;background-color: #f0f8ff;}#sk-container-id-24 input.sk-toggleable__control:checked~div.sk-toggleable__content {max-height: 200px;max-width: 100%;overflow: auto;}#sk-container-id-24 input.sk-toggleable__control:checked~label.sk-toggleable__label-arrow:before {content: \"▾\";}#sk-container-id-24 div.sk-estimator input.sk-toggleable__control:checked~label.sk-toggleable__label {background-color: #d4ebff;}#sk-container-id-24 div.sk-label input.sk-toggleable__control:checked~label.sk-toggleable__label {background-color: #d4ebff;}#sk-container-id-24 input.sk-hidden--visually {border: 0;clip: rect(1px 1px 1px 1px);clip: rect(1px, 1px, 1px, 1px);height: 1px;margin: -1px;overflow: hidden;padding: 0;position: absolute;width: 1px;}#sk-container-id-24 div.sk-estimator {font-family: monospace;background-color: #f0f8ff;border: 1px dotted black;border-radius: 0.25em;box-sizing: border-box;margin-bottom: 0.5em;}#sk-container-id-24 div.sk-estimator:hover {background-color: #d4ebff;}#sk-container-id-24 div.sk-parallel-item::after {content: \"\";width: 100%;border-bottom: 1px solid gray;flex-grow: 1;}#sk-container-id-24 div.sk-label:hover label.sk-toggleable__label {background-color: #d4ebff;}#sk-container-id-24 div.sk-serial::before {content: \"\";position: absolute;border-left: 1px solid gray;box-sizing: border-box;top: 0;bottom: 0;left: 50%;z-index: 0;}#sk-container-id-24 div.sk-serial {display: flex;flex-direction: column;align-items: center;background-color: white;padding-right: 0.2em;padding-left: 0.2em;position: relative;}#sk-container-id-24 div.sk-item {position: relative;z-index: 1;}#sk-container-id-24 div.sk-parallel {display: flex;align-items: stretch;justify-content: center;background-color: white;position: relative;}#sk-container-id-24 div.sk-item::before, #sk-container-id-24 div.sk-parallel-item::before {content: \"\";position: absolute;border-left: 1px solid gray;box-sizing: border-box;top: 0;bottom: 0;left: 50%;z-index: -1;}#sk-container-id-24 div.sk-parallel-item {display: flex;flex-direction: column;z-index: 1;position: relative;background-color: white;}#sk-container-id-24 div.sk-parallel-item:first-child::after {align-self: flex-end;width: 50%;}#sk-container-id-24 div.sk-parallel-item:last-child::after {align-self: flex-start;width: 50%;}#sk-container-id-24 div.sk-parallel-item:only-child::after {width: 0;}#sk-container-id-24 div.sk-dashed-wrapped {border: 1px dashed gray;margin: 0 0.4em 0.5em 0.4em;box-sizing: border-box;padding-bottom: 0.4em;background-color: white;}#sk-container-id-24 div.sk-label label {font-family: monospace;font-weight: bold;display: inline-block;line-height: 1.2em;}#sk-container-id-24 div.sk-label-container {text-align: center;}#sk-container-id-24 div.sk-container {/* jupyter's `normalize.less` sets `[hidden] { display: none; }` but bootstrap.min.css set `[hidden] { display: none !important; }` so we also need the `!important` here to be able to override the default hidden behavior on the sphinx rendered scikit-learn.org. See: https://github.com/scikit-learn/scikit-learn/issues/21755 */display: inline-block !important;position: relative;}#sk-container-id-24 div.sk-text-repr-fallback {display: none;}</style><div id=\"sk-container-id-24\" class=\"sk-top-container\"><div class=\"sk-text-repr-fallback\"><pre>GradientBoostingRegressor()</pre><b>In a Jupyter environment, please rerun this cell to show the HTML representation or trust the notebook. <br />On GitHub, the HTML representation is unable to render, please try loading this page with nbviewer.org.</b></div><div class=\"sk-container\" hidden><div class=\"sk-item\"><div class=\"sk-estimator sk-toggleable\"><input class=\"sk-toggleable__control sk-hidden--visually\" id=\"sk-estimator-id-24\" type=\"checkbox\" checked><label for=\"sk-estimator-id-24\" class=\"sk-toggleable__label sk-toggleable__label-arrow\">GradientBoostingRegressor</label><div class=\"sk-toggleable__content\"><pre>GradientBoostingRegressor()</pre></div></div></div></div></div>"
      ],
      "text/plain": [
       "GradientBoostingRegressor()"
      ]
     },
     "execution_count": 321,
     "metadata": {},
     "output_type": "execute_result"
    }
   ],
   "source": [
    "#Fitting the model to nthe data\n",
    "gbr.fit(X_train, y_train)"
   ]
  },
  {
   "cell_type": "markdown",
   "id": "0573eef7",
   "metadata": {},
   "source": [
    "#### <span style=\"color:Teal\">Evaluating the Model</span>"
   ]
  },
  {
   "cell_type": "code",
   "execution_count": 322,
   "id": "42b89bc7",
   "metadata": {},
   "outputs": [
    {
     "name": "stdout",
     "output_type": "stream",
     "text": [
      "CV Mean R²:  0.7238763825811168\n",
      "CV STD:  0.027347642055492453\n",
      "Mean Absolute Error (MAE):  0.009255820106858772\n",
      "Mean Squared Error (MSE):  0.0003436950705623092\n",
      "Root Mean Squared Error (RMSE):  0.018539014821783523\n",
      "R-squared (R²):  0.8865448920312892\n",
      "\n",
      "\n"
     ]
    }
   ],
   "source": [
    "# Calculate the mean values and Standard deviation\n",
    "get_cv_scores(gbr)"
   ]
  },
  {
   "cell_type": "code",
   "execution_count": 323,
   "id": "2451e965",
   "metadata": {},
   "outputs": [
    {
     "name": "stdout",
     "output_type": "stream",
     "text": [
      "R² training set score: 0.8865448920312892\n",
      "R² testing set score: 0.756860596367217\n"
     ]
    }
   ],
   "source": [
    "# Comparing training to testing results\n",
    "print(f'R² training set score: {gbr.score(X_train, y_train)}')\n",
    "print(f'R² testing set score: {gbr.score(X_test, y_test)}')"
   ]
  },
  {
   "cell_type": "code",
   "execution_count": 324,
   "id": "bdf425af",
   "metadata": {},
   "outputs": [],
   "source": [
    "# Calculate the predicted values\n",
    "y_pred = gbr.predict(X_test)"
   ]
  },
  {
   "cell_type": "code",
   "execution_count": 325,
   "id": "83bcfb1e",
   "metadata": {},
   "outputs": [
    {
     "data": {
      "text/html": [
       "<div>\n",
       "<style scoped>\n",
       "    .dataframe tbody tr th:only-of-type {\n",
       "        vertical-align: middle;\n",
       "    }\n",
       "\n",
       "    .dataframe tbody tr th {\n",
       "        vertical-align: top;\n",
       "    }\n",
       "\n",
       "    .dataframe thead th {\n",
       "        text-align: right;\n",
       "    }\n",
       "</style>\n",
       "<table border=\"1\" class=\"dataframe\">\n",
       "  <thead>\n",
       "    <tr style=\"text-align: right;\">\n",
       "      <th></th>\n",
       "      <th>Actual</th>\n",
       "      <th>Predicted</th>\n",
       "    </tr>\n",
       "  </thead>\n",
       "  <tbody>\n",
       "    <tr>\n",
       "      <th>9772</th>\n",
       "      <td>0.000083</td>\n",
       "      <td>0.004747</td>\n",
       "    </tr>\n",
       "    <tr>\n",
       "      <th>2337</th>\n",
       "      <td>0.002722</td>\n",
       "      <td>0.004077</td>\n",
       "    </tr>\n",
       "    <tr>\n",
       "      <th>9588</th>\n",
       "      <td>0.000500</td>\n",
       "      <td>0.011177</td>\n",
       "    </tr>\n",
       "    <tr>\n",
       "      <th>2233</th>\n",
       "      <td>0.000222</td>\n",
       "      <td>0.002211</td>\n",
       "    </tr>\n",
       "    <tr>\n",
       "      <th>4122</th>\n",
       "      <td>0.011056</td>\n",
       "      <td>0.005506</td>\n",
       "    </tr>\n",
       "  </tbody>\n",
       "</table>\n",
       "</div>"
      ],
      "text/plain": [
       "        Actual  Predicted\n",
       "9772  0.000083   0.004747\n",
       "2337  0.002722   0.004077\n",
       "9588  0.000500   0.011177\n",
       "2233  0.000222   0.002211\n",
       "4122  0.011056   0.005506"
      ]
     },
     "execution_count": 325,
     "metadata": {},
     "output_type": "execute_result"
    }
   ],
   "source": [
    "# Display the test and predicted values\n",
    "df = pd.DataFrame({'Actual': y_test, 'Predicted': y_pred})\n",
    "df.head()"
   ]
  },
  {
   "cell_type": "markdown",
   "id": "d5e62ecc",
   "metadata": {},
   "source": [
    "### <span style=\"color:Teal\">Split: 90% Training and 10% for Testing</span>"
   ]
  },
  {
   "cell_type": "code",
   "execution_count": 326,
   "id": "0ab4427f",
   "metadata": {},
   "outputs": [],
   "source": [
    "# Split dataset into training set and test set\n",
    "X_train, X_test, y_train, y_test = train_test_split(X, y, test_size = 0.1,  random_state = 42) "
   ]
  },
  {
   "cell_type": "markdown",
   "id": "1e75217a",
   "metadata": {},
   "source": [
    "#### <span style=\"color:Teal\">Modelling</span>"
   ]
  },
  {
   "cell_type": "code",
   "execution_count": 327,
   "id": "111ec601",
   "metadata": {},
   "outputs": [
    {
     "data": {
      "text/html": [
       "<style>#sk-container-id-25 {color: black;}#sk-container-id-25 pre{padding: 0;}#sk-container-id-25 div.sk-toggleable {background-color: white;}#sk-container-id-25 label.sk-toggleable__label {cursor: pointer;display: block;width: 100%;margin-bottom: 0;padding: 0.3em;box-sizing: border-box;text-align: center;}#sk-container-id-25 label.sk-toggleable__label-arrow:before {content: \"▸\";float: left;margin-right: 0.25em;color: #696969;}#sk-container-id-25 label.sk-toggleable__label-arrow:hover:before {color: black;}#sk-container-id-25 div.sk-estimator:hover label.sk-toggleable__label-arrow:before {color: black;}#sk-container-id-25 div.sk-toggleable__content {max-height: 0;max-width: 0;overflow: hidden;text-align: left;background-color: #f0f8ff;}#sk-container-id-25 div.sk-toggleable__content pre {margin: 0.2em;color: black;border-radius: 0.25em;background-color: #f0f8ff;}#sk-container-id-25 input.sk-toggleable__control:checked~div.sk-toggleable__content {max-height: 200px;max-width: 100%;overflow: auto;}#sk-container-id-25 input.sk-toggleable__control:checked~label.sk-toggleable__label-arrow:before {content: \"▾\";}#sk-container-id-25 div.sk-estimator input.sk-toggleable__control:checked~label.sk-toggleable__label {background-color: #d4ebff;}#sk-container-id-25 div.sk-label input.sk-toggleable__control:checked~label.sk-toggleable__label {background-color: #d4ebff;}#sk-container-id-25 input.sk-hidden--visually {border: 0;clip: rect(1px 1px 1px 1px);clip: rect(1px, 1px, 1px, 1px);height: 1px;margin: -1px;overflow: hidden;padding: 0;position: absolute;width: 1px;}#sk-container-id-25 div.sk-estimator {font-family: monospace;background-color: #f0f8ff;border: 1px dotted black;border-radius: 0.25em;box-sizing: border-box;margin-bottom: 0.5em;}#sk-container-id-25 div.sk-estimator:hover {background-color: #d4ebff;}#sk-container-id-25 div.sk-parallel-item::after {content: \"\";width: 100%;border-bottom: 1px solid gray;flex-grow: 1;}#sk-container-id-25 div.sk-label:hover label.sk-toggleable__label {background-color: #d4ebff;}#sk-container-id-25 div.sk-serial::before {content: \"\";position: absolute;border-left: 1px solid gray;box-sizing: border-box;top: 0;bottom: 0;left: 50%;z-index: 0;}#sk-container-id-25 div.sk-serial {display: flex;flex-direction: column;align-items: center;background-color: white;padding-right: 0.2em;padding-left: 0.2em;position: relative;}#sk-container-id-25 div.sk-item {position: relative;z-index: 1;}#sk-container-id-25 div.sk-parallel {display: flex;align-items: stretch;justify-content: center;background-color: white;position: relative;}#sk-container-id-25 div.sk-item::before, #sk-container-id-25 div.sk-parallel-item::before {content: \"\";position: absolute;border-left: 1px solid gray;box-sizing: border-box;top: 0;bottom: 0;left: 50%;z-index: -1;}#sk-container-id-25 div.sk-parallel-item {display: flex;flex-direction: column;z-index: 1;position: relative;background-color: white;}#sk-container-id-25 div.sk-parallel-item:first-child::after {align-self: flex-end;width: 50%;}#sk-container-id-25 div.sk-parallel-item:last-child::after {align-self: flex-start;width: 50%;}#sk-container-id-25 div.sk-parallel-item:only-child::after {width: 0;}#sk-container-id-25 div.sk-dashed-wrapped {border: 1px dashed gray;margin: 0 0.4em 0.5em 0.4em;box-sizing: border-box;padding-bottom: 0.4em;background-color: white;}#sk-container-id-25 div.sk-label label {font-family: monospace;font-weight: bold;display: inline-block;line-height: 1.2em;}#sk-container-id-25 div.sk-label-container {text-align: center;}#sk-container-id-25 div.sk-container {/* jupyter's `normalize.less` sets `[hidden] { display: none; }` but bootstrap.min.css set `[hidden] { display: none !important; }` so we also need the `!important` here to be able to override the default hidden behavior on the sphinx rendered scikit-learn.org. See: https://github.com/scikit-learn/scikit-learn/issues/21755 */display: inline-block !important;position: relative;}#sk-container-id-25 div.sk-text-repr-fallback {display: none;}</style><div id=\"sk-container-id-25\" class=\"sk-top-container\"><div class=\"sk-text-repr-fallback\"><pre>GradientBoostingRegressor()</pre><b>In a Jupyter environment, please rerun this cell to show the HTML representation or trust the notebook. <br />On GitHub, the HTML representation is unable to render, please try loading this page with nbviewer.org.</b></div><div class=\"sk-container\" hidden><div class=\"sk-item\"><div class=\"sk-estimator sk-toggleable\"><input class=\"sk-toggleable__control sk-hidden--visually\" id=\"sk-estimator-id-25\" type=\"checkbox\" checked><label for=\"sk-estimator-id-25\" class=\"sk-toggleable__label sk-toggleable__label-arrow\">GradientBoostingRegressor</label><div class=\"sk-toggleable__content\"><pre>GradientBoostingRegressor()</pre></div></div></div></div></div>"
      ],
      "text/plain": [
       "GradientBoostingRegressor()"
      ]
     },
     "execution_count": 327,
     "metadata": {},
     "output_type": "execute_result"
    }
   ],
   "source": [
    "#Fitting the model to nthe data\n",
    "gbr.fit(X_train, y_train)"
   ]
  },
  {
   "cell_type": "markdown",
   "id": "551d0c78",
   "metadata": {},
   "source": [
    "#### <span style=\"color:Teal\">Evaluating the Model</span>"
   ]
  },
  {
   "cell_type": "code",
   "execution_count": 328,
   "id": "e3688b55",
   "metadata": {},
   "outputs": [
    {
     "name": "stdout",
     "output_type": "stream",
     "text": [
      "CV Mean R²:  0.7338403795166876\n",
      "CV STD:  0.04356521601846109\n",
      "Mean Absolute Error (MAE):  0.009358980597763236\n",
      "Mean Squared Error (MSE):  0.0003523607591825585\n",
      "Root Mean Squared Error (RMSE):  0.018771274841697844\n",
      "R-squared (R²):  0.8856097889401141\n",
      "\n",
      "\n"
     ]
    }
   ],
   "source": [
    "# Calculate the mean values and Standard deviation\n",
    "get_cv_scores(gbr)"
   ]
  },
  {
   "cell_type": "code",
   "execution_count": 329,
   "id": "f1cd79e5",
   "metadata": {},
   "outputs": [
    {
     "name": "stdout",
     "output_type": "stream",
     "text": [
      "R² training set score: 0.8856097889401141\n",
      "R² testing set score: 0.7302563493477365\n"
     ]
    }
   ],
   "source": [
    "# Comparing training to testing results\n",
    "print(f'R² training set score: {gbr.score(X_train, y_train)}')\n",
    "print(f'R² testing set score: {gbr.score(X_test, y_test)}')"
   ]
  },
  {
   "cell_type": "code",
   "execution_count": 330,
   "id": "9a2f648d",
   "metadata": {},
   "outputs": [],
   "source": [
    "# Calculate the predicted values\n",
    "y_pred = gbr.predict(X_test)"
   ]
  },
  {
   "cell_type": "code",
   "execution_count": 331,
   "id": "f91134c1",
   "metadata": {
    "scrolled": true
   },
   "outputs": [
    {
     "data": {
      "text/html": [
       "<div>\n",
       "<style scoped>\n",
       "    .dataframe tbody tr th:only-of-type {\n",
       "        vertical-align: middle;\n",
       "    }\n",
       "\n",
       "    .dataframe tbody tr th {\n",
       "        vertical-align: top;\n",
       "    }\n",
       "\n",
       "    .dataframe thead th {\n",
       "        text-align: right;\n",
       "    }\n",
       "</style>\n",
       "<table border=\"1\" class=\"dataframe\">\n",
       "  <thead>\n",
       "    <tr style=\"text-align: right;\">\n",
       "      <th></th>\n",
       "      <th>Actual</th>\n",
       "      <th>Predicted</th>\n",
       "    </tr>\n",
       "  </thead>\n",
       "  <tbody>\n",
       "    <tr>\n",
       "      <th>9772</th>\n",
       "      <td>0.000083</td>\n",
       "      <td>0.004448</td>\n",
       "    </tr>\n",
       "    <tr>\n",
       "      <th>2337</th>\n",
       "      <td>0.002722</td>\n",
       "      <td>0.005895</td>\n",
       "    </tr>\n",
       "    <tr>\n",
       "      <th>9588</th>\n",
       "      <td>0.000500</td>\n",
       "      <td>0.011424</td>\n",
       "    </tr>\n",
       "    <tr>\n",
       "      <th>2233</th>\n",
       "      <td>0.000222</td>\n",
       "      <td>0.002024</td>\n",
       "    </tr>\n",
       "    <tr>\n",
       "      <th>4122</th>\n",
       "      <td>0.011056</td>\n",
       "      <td>0.004625</td>\n",
       "    </tr>\n",
       "  </tbody>\n",
       "</table>\n",
       "</div>"
      ],
      "text/plain": [
       "        Actual  Predicted\n",
       "9772  0.000083   0.004448\n",
       "2337  0.002722   0.005895\n",
       "9588  0.000500   0.011424\n",
       "2233  0.000222   0.002024\n",
       "4122  0.011056   0.004625"
      ]
     },
     "execution_count": 331,
     "metadata": {},
     "output_type": "execute_result"
    }
   ],
   "source": [
    "# Display the test and predicted values\n",
    "df = pd.DataFrame({'Actual': y_test, 'Predicted': y_pred})\n",
    "df.head()"
   ]
  },
  {
   "cell_type": "markdown",
   "id": "7133f1d8",
   "metadata": {},
   "source": [
    "## Tenth Model: Gradient Boosting Regressor on  Dummies Dataset with all features ( Robust Scaled)"
   ]
  },
  {
   "cell_type": "code",
   "execution_count": 340,
   "id": "b236f91b",
   "metadata": {},
   "outputs": [
    {
     "data": {
      "text/plain": [
       "(10168, 374)"
      ]
     },
     "execution_count": 340,
     "metadata": {},
     "output_type": "execute_result"
    }
   ],
   "source": [
    "df8_dummies_all_rb_scaled.shape"
   ]
  },
  {
   "cell_type": "code",
   "execution_count": 341,
   "id": "097442d0",
   "metadata": {},
   "outputs": [],
   "source": [
    "y = df8_dummies_all_mm_scaled['market_value_in_eur']"
   ]
  },
  {
   "cell_type": "code",
   "execution_count": 342,
   "id": "e0ccdbd2",
   "metadata": {},
   "outputs": [
    {
     "data": {
      "text/plain": [
       "(10168,)"
      ]
     },
     "execution_count": 342,
     "metadata": {},
     "output_type": "execute_result"
    }
   ],
   "source": [
    "y.shape"
   ]
  },
  {
   "cell_type": "code",
   "execution_count": 343,
   "id": "7a0561b9",
   "metadata": {},
   "outputs": [],
   "source": [
    "X = df8_dummies_all_mm_scaled.drop(['market_value_in_eur'], axis = 1)"
   ]
  },
  {
   "cell_type": "code",
   "execution_count": 344,
   "id": "0a2dbfab",
   "metadata": {},
   "outputs": [
    {
     "data": {
      "text/plain": [
       "(10168, 373)"
      ]
     },
     "execution_count": 344,
     "metadata": {},
     "output_type": "execute_result"
    }
   ],
   "source": [
    "X.shape"
   ]
  },
  {
   "cell_type": "markdown",
   "id": "3ac9df85",
   "metadata": {},
   "source": [
    "### <span style=\"color:Teal\">Split: 90% Training and 10% for Testing</span>"
   ]
  },
  {
   "cell_type": "code",
   "execution_count": 345,
   "id": "1a66fab8",
   "metadata": {},
   "outputs": [],
   "source": [
    "# Split dataset into training set and test set\n",
    "X_train, X_test, y_train, y_test = train_test_split(X, y, test_size = 0.1,  random_state = 42) "
   ]
  },
  {
   "cell_type": "markdown",
   "id": "52a5c46a",
   "metadata": {},
   "source": [
    "#### <span style=\"color:Teal\">Modelling</span>"
   ]
  },
  {
   "cell_type": "code",
   "execution_count": 346,
   "id": "d1a5c50e",
   "metadata": {},
   "outputs": [
    {
     "data": {
      "text/html": [
       "<style>#sk-container-id-26 {color: black;}#sk-container-id-26 pre{padding: 0;}#sk-container-id-26 div.sk-toggleable {background-color: white;}#sk-container-id-26 label.sk-toggleable__label {cursor: pointer;display: block;width: 100%;margin-bottom: 0;padding: 0.3em;box-sizing: border-box;text-align: center;}#sk-container-id-26 label.sk-toggleable__label-arrow:before {content: \"▸\";float: left;margin-right: 0.25em;color: #696969;}#sk-container-id-26 label.sk-toggleable__label-arrow:hover:before {color: black;}#sk-container-id-26 div.sk-estimator:hover label.sk-toggleable__label-arrow:before {color: black;}#sk-container-id-26 div.sk-toggleable__content {max-height: 0;max-width: 0;overflow: hidden;text-align: left;background-color: #f0f8ff;}#sk-container-id-26 div.sk-toggleable__content pre {margin: 0.2em;color: black;border-radius: 0.25em;background-color: #f0f8ff;}#sk-container-id-26 input.sk-toggleable__control:checked~div.sk-toggleable__content {max-height: 200px;max-width: 100%;overflow: auto;}#sk-container-id-26 input.sk-toggleable__control:checked~label.sk-toggleable__label-arrow:before {content: \"▾\";}#sk-container-id-26 div.sk-estimator input.sk-toggleable__control:checked~label.sk-toggleable__label {background-color: #d4ebff;}#sk-container-id-26 div.sk-label input.sk-toggleable__control:checked~label.sk-toggleable__label {background-color: #d4ebff;}#sk-container-id-26 input.sk-hidden--visually {border: 0;clip: rect(1px 1px 1px 1px);clip: rect(1px, 1px, 1px, 1px);height: 1px;margin: -1px;overflow: hidden;padding: 0;position: absolute;width: 1px;}#sk-container-id-26 div.sk-estimator {font-family: monospace;background-color: #f0f8ff;border: 1px dotted black;border-radius: 0.25em;box-sizing: border-box;margin-bottom: 0.5em;}#sk-container-id-26 div.sk-estimator:hover {background-color: #d4ebff;}#sk-container-id-26 div.sk-parallel-item::after {content: \"\";width: 100%;border-bottom: 1px solid gray;flex-grow: 1;}#sk-container-id-26 div.sk-label:hover label.sk-toggleable__label {background-color: #d4ebff;}#sk-container-id-26 div.sk-serial::before {content: \"\";position: absolute;border-left: 1px solid gray;box-sizing: border-box;top: 0;bottom: 0;left: 50%;z-index: 0;}#sk-container-id-26 div.sk-serial {display: flex;flex-direction: column;align-items: center;background-color: white;padding-right: 0.2em;padding-left: 0.2em;position: relative;}#sk-container-id-26 div.sk-item {position: relative;z-index: 1;}#sk-container-id-26 div.sk-parallel {display: flex;align-items: stretch;justify-content: center;background-color: white;position: relative;}#sk-container-id-26 div.sk-item::before, #sk-container-id-26 div.sk-parallel-item::before {content: \"\";position: absolute;border-left: 1px solid gray;box-sizing: border-box;top: 0;bottom: 0;left: 50%;z-index: -1;}#sk-container-id-26 div.sk-parallel-item {display: flex;flex-direction: column;z-index: 1;position: relative;background-color: white;}#sk-container-id-26 div.sk-parallel-item:first-child::after {align-self: flex-end;width: 50%;}#sk-container-id-26 div.sk-parallel-item:last-child::after {align-self: flex-start;width: 50%;}#sk-container-id-26 div.sk-parallel-item:only-child::after {width: 0;}#sk-container-id-26 div.sk-dashed-wrapped {border: 1px dashed gray;margin: 0 0.4em 0.5em 0.4em;box-sizing: border-box;padding-bottom: 0.4em;background-color: white;}#sk-container-id-26 div.sk-label label {font-family: monospace;font-weight: bold;display: inline-block;line-height: 1.2em;}#sk-container-id-26 div.sk-label-container {text-align: center;}#sk-container-id-26 div.sk-container {/* jupyter's `normalize.less` sets `[hidden] { display: none; }` but bootstrap.min.css set `[hidden] { display: none !important; }` so we also need the `!important` here to be able to override the default hidden behavior on the sphinx rendered scikit-learn.org. See: https://github.com/scikit-learn/scikit-learn/issues/21755 */display: inline-block !important;position: relative;}#sk-container-id-26 div.sk-text-repr-fallback {display: none;}</style><div id=\"sk-container-id-26\" class=\"sk-top-container\"><div class=\"sk-text-repr-fallback\"><pre>GradientBoostingRegressor()</pre><b>In a Jupyter environment, please rerun this cell to show the HTML representation or trust the notebook. <br />On GitHub, the HTML representation is unable to render, please try loading this page with nbviewer.org.</b></div><div class=\"sk-container\" hidden><div class=\"sk-item\"><div class=\"sk-estimator sk-toggleable\"><input class=\"sk-toggleable__control sk-hidden--visually\" id=\"sk-estimator-id-26\" type=\"checkbox\" checked><label for=\"sk-estimator-id-26\" class=\"sk-toggleable__label sk-toggleable__label-arrow\">GradientBoostingRegressor</label><div class=\"sk-toggleable__content\"><pre>GradientBoostingRegressor()</pre></div></div></div></div></div>"
      ],
      "text/plain": [
       "GradientBoostingRegressor()"
      ]
     },
     "execution_count": 346,
     "metadata": {},
     "output_type": "execute_result"
    }
   ],
   "source": [
    "#Fitting the model to nthe data\n",
    "gbr.fit(X_train, y_train)"
   ]
  },
  {
   "cell_type": "markdown",
   "id": "a1c32377",
   "metadata": {},
   "source": [
    "#### <span style=\"color:Teal\">Evaluating the Model</span>"
   ]
  },
  {
   "cell_type": "code",
   "execution_count": 347,
   "id": "8521880c",
   "metadata": {},
   "outputs": [
    {
     "name": "stdout",
     "output_type": "stream",
     "text": [
      "CV Mean R²:  0.735168305351028\n",
      "CV STD:  0.04451503195558119\n",
      "Mean Absolute Error (MAE):  0.009358980597763238\n",
      "Mean Squared Error (MSE):  0.0003523607591825585\n",
      "Root Mean Squared Error (RMSE):  0.018771274841697844\n",
      "R-squared (R²):  0.8856097889401141\n",
      "\n",
      "\n"
     ]
    }
   ],
   "source": [
    "# Calculate the mean values and Standard deviation\n",
    "get_cv_scores(gbr)"
   ]
  },
  {
   "cell_type": "markdown",
   "id": "2dc78d15",
   "metadata": {},
   "source": [
    "The results from GBR on the differently scaled dataset is almost identical, unlike the previous Linear Regression Model which showed better generalisation on the MinMax Scaled data. We will continue with the Robust Scaled dataset and try to optimise the model and reduce overfitting through hyperparameter tuning."
   ]
  },
  {
   "cell_type": "code",
   "execution_count": 348,
   "id": "a73a28b9",
   "metadata": {},
   "outputs": [
    {
     "name": "stdout",
     "output_type": "stream",
     "text": [
      "R² training set score: 0.8856097889401141\n",
      "R² testing set score: 0.7327944707232514\n"
     ]
    }
   ],
   "source": [
    "# Comparing training to testing results\n",
    "print(f'R² training set score: {gbr.score(X_train, y_train)}')\n",
    "print(f'R² testing set score: {gbr.score(X_test, y_test)}')"
   ]
  },
  {
   "cell_type": "markdown",
   "id": "63dfa73b",
   "metadata": {},
   "source": [
    "### <span style=\"color:Teal\">Split: 80% Training and 20% for Testing</span>"
   ]
  },
  {
   "cell_type": "code",
   "execution_count": 355,
   "id": "e89df0f8",
   "metadata": {},
   "outputs": [],
   "source": [
    "# Split dataset into training set and test set\n",
    "X_train, X_test, y_train, y_test = train_test_split(X, y, test_size = 0.2,  random_state = 42) "
   ]
  },
  {
   "cell_type": "markdown",
   "id": "874f299a",
   "metadata": {},
   "source": [
    "#### <span style=\"color:Teal\">Modelling</span>"
   ]
  },
  {
   "cell_type": "code",
   "execution_count": 356,
   "id": "42a45c39",
   "metadata": {},
   "outputs": [
    {
     "data": {
      "text/html": [
       "<style>#sk-container-id-27 {color: black;}#sk-container-id-27 pre{padding: 0;}#sk-container-id-27 div.sk-toggleable {background-color: white;}#sk-container-id-27 label.sk-toggleable__label {cursor: pointer;display: block;width: 100%;margin-bottom: 0;padding: 0.3em;box-sizing: border-box;text-align: center;}#sk-container-id-27 label.sk-toggleable__label-arrow:before {content: \"▸\";float: left;margin-right: 0.25em;color: #696969;}#sk-container-id-27 label.sk-toggleable__label-arrow:hover:before {color: black;}#sk-container-id-27 div.sk-estimator:hover label.sk-toggleable__label-arrow:before {color: black;}#sk-container-id-27 div.sk-toggleable__content {max-height: 0;max-width: 0;overflow: hidden;text-align: left;background-color: #f0f8ff;}#sk-container-id-27 div.sk-toggleable__content pre {margin: 0.2em;color: black;border-radius: 0.25em;background-color: #f0f8ff;}#sk-container-id-27 input.sk-toggleable__control:checked~div.sk-toggleable__content {max-height: 200px;max-width: 100%;overflow: auto;}#sk-container-id-27 input.sk-toggleable__control:checked~label.sk-toggleable__label-arrow:before {content: \"▾\";}#sk-container-id-27 div.sk-estimator input.sk-toggleable__control:checked~label.sk-toggleable__label {background-color: #d4ebff;}#sk-container-id-27 div.sk-label input.sk-toggleable__control:checked~label.sk-toggleable__label {background-color: #d4ebff;}#sk-container-id-27 input.sk-hidden--visually {border: 0;clip: rect(1px 1px 1px 1px);clip: rect(1px, 1px, 1px, 1px);height: 1px;margin: -1px;overflow: hidden;padding: 0;position: absolute;width: 1px;}#sk-container-id-27 div.sk-estimator {font-family: monospace;background-color: #f0f8ff;border: 1px dotted black;border-radius: 0.25em;box-sizing: border-box;margin-bottom: 0.5em;}#sk-container-id-27 div.sk-estimator:hover {background-color: #d4ebff;}#sk-container-id-27 div.sk-parallel-item::after {content: \"\";width: 100%;border-bottom: 1px solid gray;flex-grow: 1;}#sk-container-id-27 div.sk-label:hover label.sk-toggleable__label {background-color: #d4ebff;}#sk-container-id-27 div.sk-serial::before {content: \"\";position: absolute;border-left: 1px solid gray;box-sizing: border-box;top: 0;bottom: 0;left: 50%;z-index: 0;}#sk-container-id-27 div.sk-serial {display: flex;flex-direction: column;align-items: center;background-color: white;padding-right: 0.2em;padding-left: 0.2em;position: relative;}#sk-container-id-27 div.sk-item {position: relative;z-index: 1;}#sk-container-id-27 div.sk-parallel {display: flex;align-items: stretch;justify-content: center;background-color: white;position: relative;}#sk-container-id-27 div.sk-item::before, #sk-container-id-27 div.sk-parallel-item::before {content: \"\";position: absolute;border-left: 1px solid gray;box-sizing: border-box;top: 0;bottom: 0;left: 50%;z-index: -1;}#sk-container-id-27 div.sk-parallel-item {display: flex;flex-direction: column;z-index: 1;position: relative;background-color: white;}#sk-container-id-27 div.sk-parallel-item:first-child::after {align-self: flex-end;width: 50%;}#sk-container-id-27 div.sk-parallel-item:last-child::after {align-self: flex-start;width: 50%;}#sk-container-id-27 div.sk-parallel-item:only-child::after {width: 0;}#sk-container-id-27 div.sk-dashed-wrapped {border: 1px dashed gray;margin: 0 0.4em 0.5em 0.4em;box-sizing: border-box;padding-bottom: 0.4em;background-color: white;}#sk-container-id-27 div.sk-label label {font-family: monospace;font-weight: bold;display: inline-block;line-height: 1.2em;}#sk-container-id-27 div.sk-label-container {text-align: center;}#sk-container-id-27 div.sk-container {/* jupyter's `normalize.less` sets `[hidden] { display: none; }` but bootstrap.min.css set `[hidden] { display: none !important; }` so we also need the `!important` here to be able to override the default hidden behavior on the sphinx rendered scikit-learn.org. See: https://github.com/scikit-learn/scikit-learn/issues/21755 */display: inline-block !important;position: relative;}#sk-container-id-27 div.sk-text-repr-fallback {display: none;}</style><div id=\"sk-container-id-27\" class=\"sk-top-container\"><div class=\"sk-text-repr-fallback\"><pre>GradientBoostingRegressor()</pre><b>In a Jupyter environment, please rerun this cell to show the HTML representation or trust the notebook. <br />On GitHub, the HTML representation is unable to render, please try loading this page with nbviewer.org.</b></div><div class=\"sk-container\" hidden><div class=\"sk-item\"><div class=\"sk-estimator sk-toggleable\"><input class=\"sk-toggleable__control sk-hidden--visually\" id=\"sk-estimator-id-27\" type=\"checkbox\" checked><label for=\"sk-estimator-id-27\" class=\"sk-toggleable__label sk-toggleable__label-arrow\">GradientBoostingRegressor</label><div class=\"sk-toggleable__content\"><pre>GradientBoostingRegressor()</pre></div></div></div></div></div>"
      ],
      "text/plain": [
       "GradientBoostingRegressor()"
      ]
     },
     "execution_count": 356,
     "metadata": {},
     "output_type": "execute_result"
    }
   ],
   "source": [
    "#Fitting the model to nthe data\n",
    "gbr.fit(X_train, y_train)"
   ]
  },
  {
   "cell_type": "markdown",
   "id": "143d872d",
   "metadata": {},
   "source": [
    "#### <span style=\"color:Teal\">Evaluating the Model</span>"
   ]
  },
  {
   "cell_type": "code",
   "execution_count": 357,
   "id": "c89ea051",
   "metadata": {},
   "outputs": [
    {
     "name": "stdout",
     "output_type": "stream",
     "text": [
      "CV Mean R²:  0.7239960005570505\n",
      "CV STD:  0.02787806454942855\n",
      "Mean Absolute Error (MAE):  0.009255820106858772\n",
      "Mean Squared Error (MSE):  0.00034369507056230923\n",
      "Root Mean Squared Error (RMSE):  0.018539014821783526\n",
      "R-squared (R²):  0.8865448920312892\n",
      "\n",
      "\n"
     ]
    }
   ],
   "source": [
    "# Calculate the mean values and Standard deviation\n",
    "get_cv_scores(gbr)"
   ]
  },
  {
   "cell_type": "markdown",
   "id": "4790d9d0",
   "metadata": {},
   "source": [
    "CV Mean R² score is slightly lower on a 80:20 train:test split but the other metrics are slightly better."
   ]
  },
  {
   "cell_type": "code",
   "execution_count": 358,
   "id": "2a8d9a76",
   "metadata": {},
   "outputs": [
    {
     "name": "stdout",
     "output_type": "stream",
     "text": [
      "R² training set score: 0.8865448920312892\n",
      "R² testing set score: 0.7552373753014826\n"
     ]
    }
   ],
   "source": [
    "# Comparing training to testing results\n",
    "print(f'R² training set score: {gbr.score(X_train, y_train)}')\n",
    "print(f'R² testing set score: {gbr.score(X_test, y_test)}')"
   ]
  },
  {
   "cell_type": "markdown",
   "id": "121bbfb8",
   "metadata": {},
   "source": [
    "Although still overfitting, these are the best results so far."
   ]
  },
  {
   "cell_type": "markdown",
   "id": "0ca4aa97",
   "metadata": {},
   "source": [
    "### <span style=\"color:Teal\">Hyperparameter Tuning</span>"
   ]
  },
  {
   "cell_type": "code",
   "execution_count": 352,
   "id": "b564eae5",
   "metadata": {
    "scrolled": false
   },
   "outputs": [
    {
     "name": "stdout",
     "output_type": "stream",
     "text": [
      "Best parameters: {'validation_fraction': 0.2, 'subsample': 1.0, 'n_iter_no_change': 6, 'n_estimators': 20, 'min_samples_split': 8, 'min_samples_leaf': 4, 'max_features': 'sqrt', 'max_depth': 6, 'learning_rate': 0.2}\n",
      "\n",
      "Best score: -0.01303734965804074\n"
     ]
    }
   ],
   "source": [
    "# define the hyperparameter space\n",
    "param_distributions = {\n",
    "    'n_estimators': [20, 50, 70, 100, 200, 400, 600],\n",
    "    'learning_rate': [0.01, 0.05, 0.1, 0.2, 0.3, 0.4],\n",
    "    'max_depth': [1, 2, 3, 4, 5, 6, 7, 8],\n",
    "    'min_samples_split': [2, 4, 6, 8, 10, 12, 15],\n",
    "    'min_samples_leaf': [1, 2, 3, 4, 5, 6],\n",
    "    'n_iter_no_change': [1, 2, 3, 4, 5, 6],\n",
    "    'validation_fraction': [0.1, 0.2],\n",
    "    'max_features': ['sqrt', 'log2'],\n",
    "    'subsample': [0.5, 0.6, 0.7, 0.8, 0.9, 1.0],\n",
    "}\n",
    "\n",
    "# define the number of iterations and cross-validation folds\n",
    "n_iter = 50\n",
    "cv = 5\n",
    "\n",
    "# create the random search object\n",
    "random_search = RandomizedSearchCV(\n",
    "    gbr,  \n",
    "    param_distributions=param_distributions,\n",
    "    n_iter=n_iter,\n",
    "    scoring='neg_mean_absolute_error',\n",
    "    n_jobs=-1,\n",
    "    cv=cv,\n",
    "    random_state=42\n",
    ")\n",
    "\n",
    "\n",
    "# fit the random search on the data\n",
    "random_search.fit(X, y)\n",
    "\n",
    "# print the best parameters and score\n",
    "print('Best parameters:', random_search.best_params_)\n",
    "print('\\nBest score:', random_search.best_score_)"
   ]
  },
  {
   "cell_type": "markdown",
   "id": "efcab213",
   "metadata": {},
   "source": [
    "## Final Model: Gradient Boosting Regressor on Dummies Dataset with all features ( MinMax Scaled) and Hyperparamaters tuned"
   ]
  },
  {
   "cell_type": "markdown",
   "id": "c4d1dbfd",
   "metadata": {},
   "source": [
    "### <span style=\"color:Teal\">Split: 80% Training and 20% for Testing</span>"
   ]
  },
  {
   "cell_type": "code",
   "execution_count": 359,
   "id": "344d530f",
   "metadata": {},
   "outputs": [],
   "source": [
    "# Split dataset into training set and test set\n",
    "X_train, X_test, y_train, y_test = train_test_split(X, y, test_size = 0.2,  random_state = 42) "
   ]
  },
  {
   "cell_type": "markdown",
   "id": "bbe10e53",
   "metadata": {},
   "source": [
    "#### <span style=\"color:Teal\">Modelling</span>"
   ]
  },
  {
   "cell_type": "code",
   "execution_count": 360,
   "id": "1918c518",
   "metadata": {},
   "outputs": [],
   "source": [
    "#Instantiating Gradient Boosting Regressor algorithm and storing it to 'gbr' object\n",
    "# Hyperparameters based on random search CV\n",
    "gbr = GradientBoostingRegressor( validation_fraction = 0.2, \n",
    "                                 subsample = 1.0, \n",
    "                                 n_iter_no_change = 6, \n",
    "                                 n_estimators = 20, \n",
    "                                 min_samples_split = 8, \n",
    "                                 min_samples_leaf = 4, \n",
    "                                 max_features = 'sqrt', \n",
    "                                 max_depth = 6, \n",
    "                                 learning_rate = 0.2,\n",
    "                                 random_state = 42)"
   ]
  },
  {
   "cell_type": "code",
   "execution_count": 361,
   "id": "c2460584",
   "metadata": {},
   "outputs": [
    {
     "data": {
      "text/html": [
       "<style>#sk-container-id-28 {color: black;}#sk-container-id-28 pre{padding: 0;}#sk-container-id-28 div.sk-toggleable {background-color: white;}#sk-container-id-28 label.sk-toggleable__label {cursor: pointer;display: block;width: 100%;margin-bottom: 0;padding: 0.3em;box-sizing: border-box;text-align: center;}#sk-container-id-28 label.sk-toggleable__label-arrow:before {content: \"▸\";float: left;margin-right: 0.25em;color: #696969;}#sk-container-id-28 label.sk-toggleable__label-arrow:hover:before {color: black;}#sk-container-id-28 div.sk-estimator:hover label.sk-toggleable__label-arrow:before {color: black;}#sk-container-id-28 div.sk-toggleable__content {max-height: 0;max-width: 0;overflow: hidden;text-align: left;background-color: #f0f8ff;}#sk-container-id-28 div.sk-toggleable__content pre {margin: 0.2em;color: black;border-radius: 0.25em;background-color: #f0f8ff;}#sk-container-id-28 input.sk-toggleable__control:checked~div.sk-toggleable__content {max-height: 200px;max-width: 100%;overflow: auto;}#sk-container-id-28 input.sk-toggleable__control:checked~label.sk-toggleable__label-arrow:before {content: \"▾\";}#sk-container-id-28 div.sk-estimator input.sk-toggleable__control:checked~label.sk-toggleable__label {background-color: #d4ebff;}#sk-container-id-28 div.sk-label input.sk-toggleable__control:checked~label.sk-toggleable__label {background-color: #d4ebff;}#sk-container-id-28 input.sk-hidden--visually {border: 0;clip: rect(1px 1px 1px 1px);clip: rect(1px, 1px, 1px, 1px);height: 1px;margin: -1px;overflow: hidden;padding: 0;position: absolute;width: 1px;}#sk-container-id-28 div.sk-estimator {font-family: monospace;background-color: #f0f8ff;border: 1px dotted black;border-radius: 0.25em;box-sizing: border-box;margin-bottom: 0.5em;}#sk-container-id-28 div.sk-estimator:hover {background-color: #d4ebff;}#sk-container-id-28 div.sk-parallel-item::after {content: \"\";width: 100%;border-bottom: 1px solid gray;flex-grow: 1;}#sk-container-id-28 div.sk-label:hover label.sk-toggleable__label {background-color: #d4ebff;}#sk-container-id-28 div.sk-serial::before {content: \"\";position: absolute;border-left: 1px solid gray;box-sizing: border-box;top: 0;bottom: 0;left: 50%;z-index: 0;}#sk-container-id-28 div.sk-serial {display: flex;flex-direction: column;align-items: center;background-color: white;padding-right: 0.2em;padding-left: 0.2em;position: relative;}#sk-container-id-28 div.sk-item {position: relative;z-index: 1;}#sk-container-id-28 div.sk-parallel {display: flex;align-items: stretch;justify-content: center;background-color: white;position: relative;}#sk-container-id-28 div.sk-item::before, #sk-container-id-28 div.sk-parallel-item::before {content: \"\";position: absolute;border-left: 1px solid gray;box-sizing: border-box;top: 0;bottom: 0;left: 50%;z-index: -1;}#sk-container-id-28 div.sk-parallel-item {display: flex;flex-direction: column;z-index: 1;position: relative;background-color: white;}#sk-container-id-28 div.sk-parallel-item:first-child::after {align-self: flex-end;width: 50%;}#sk-container-id-28 div.sk-parallel-item:last-child::after {align-self: flex-start;width: 50%;}#sk-container-id-28 div.sk-parallel-item:only-child::after {width: 0;}#sk-container-id-28 div.sk-dashed-wrapped {border: 1px dashed gray;margin: 0 0.4em 0.5em 0.4em;box-sizing: border-box;padding-bottom: 0.4em;background-color: white;}#sk-container-id-28 div.sk-label label {font-family: monospace;font-weight: bold;display: inline-block;line-height: 1.2em;}#sk-container-id-28 div.sk-label-container {text-align: center;}#sk-container-id-28 div.sk-container {/* jupyter's `normalize.less` sets `[hidden] { display: none; }` but bootstrap.min.css set `[hidden] { display: none !important; }` so we also need the `!important` here to be able to override the default hidden behavior on the sphinx rendered scikit-learn.org. See: https://github.com/scikit-learn/scikit-learn/issues/21755 */display: inline-block !important;position: relative;}#sk-container-id-28 div.sk-text-repr-fallback {display: none;}</style><div id=\"sk-container-id-28\" class=\"sk-top-container\"><div class=\"sk-text-repr-fallback\"><pre>GradientBoostingRegressor(learning_rate=0.2, max_depth=6, max_features=&#x27;sqrt&#x27;,\n",
       "                          min_samples_leaf=4, min_samples_split=8,\n",
       "                          n_estimators=20, n_iter_no_change=6, random_state=42,\n",
       "                          validation_fraction=0.2)</pre><b>In a Jupyter environment, please rerun this cell to show the HTML representation or trust the notebook. <br />On GitHub, the HTML representation is unable to render, please try loading this page with nbviewer.org.</b></div><div class=\"sk-container\" hidden><div class=\"sk-item\"><div class=\"sk-estimator sk-toggleable\"><input class=\"sk-toggleable__control sk-hidden--visually\" id=\"sk-estimator-id-28\" type=\"checkbox\" checked><label for=\"sk-estimator-id-28\" class=\"sk-toggleable__label sk-toggleable__label-arrow\">GradientBoostingRegressor</label><div class=\"sk-toggleable__content\"><pre>GradientBoostingRegressor(learning_rate=0.2, max_depth=6, max_features=&#x27;sqrt&#x27;,\n",
       "                          min_samples_leaf=4, min_samples_split=8,\n",
       "                          n_estimators=20, n_iter_no_change=6, random_state=42,\n",
       "                          validation_fraction=0.2)</pre></div></div></div></div></div>"
      ],
      "text/plain": [
       "GradientBoostingRegressor(learning_rate=0.2, max_depth=6, max_features='sqrt',\n",
       "                          min_samples_leaf=4, min_samples_split=8,\n",
       "                          n_estimators=20, n_iter_no_change=6, random_state=42,\n",
       "                          validation_fraction=0.2)"
      ]
     },
     "execution_count": 361,
     "metadata": {},
     "output_type": "execute_result"
    }
   ],
   "source": [
    "#Fitting the model to nthe data\n",
    "gbr.fit(X_train, y_train)"
   ]
  },
  {
   "cell_type": "markdown",
   "id": "00b7fe95",
   "metadata": {},
   "source": [
    "#### <span style=\"color:Teal\">Evaluating the Model</span>"
   ]
  },
  {
   "cell_type": "code",
   "execution_count": 362,
   "id": "4189392f",
   "metadata": {},
   "outputs": [
    {
     "name": "stdout",
     "output_type": "stream",
     "text": [
      "CV Mean R²:  0.6285760029354537\n",
      "CV STD:  0.06207295564925639\n",
      "Mean Absolute Error (MAE):  0.010483942682923754\n",
      "Mean Squared Error (MSE):  0.0005603832029386276\n",
      "Root Mean Squared Error (RMSE):  0.023672414387607945\n",
      "R-squared (R²):  0.8150152788364542\n",
      "\n",
      "\n"
     ]
    }
   ],
   "source": [
    "# Calculate the mean values and Standard deviation\n",
    "get_cv_scores(gbr)"
   ]
  },
  {
   "cell_type": "code",
   "execution_count": 363,
   "id": "2d760fc7",
   "metadata": {},
   "outputs": [
    {
     "name": "stdout",
     "output_type": "stream",
     "text": [
      "R² training set score: 0.8150152788364542\n",
      "R² testing set score: 0.6565967788431641\n"
     ]
    }
   ],
   "source": [
    "# Comparing training to testing results\n",
    "print(f'R² training set score: {gbr.score(X_train, y_train)}')\n",
    "print(f'R² testing set score: {gbr.score(X_test, y_test)}')"
   ]
  },
  {
   "cell_type": "markdown",
   "id": "38f95eed",
   "metadata": {},
   "source": [
    "The results are not as expected. Both training and testing scores are worse with the model still overfitting."
   ]
  },
  {
   "cell_type": "markdown",
   "id": "daac23c6",
   "metadata": {},
   "source": [
    "#### More Hyperparameter Tuning"
   ]
  },
  {
   "cell_type": "code",
   "execution_count": 384,
   "id": "41ad4491",
   "metadata": {},
   "outputs": [],
   "source": [
    "#Instantiating Gradient Boosting Regressor algorithm and storing it to 'gbr' object\n",
    "gbr = GradientBoostingRegressor( validation_fraction = 0.2, \n",
    "                                 subsample = 1.0, \n",
    "                                 n_iter_no_change = 6, \n",
    "                                 n_estimators = 1000, \n",
    "                                 min_samples_split = 8, \n",
    "                                 min_samples_leaf = 4, \n",
    "                                 max_features = 'sqrt', \n",
    "                                 max_depth = 6, \n",
    "                                 learning_rate = 0.2,\n",
    "                                 random_state = 42)"
   ]
  },
  {
   "cell_type": "code",
   "execution_count": 385,
   "id": "58e660dc",
   "metadata": {},
   "outputs": [
    {
     "data": {
      "text/html": [
       "<style>#sk-container-id-33 {color: black;}#sk-container-id-33 pre{padding: 0;}#sk-container-id-33 div.sk-toggleable {background-color: white;}#sk-container-id-33 label.sk-toggleable__label {cursor: pointer;display: block;width: 100%;margin-bottom: 0;padding: 0.3em;box-sizing: border-box;text-align: center;}#sk-container-id-33 label.sk-toggleable__label-arrow:before {content: \"▸\";float: left;margin-right: 0.25em;color: #696969;}#sk-container-id-33 label.sk-toggleable__label-arrow:hover:before {color: black;}#sk-container-id-33 div.sk-estimator:hover label.sk-toggleable__label-arrow:before {color: black;}#sk-container-id-33 div.sk-toggleable__content {max-height: 0;max-width: 0;overflow: hidden;text-align: left;background-color: #f0f8ff;}#sk-container-id-33 div.sk-toggleable__content pre {margin: 0.2em;color: black;border-radius: 0.25em;background-color: #f0f8ff;}#sk-container-id-33 input.sk-toggleable__control:checked~div.sk-toggleable__content {max-height: 200px;max-width: 100%;overflow: auto;}#sk-container-id-33 input.sk-toggleable__control:checked~label.sk-toggleable__label-arrow:before {content: \"▾\";}#sk-container-id-33 div.sk-estimator input.sk-toggleable__control:checked~label.sk-toggleable__label {background-color: #d4ebff;}#sk-container-id-33 div.sk-label input.sk-toggleable__control:checked~label.sk-toggleable__label {background-color: #d4ebff;}#sk-container-id-33 input.sk-hidden--visually {border: 0;clip: rect(1px 1px 1px 1px);clip: rect(1px, 1px, 1px, 1px);height: 1px;margin: -1px;overflow: hidden;padding: 0;position: absolute;width: 1px;}#sk-container-id-33 div.sk-estimator {font-family: monospace;background-color: #f0f8ff;border: 1px dotted black;border-radius: 0.25em;box-sizing: border-box;margin-bottom: 0.5em;}#sk-container-id-33 div.sk-estimator:hover {background-color: #d4ebff;}#sk-container-id-33 div.sk-parallel-item::after {content: \"\";width: 100%;border-bottom: 1px solid gray;flex-grow: 1;}#sk-container-id-33 div.sk-label:hover label.sk-toggleable__label {background-color: #d4ebff;}#sk-container-id-33 div.sk-serial::before {content: \"\";position: absolute;border-left: 1px solid gray;box-sizing: border-box;top: 0;bottom: 0;left: 50%;z-index: 0;}#sk-container-id-33 div.sk-serial {display: flex;flex-direction: column;align-items: center;background-color: white;padding-right: 0.2em;padding-left: 0.2em;position: relative;}#sk-container-id-33 div.sk-item {position: relative;z-index: 1;}#sk-container-id-33 div.sk-parallel {display: flex;align-items: stretch;justify-content: center;background-color: white;position: relative;}#sk-container-id-33 div.sk-item::before, #sk-container-id-33 div.sk-parallel-item::before {content: \"\";position: absolute;border-left: 1px solid gray;box-sizing: border-box;top: 0;bottom: 0;left: 50%;z-index: -1;}#sk-container-id-33 div.sk-parallel-item {display: flex;flex-direction: column;z-index: 1;position: relative;background-color: white;}#sk-container-id-33 div.sk-parallel-item:first-child::after {align-self: flex-end;width: 50%;}#sk-container-id-33 div.sk-parallel-item:last-child::after {align-self: flex-start;width: 50%;}#sk-container-id-33 div.sk-parallel-item:only-child::after {width: 0;}#sk-container-id-33 div.sk-dashed-wrapped {border: 1px dashed gray;margin: 0 0.4em 0.5em 0.4em;box-sizing: border-box;padding-bottom: 0.4em;background-color: white;}#sk-container-id-33 div.sk-label label {font-family: monospace;font-weight: bold;display: inline-block;line-height: 1.2em;}#sk-container-id-33 div.sk-label-container {text-align: center;}#sk-container-id-33 div.sk-container {/* jupyter's `normalize.less` sets `[hidden] { display: none; }` but bootstrap.min.css set `[hidden] { display: none !important; }` so we also need the `!important` here to be able to override the default hidden behavior on the sphinx rendered scikit-learn.org. See: https://github.com/scikit-learn/scikit-learn/issues/21755 */display: inline-block !important;position: relative;}#sk-container-id-33 div.sk-text-repr-fallback {display: none;}</style><div id=\"sk-container-id-33\" class=\"sk-top-container\"><div class=\"sk-text-repr-fallback\"><pre>GradientBoostingRegressor(learning_rate=0.2, max_depth=6, min_samples_leaf=4,\n",
       "                          n_estimators=1000, n_iter_no_change=6,\n",
       "                          random_state=42, validation_fraction=0.2)</pre><b>In a Jupyter environment, please rerun this cell to show the HTML representation or trust the notebook. <br />On GitHub, the HTML representation is unable to render, please try loading this page with nbviewer.org.</b></div><div class=\"sk-container\" hidden><div class=\"sk-item\"><div class=\"sk-estimator sk-toggleable\"><input class=\"sk-toggleable__control sk-hidden--visually\" id=\"sk-estimator-id-33\" type=\"checkbox\" checked><label for=\"sk-estimator-id-33\" class=\"sk-toggleable__label sk-toggleable__label-arrow\">GradientBoostingRegressor</label><div class=\"sk-toggleable__content\"><pre>GradientBoostingRegressor(learning_rate=0.2, max_depth=6, min_samples_leaf=4,\n",
       "                          n_estimators=1000, n_iter_no_change=6,\n",
       "                          random_state=42, validation_fraction=0.2)</pre></div></div></div></div></div>"
      ],
      "text/plain": [
       "GradientBoostingRegressor(learning_rate=0.2, max_depth=6, min_samples_leaf=4,\n",
       "                          n_estimators=1000, n_iter_no_change=6,\n",
       "                          random_state=42, validation_fraction=0.2)"
      ]
     },
     "execution_count": 385,
     "metadata": {},
     "output_type": "execute_result"
    }
   ],
   "source": [
    "#Fitting the model to nthe data\n",
    "gbr.fit(X_train, y_train)"
   ]
  },
  {
   "cell_type": "code",
   "execution_count": 386,
   "id": "7b28136b",
   "metadata": {},
   "outputs": [
    {
     "name": "stdout",
     "output_type": "stream",
     "text": [
      "CV Mean R²:  0.6815009039382243\n",
      "CV STD:  0.05988083140704857\n",
      "Mean Absolute Error (MAE):  0.00823910095523902\n",
      "Mean Squared Error (MSE):  0.00036621344198306863\n",
      "Root Mean Squared Error (RMSE):  0.019136704052241302\n",
      "R-squared (R²):  0.8791114881810626\n",
      "\n",
      "\n"
     ]
    }
   ],
   "source": [
    "# Calculate the mean values and Standard deviation\n",
    "get_cv_scores(gbr)"
   ]
  },
  {
   "cell_type": "code",
   "execution_count": 387,
   "id": "e8568118",
   "metadata": {},
   "outputs": [
    {
     "name": "stdout",
     "output_type": "stream",
     "text": [
      "R² training set score: 0.8791114881810626\n",
      "R² testing set score: 0.7293658311033981\n"
     ]
    }
   ],
   "source": [
    "# Comparing training to testing results\n",
    "print(f'R² training set score: {gbr.score(X_train, y_train)}')\n",
    "print(f'R² testing set score: {gbr.score(X_test, y_test)}')"
   ]
  },
  {
   "cell_type": "markdown",
   "id": "bd7e52a7",
   "metadata": {},
   "source": [
    "XXXXXXXXXXXXXXXXXXXXXXXXXXXXXXXXXXXXXXXXXXXXXXXXXXXXXXXXXXXXXXXXXXXXXXXXXXXXXXXXXXXXXXXXXXXXXXX"
   ]
  },
  {
   "cell_type": "code",
   "execution_count": 388,
   "id": "0e8a376e",
   "metadata": {},
   "outputs": [],
   "source": [
    "#Instantiating Gradient Boosting Regressor algorithm and storing it to 'gbr' object\n",
    "gbr = GradientBoostingRegressor( validation_fraction = 0.2, \n",
    "                                 subsample = 1.0, \n",
    "                                 n_iter_no_change = 6, \n",
    "                                 n_estimators = 1000, \n",
    "                                 min_samples_split = 8, \n",
    "                                 min_samples_leaf = 4, \n",
    "                                 max_features = 'log2', \n",
    "                                 max_depth = 6, \n",
    "                                 learning_rate = 0.2,\n",
    "                                 random_state = 42)"
   ]
  },
  {
   "cell_type": "code",
   "execution_count": 389,
   "id": "bc0775d1",
   "metadata": {},
   "outputs": [
    {
     "data": {
      "text/html": [
       "<style>#sk-container-id-34 {color: black;}#sk-container-id-34 pre{padding: 0;}#sk-container-id-34 div.sk-toggleable {background-color: white;}#sk-container-id-34 label.sk-toggleable__label {cursor: pointer;display: block;width: 100%;margin-bottom: 0;padding: 0.3em;box-sizing: border-box;text-align: center;}#sk-container-id-34 label.sk-toggleable__label-arrow:before {content: \"▸\";float: left;margin-right: 0.25em;color: #696969;}#sk-container-id-34 label.sk-toggleable__label-arrow:hover:before {color: black;}#sk-container-id-34 div.sk-estimator:hover label.sk-toggleable__label-arrow:before {color: black;}#sk-container-id-34 div.sk-toggleable__content {max-height: 0;max-width: 0;overflow: hidden;text-align: left;background-color: #f0f8ff;}#sk-container-id-34 div.sk-toggleable__content pre {margin: 0.2em;color: black;border-radius: 0.25em;background-color: #f0f8ff;}#sk-container-id-34 input.sk-toggleable__control:checked~div.sk-toggleable__content {max-height: 200px;max-width: 100%;overflow: auto;}#sk-container-id-34 input.sk-toggleable__control:checked~label.sk-toggleable__label-arrow:before {content: \"▾\";}#sk-container-id-34 div.sk-estimator input.sk-toggleable__control:checked~label.sk-toggleable__label {background-color: #d4ebff;}#sk-container-id-34 div.sk-label input.sk-toggleable__control:checked~label.sk-toggleable__label {background-color: #d4ebff;}#sk-container-id-34 input.sk-hidden--visually {border: 0;clip: rect(1px 1px 1px 1px);clip: rect(1px, 1px, 1px, 1px);height: 1px;margin: -1px;overflow: hidden;padding: 0;position: absolute;width: 1px;}#sk-container-id-34 div.sk-estimator {font-family: monospace;background-color: #f0f8ff;border: 1px dotted black;border-radius: 0.25em;box-sizing: border-box;margin-bottom: 0.5em;}#sk-container-id-34 div.sk-estimator:hover {background-color: #d4ebff;}#sk-container-id-34 div.sk-parallel-item::after {content: \"\";width: 100%;border-bottom: 1px solid gray;flex-grow: 1;}#sk-container-id-34 div.sk-label:hover label.sk-toggleable__label {background-color: #d4ebff;}#sk-container-id-34 div.sk-serial::before {content: \"\";position: absolute;border-left: 1px solid gray;box-sizing: border-box;top: 0;bottom: 0;left: 50%;z-index: 0;}#sk-container-id-34 div.sk-serial {display: flex;flex-direction: column;align-items: center;background-color: white;padding-right: 0.2em;padding-left: 0.2em;position: relative;}#sk-container-id-34 div.sk-item {position: relative;z-index: 1;}#sk-container-id-34 div.sk-parallel {display: flex;align-items: stretch;justify-content: center;background-color: white;position: relative;}#sk-container-id-34 div.sk-item::before, #sk-container-id-34 div.sk-parallel-item::before {content: \"\";position: absolute;border-left: 1px solid gray;box-sizing: border-box;top: 0;bottom: 0;left: 50%;z-index: -1;}#sk-container-id-34 div.sk-parallel-item {display: flex;flex-direction: column;z-index: 1;position: relative;background-color: white;}#sk-container-id-34 div.sk-parallel-item:first-child::after {align-self: flex-end;width: 50%;}#sk-container-id-34 div.sk-parallel-item:last-child::after {align-self: flex-start;width: 50%;}#sk-container-id-34 div.sk-parallel-item:only-child::after {width: 0;}#sk-container-id-34 div.sk-dashed-wrapped {border: 1px dashed gray;margin: 0 0.4em 0.5em 0.4em;box-sizing: border-box;padding-bottom: 0.4em;background-color: white;}#sk-container-id-34 div.sk-label label {font-family: monospace;font-weight: bold;display: inline-block;line-height: 1.2em;}#sk-container-id-34 div.sk-label-container {text-align: center;}#sk-container-id-34 div.sk-container {/* jupyter's `normalize.less` sets `[hidden] { display: none; }` but bootstrap.min.css set `[hidden] { display: none !important; }` so we also need the `!important` here to be able to override the default hidden behavior on the sphinx rendered scikit-learn.org. See: https://github.com/scikit-learn/scikit-learn/issues/21755 */display: inline-block !important;position: relative;}#sk-container-id-34 div.sk-text-repr-fallback {display: none;}</style><div id=\"sk-container-id-34\" class=\"sk-top-container\"><div class=\"sk-text-repr-fallback\"><pre>GradientBoostingRegressor(learning_rate=0.2, max_depth=6, max_features=&#x27;log2&#x27;,\n",
       "                          min_samples_leaf=4, min_samples_split=8,\n",
       "                          n_estimators=1000, n_iter_no_change=6,\n",
       "                          random_state=42, validation_fraction=0.2)</pre><b>In a Jupyter environment, please rerun this cell to show the HTML representation or trust the notebook. <br />On GitHub, the HTML representation is unable to render, please try loading this page with nbviewer.org.</b></div><div class=\"sk-container\" hidden><div class=\"sk-item\"><div class=\"sk-estimator sk-toggleable\"><input class=\"sk-toggleable__control sk-hidden--visually\" id=\"sk-estimator-id-34\" type=\"checkbox\" checked><label for=\"sk-estimator-id-34\" class=\"sk-toggleable__label sk-toggleable__label-arrow\">GradientBoostingRegressor</label><div class=\"sk-toggleable__content\"><pre>GradientBoostingRegressor(learning_rate=0.2, max_depth=6, max_features=&#x27;log2&#x27;,\n",
       "                          min_samples_leaf=4, min_samples_split=8,\n",
       "                          n_estimators=1000, n_iter_no_change=6,\n",
       "                          random_state=42, validation_fraction=0.2)</pre></div></div></div></div></div>"
      ],
      "text/plain": [
       "GradientBoostingRegressor(learning_rate=0.2, max_depth=6, max_features='log2',\n",
       "                          min_samples_leaf=4, min_samples_split=8,\n",
       "                          n_estimators=1000, n_iter_no_change=6,\n",
       "                          random_state=42, validation_fraction=0.2)"
      ]
     },
     "execution_count": 389,
     "metadata": {},
     "output_type": "execute_result"
    }
   ],
   "source": [
    "#Fitting the model to nthe data\n",
    "gbr.fit(X_train, y_train)"
   ]
  },
  {
   "cell_type": "code",
   "execution_count": 390,
   "id": "979b6d6c",
   "metadata": {},
   "outputs": [
    {
     "name": "stdout",
     "output_type": "stream",
     "text": [
      "CV Mean R²:  0.6165008177932074\n",
      "CV STD:  0.05878886561757975\n",
      "Mean Absolute Error (MAE):  0.011189141674186423\n",
      "Mean Squared Error (MSE):  0.000624500945360037\n",
      "Root Mean Squared Error (RMSE):  0.024990016913960602\n",
      "R-squared (R²):  0.7938497573838788\n",
      "\n",
      "\n"
     ]
    }
   ],
   "source": [
    "# Calculate the mean values and Standard deviation\n",
    "get_cv_scores(gbr)"
   ]
  },
  {
   "cell_type": "code",
   "execution_count": 408,
   "id": "62d6f5c7",
   "metadata": {},
   "outputs": [
    {
     "name": "stdout",
     "output_type": "stream",
     "text": [
      "R² training set score: 0.8447139518194176\n",
      "R² testing set score: 0.6911528819889987\n"
     ]
    }
   ],
   "source": [
    "# Comparing training to testing results\n",
    "print(f'R² training set score: {gbr.score(X_train, y_train)}')\n",
    "print(f'R² testing set score: {gbr.score(X_test, y_test)}')"
   ]
  },
  {
   "cell_type": "markdown",
   "id": "75451578",
   "metadata": {},
   "source": [
    "XXXXXXXXXXXXXXXXXXXXXXXXXXXXXXXXXXXXXXXXXXXXXXXXXXXXXXXXXXXXXXXXXXXXXXXXXXXXXXXXXXXXXXXXXXXXXXX"
   ]
  },
  {
   "cell_type": "code",
   "execution_count": 410,
   "id": "bd2ee32d",
   "metadata": {},
   "outputs": [],
   "source": [
    "#Instantiating Gradient Boosting Regressor algorithm and storing it to 'gbr' object\n",
    "gbr = GradientBoostingRegressor( validation_fraction = 0.2, \n",
    "                                 subsample = 1.0, \n",
    "                                 n_iter_no_change = 6, \n",
    "                                 n_estimators = 1000, \n",
    "                                 min_samples_split = 8, \n",
    "                                 min_samples_leaf = 4, \n",
    "                                 max_features = 'sqrt', \n",
    "                                 max_depth = 6, \n",
    "                                 learning_rate = 0.4,\n",
    "                                 random_state = 42)"
   ]
  },
  {
   "cell_type": "code",
   "execution_count": 411,
   "id": "43cb5936",
   "metadata": {},
   "outputs": [
    {
     "data": {
      "text/html": [
       "<style>#sk-container-id-39 {color: black;}#sk-container-id-39 pre{padding: 0;}#sk-container-id-39 div.sk-toggleable {background-color: white;}#sk-container-id-39 label.sk-toggleable__label {cursor: pointer;display: block;width: 100%;margin-bottom: 0;padding: 0.3em;box-sizing: border-box;text-align: center;}#sk-container-id-39 label.sk-toggleable__label-arrow:before {content: \"▸\";float: left;margin-right: 0.25em;color: #696969;}#sk-container-id-39 label.sk-toggleable__label-arrow:hover:before {color: black;}#sk-container-id-39 div.sk-estimator:hover label.sk-toggleable__label-arrow:before {color: black;}#sk-container-id-39 div.sk-toggleable__content {max-height: 0;max-width: 0;overflow: hidden;text-align: left;background-color: #f0f8ff;}#sk-container-id-39 div.sk-toggleable__content pre {margin: 0.2em;color: black;border-radius: 0.25em;background-color: #f0f8ff;}#sk-container-id-39 input.sk-toggleable__control:checked~div.sk-toggleable__content {max-height: 200px;max-width: 100%;overflow: auto;}#sk-container-id-39 input.sk-toggleable__control:checked~label.sk-toggleable__label-arrow:before {content: \"▾\";}#sk-container-id-39 div.sk-estimator input.sk-toggleable__control:checked~label.sk-toggleable__label {background-color: #d4ebff;}#sk-container-id-39 div.sk-label input.sk-toggleable__control:checked~label.sk-toggleable__label {background-color: #d4ebff;}#sk-container-id-39 input.sk-hidden--visually {border: 0;clip: rect(1px 1px 1px 1px);clip: rect(1px, 1px, 1px, 1px);height: 1px;margin: -1px;overflow: hidden;padding: 0;position: absolute;width: 1px;}#sk-container-id-39 div.sk-estimator {font-family: monospace;background-color: #f0f8ff;border: 1px dotted black;border-radius: 0.25em;box-sizing: border-box;margin-bottom: 0.5em;}#sk-container-id-39 div.sk-estimator:hover {background-color: #d4ebff;}#sk-container-id-39 div.sk-parallel-item::after {content: \"\";width: 100%;border-bottom: 1px solid gray;flex-grow: 1;}#sk-container-id-39 div.sk-label:hover label.sk-toggleable__label {background-color: #d4ebff;}#sk-container-id-39 div.sk-serial::before {content: \"\";position: absolute;border-left: 1px solid gray;box-sizing: border-box;top: 0;bottom: 0;left: 50%;z-index: 0;}#sk-container-id-39 div.sk-serial {display: flex;flex-direction: column;align-items: center;background-color: white;padding-right: 0.2em;padding-left: 0.2em;position: relative;}#sk-container-id-39 div.sk-item {position: relative;z-index: 1;}#sk-container-id-39 div.sk-parallel {display: flex;align-items: stretch;justify-content: center;background-color: white;position: relative;}#sk-container-id-39 div.sk-item::before, #sk-container-id-39 div.sk-parallel-item::before {content: \"\";position: absolute;border-left: 1px solid gray;box-sizing: border-box;top: 0;bottom: 0;left: 50%;z-index: -1;}#sk-container-id-39 div.sk-parallel-item {display: flex;flex-direction: column;z-index: 1;position: relative;background-color: white;}#sk-container-id-39 div.sk-parallel-item:first-child::after {align-self: flex-end;width: 50%;}#sk-container-id-39 div.sk-parallel-item:last-child::after {align-self: flex-start;width: 50%;}#sk-container-id-39 div.sk-parallel-item:only-child::after {width: 0;}#sk-container-id-39 div.sk-dashed-wrapped {border: 1px dashed gray;margin: 0 0.4em 0.5em 0.4em;box-sizing: border-box;padding-bottom: 0.4em;background-color: white;}#sk-container-id-39 div.sk-label label {font-family: monospace;font-weight: bold;display: inline-block;line-height: 1.2em;}#sk-container-id-39 div.sk-label-container {text-align: center;}#sk-container-id-39 div.sk-container {/* jupyter's `normalize.less` sets `[hidden] { display: none; }` but bootstrap.min.css set `[hidden] { display: none !important; }` so we also need the `!important` here to be able to override the default hidden behavior on the sphinx rendered scikit-learn.org. See: https://github.com/scikit-learn/scikit-learn/issues/21755 */display: inline-block !important;position: relative;}#sk-container-id-39 div.sk-text-repr-fallback {display: none;}</style><div id=\"sk-container-id-39\" class=\"sk-top-container\"><div class=\"sk-text-repr-fallback\"><pre>GradientBoostingRegressor(learning_rate=0.4, max_depth=6, max_features=&#x27;sqrt&#x27;,\n",
       "                          min_samples_leaf=4, min_samples_split=8,\n",
       "                          n_estimators=1000, n_iter_no_change=6,\n",
       "                          random_state=42, validation_fraction=0.2)</pre><b>In a Jupyter environment, please rerun this cell to show the HTML representation or trust the notebook. <br />On GitHub, the HTML representation is unable to render, please try loading this page with nbviewer.org.</b></div><div class=\"sk-container\" hidden><div class=\"sk-item\"><div class=\"sk-estimator sk-toggleable\"><input class=\"sk-toggleable__control sk-hidden--visually\" id=\"sk-estimator-id-39\" type=\"checkbox\" checked><label for=\"sk-estimator-id-39\" class=\"sk-toggleable__label sk-toggleable__label-arrow\">GradientBoostingRegressor</label><div class=\"sk-toggleable__content\"><pre>GradientBoostingRegressor(learning_rate=0.4, max_depth=6, max_features=&#x27;sqrt&#x27;,\n",
       "                          min_samples_leaf=4, min_samples_split=8,\n",
       "                          n_estimators=1000, n_iter_no_change=6,\n",
       "                          random_state=42, validation_fraction=0.2)</pre></div></div></div></div></div>"
      ],
      "text/plain": [
       "GradientBoostingRegressor(learning_rate=0.4, max_depth=6, max_features='sqrt',\n",
       "                          min_samples_leaf=4, min_samples_split=8,\n",
       "                          n_estimators=1000, n_iter_no_change=6,\n",
       "                          random_state=42, validation_fraction=0.2)"
      ]
     },
     "execution_count": 411,
     "metadata": {},
     "output_type": "execute_result"
    }
   ],
   "source": [
    "#Fitting the model to nthe data\n",
    "gbr.fit(X_train, y_train)"
   ]
  },
  {
   "cell_type": "code",
   "execution_count": 412,
   "id": "3a493a53",
   "metadata": {},
   "outputs": [
    {
     "name": "stdout",
     "output_type": "stream",
     "text": [
      "CV Mean R²:  0.6252270015184238\n",
      "CV STD:  0.043129090337640945\n",
      "Mean Absolute Error (MAE):  0.00996312219097059\n",
      "Mean Squared Error (MSE):  0.0004829899705110632\n",
      "Root Mean Squared Error (RMSE):  0.021977032795877226\n",
      "R-squared (R²):  0.8405630922710521\n",
      "\n",
      "\n"
     ]
    }
   ],
   "source": [
    "# Calculate the mean values and Standard deviation\n",
    "get_cv_scores(gbr)"
   ]
  },
  {
   "cell_type": "code",
   "execution_count": 413,
   "id": "da27d0ff",
   "metadata": {},
   "outputs": [
    {
     "name": "stdout",
     "output_type": "stream",
     "text": [
      "R² training set score: 0.8405630922710521\n",
      "R² testing set score: 0.70134053348674\n"
     ]
    }
   ],
   "source": [
    "# Comparing training to testing results\n",
    "print(f'R² training set score: {gbr.score(X_train, y_train)}')\n",
    "print(f'R² testing set score: {gbr.score(X_test, y_test)}')"
   ]
  },
  {
   "cell_type": "markdown",
   "id": "7b45eedd",
   "metadata": {},
   "source": [
    "XXXXXXXXXXXXXXXXXXXXXXXXXXXXXXXXXXXXXXXXXXXXXXXXXXXXXXXXXXXXXXXXXXXXXXXXXXXXXXXXXXXXXXXXXXXXXXX"
   ]
  },
  {
   "cell_type": "code",
   "execution_count": 450,
   "id": "24d29c2b",
   "metadata": {},
   "outputs": [],
   "source": [
    "#Instantiating Gradient Boosting Regressor algorithm and storing it to 'gbr' object\n",
    "gbr = GradientBoostingRegressor( validation_fraction = 0.3, \n",
    "                                 subsample = 1.0, \n",
    "                                 n_iter_no_change = 8, \n",
    "                                 n_estimators = 1000, \n",
    "                                 min_samples_split = 8, \n",
    "                                 min_samples_leaf = 4, \n",
    "                                 max_features = 'sqrt', \n",
    "                                 max_depth = 6, \n",
    "                                 learning_rate = 0.4,\n",
    "                                 random_state = 42)"
   ]
  },
  {
   "cell_type": "code",
   "execution_count": 451,
   "id": "a5207bfe",
   "metadata": {},
   "outputs": [
    {
     "data": {
      "text/html": [
       "<style>#sk-container-id-49 {color: black;}#sk-container-id-49 pre{padding: 0;}#sk-container-id-49 div.sk-toggleable {background-color: white;}#sk-container-id-49 label.sk-toggleable__label {cursor: pointer;display: block;width: 100%;margin-bottom: 0;padding: 0.3em;box-sizing: border-box;text-align: center;}#sk-container-id-49 label.sk-toggleable__label-arrow:before {content: \"▸\";float: left;margin-right: 0.25em;color: #696969;}#sk-container-id-49 label.sk-toggleable__label-arrow:hover:before {color: black;}#sk-container-id-49 div.sk-estimator:hover label.sk-toggleable__label-arrow:before {color: black;}#sk-container-id-49 div.sk-toggleable__content {max-height: 0;max-width: 0;overflow: hidden;text-align: left;background-color: #f0f8ff;}#sk-container-id-49 div.sk-toggleable__content pre {margin: 0.2em;color: black;border-radius: 0.25em;background-color: #f0f8ff;}#sk-container-id-49 input.sk-toggleable__control:checked~div.sk-toggleable__content {max-height: 200px;max-width: 100%;overflow: auto;}#sk-container-id-49 input.sk-toggleable__control:checked~label.sk-toggleable__label-arrow:before {content: \"▾\";}#sk-container-id-49 div.sk-estimator input.sk-toggleable__control:checked~label.sk-toggleable__label {background-color: #d4ebff;}#sk-container-id-49 div.sk-label input.sk-toggleable__control:checked~label.sk-toggleable__label {background-color: #d4ebff;}#sk-container-id-49 input.sk-hidden--visually {border: 0;clip: rect(1px 1px 1px 1px);clip: rect(1px, 1px, 1px, 1px);height: 1px;margin: -1px;overflow: hidden;padding: 0;position: absolute;width: 1px;}#sk-container-id-49 div.sk-estimator {font-family: monospace;background-color: #f0f8ff;border: 1px dotted black;border-radius: 0.25em;box-sizing: border-box;margin-bottom: 0.5em;}#sk-container-id-49 div.sk-estimator:hover {background-color: #d4ebff;}#sk-container-id-49 div.sk-parallel-item::after {content: \"\";width: 100%;border-bottom: 1px solid gray;flex-grow: 1;}#sk-container-id-49 div.sk-label:hover label.sk-toggleable__label {background-color: #d4ebff;}#sk-container-id-49 div.sk-serial::before {content: \"\";position: absolute;border-left: 1px solid gray;box-sizing: border-box;top: 0;bottom: 0;left: 50%;z-index: 0;}#sk-container-id-49 div.sk-serial {display: flex;flex-direction: column;align-items: center;background-color: white;padding-right: 0.2em;padding-left: 0.2em;position: relative;}#sk-container-id-49 div.sk-item {position: relative;z-index: 1;}#sk-container-id-49 div.sk-parallel {display: flex;align-items: stretch;justify-content: center;background-color: white;position: relative;}#sk-container-id-49 div.sk-item::before, #sk-container-id-49 div.sk-parallel-item::before {content: \"\";position: absolute;border-left: 1px solid gray;box-sizing: border-box;top: 0;bottom: 0;left: 50%;z-index: -1;}#sk-container-id-49 div.sk-parallel-item {display: flex;flex-direction: column;z-index: 1;position: relative;background-color: white;}#sk-container-id-49 div.sk-parallel-item:first-child::after {align-self: flex-end;width: 50%;}#sk-container-id-49 div.sk-parallel-item:last-child::after {align-self: flex-start;width: 50%;}#sk-container-id-49 div.sk-parallel-item:only-child::after {width: 0;}#sk-container-id-49 div.sk-dashed-wrapped {border: 1px dashed gray;margin: 0 0.4em 0.5em 0.4em;box-sizing: border-box;padding-bottom: 0.4em;background-color: white;}#sk-container-id-49 div.sk-label label {font-family: monospace;font-weight: bold;display: inline-block;line-height: 1.2em;}#sk-container-id-49 div.sk-label-container {text-align: center;}#sk-container-id-49 div.sk-container {/* jupyter's `normalize.less` sets `[hidden] { display: none; }` but bootstrap.min.css set `[hidden] { display: none !important; }` so we also need the `!important` here to be able to override the default hidden behavior on the sphinx rendered scikit-learn.org. See: https://github.com/scikit-learn/scikit-learn/issues/21755 */display: inline-block !important;position: relative;}#sk-container-id-49 div.sk-text-repr-fallback {display: none;}</style><div id=\"sk-container-id-49\" class=\"sk-top-container\"><div class=\"sk-text-repr-fallback\"><pre>GradientBoostingRegressor(learning_rate=0.4, max_depth=6, max_features=&#x27;sqrt&#x27;,\n",
       "                          min_samples_leaf=4, min_samples_split=8,\n",
       "                          n_estimators=1000, n_iter_no_change=8,\n",
       "                          random_state=42, validation_fraction=0.3)</pre><b>In a Jupyter environment, please rerun this cell to show the HTML representation or trust the notebook. <br />On GitHub, the HTML representation is unable to render, please try loading this page with nbviewer.org.</b></div><div class=\"sk-container\" hidden><div class=\"sk-item\"><div class=\"sk-estimator sk-toggleable\"><input class=\"sk-toggleable__control sk-hidden--visually\" id=\"sk-estimator-id-49\" type=\"checkbox\" checked><label for=\"sk-estimator-id-49\" class=\"sk-toggleable__label sk-toggleable__label-arrow\">GradientBoostingRegressor</label><div class=\"sk-toggleable__content\"><pre>GradientBoostingRegressor(learning_rate=0.4, max_depth=6, max_features=&#x27;sqrt&#x27;,\n",
       "                          min_samples_leaf=4, min_samples_split=8,\n",
       "                          n_estimators=1000, n_iter_no_change=8,\n",
       "                          random_state=42, validation_fraction=0.3)</pre></div></div></div></div></div>"
      ],
      "text/plain": [
       "GradientBoostingRegressor(learning_rate=0.4, max_depth=6, max_features='sqrt',\n",
       "                          min_samples_leaf=4, min_samples_split=8,\n",
       "                          n_estimators=1000, n_iter_no_change=8,\n",
       "                          random_state=42, validation_fraction=0.3)"
      ]
     },
     "execution_count": 451,
     "metadata": {},
     "output_type": "execute_result"
    }
   ],
   "source": [
    "#Fitting the model to nthe data\n",
    "gbr.fit(X_train, y_train)"
   ]
  },
  {
   "cell_type": "code",
   "execution_count": 452,
   "id": "4d996c17",
   "metadata": {},
   "outputs": [
    {
     "name": "stdout",
     "output_type": "stream",
     "text": [
      "CV Mean R²:  0.6264223597675926\n",
      "CV STD:  0.05112876707784121\n",
      "Mean Absolute Error (MAE):  0.009986560479681656\n",
      "Mean Squared Error (MSE):  0.000529045714965696\n",
      "Root Mean Squared Error (RMSE):  0.02300099378213246\n",
      "R-squared (R²):  0.8253599080905784\n",
      "\n",
      "\n"
     ]
    }
   ],
   "source": [
    "# Calculate the mean values and Standard deviation\n",
    "get_cv_scores(gbr)"
   ]
  },
  {
   "cell_type": "code",
   "execution_count": 453,
   "id": "0a2a1170",
   "metadata": {},
   "outputs": [
    {
     "name": "stdout",
     "output_type": "stream",
     "text": [
      "R² training set score: 0.8253599080905784\n",
      "R² testing set score: 0.7129032530849542\n"
     ]
    }
   ],
   "source": [
    "# Comparing training to testing results\n",
    "print(f'R² training set score: {gbr.score(X_train, y_train)}')\n",
    "print(f'R² testing set score: {gbr.score(X_test, y_test)}')"
   ]
  },
  {
   "cell_type": "markdown",
   "id": "05cb207b",
   "metadata": {},
   "source": [
    "XXXXXXXXXXXXXXXXXXXXXXXXXXXXXXXXXXXXXXXXXXXXXXXXXXXXXXXXXXXXXXXXXXXXXXXXXXXXXXXXXXXXXXXXXXXXXXX"
   ]
  },
  {
   "cell_type": "code",
   "execution_count": 474,
   "id": "87c35ea4",
   "metadata": {},
   "outputs": [],
   "source": [
    "#Instantiating Gradient Boosting Regressor algorithm and storing it to 'gbr' object\n",
    "gbr = GradientBoostingRegressor( validation_fraction = 0.3, \n",
    "                                 #subsample = 1.0, \n",
    "                                 n_iter_no_change = 8, \n",
    "                                 n_estimators = 1500, \n",
    "                                 min_samples_split = 8, \n",
    "                                 min_samples_leaf = 4, \n",
    "                                 #max_features = 'sqrt', \n",
    "                                 max_depth = 6, \n",
    "                                 learning_rate = 0.4,\n",
    "                                 random_state = 42)"
   ]
  },
  {
   "cell_type": "code",
   "execution_count": 475,
   "id": "ef594b31",
   "metadata": {},
   "outputs": [
    {
     "data": {
      "text/html": [
       "<style>#sk-container-id-55 {color: black;}#sk-container-id-55 pre{padding: 0;}#sk-container-id-55 div.sk-toggleable {background-color: white;}#sk-container-id-55 label.sk-toggleable__label {cursor: pointer;display: block;width: 100%;margin-bottom: 0;padding: 0.3em;box-sizing: border-box;text-align: center;}#sk-container-id-55 label.sk-toggleable__label-arrow:before {content: \"▸\";float: left;margin-right: 0.25em;color: #696969;}#sk-container-id-55 label.sk-toggleable__label-arrow:hover:before {color: black;}#sk-container-id-55 div.sk-estimator:hover label.sk-toggleable__label-arrow:before {color: black;}#sk-container-id-55 div.sk-toggleable__content {max-height: 0;max-width: 0;overflow: hidden;text-align: left;background-color: #f0f8ff;}#sk-container-id-55 div.sk-toggleable__content pre {margin: 0.2em;color: black;border-radius: 0.25em;background-color: #f0f8ff;}#sk-container-id-55 input.sk-toggleable__control:checked~div.sk-toggleable__content {max-height: 200px;max-width: 100%;overflow: auto;}#sk-container-id-55 input.sk-toggleable__control:checked~label.sk-toggleable__label-arrow:before {content: \"▾\";}#sk-container-id-55 div.sk-estimator input.sk-toggleable__control:checked~label.sk-toggleable__label {background-color: #d4ebff;}#sk-container-id-55 div.sk-label input.sk-toggleable__control:checked~label.sk-toggleable__label {background-color: #d4ebff;}#sk-container-id-55 input.sk-hidden--visually {border: 0;clip: rect(1px 1px 1px 1px);clip: rect(1px, 1px, 1px, 1px);height: 1px;margin: -1px;overflow: hidden;padding: 0;position: absolute;width: 1px;}#sk-container-id-55 div.sk-estimator {font-family: monospace;background-color: #f0f8ff;border: 1px dotted black;border-radius: 0.25em;box-sizing: border-box;margin-bottom: 0.5em;}#sk-container-id-55 div.sk-estimator:hover {background-color: #d4ebff;}#sk-container-id-55 div.sk-parallel-item::after {content: \"\";width: 100%;border-bottom: 1px solid gray;flex-grow: 1;}#sk-container-id-55 div.sk-label:hover label.sk-toggleable__label {background-color: #d4ebff;}#sk-container-id-55 div.sk-serial::before {content: \"\";position: absolute;border-left: 1px solid gray;box-sizing: border-box;top: 0;bottom: 0;left: 50%;z-index: 0;}#sk-container-id-55 div.sk-serial {display: flex;flex-direction: column;align-items: center;background-color: white;padding-right: 0.2em;padding-left: 0.2em;position: relative;}#sk-container-id-55 div.sk-item {position: relative;z-index: 1;}#sk-container-id-55 div.sk-parallel {display: flex;align-items: stretch;justify-content: center;background-color: white;position: relative;}#sk-container-id-55 div.sk-item::before, #sk-container-id-55 div.sk-parallel-item::before {content: \"\";position: absolute;border-left: 1px solid gray;box-sizing: border-box;top: 0;bottom: 0;left: 50%;z-index: -1;}#sk-container-id-55 div.sk-parallel-item {display: flex;flex-direction: column;z-index: 1;position: relative;background-color: white;}#sk-container-id-55 div.sk-parallel-item:first-child::after {align-self: flex-end;width: 50%;}#sk-container-id-55 div.sk-parallel-item:last-child::after {align-self: flex-start;width: 50%;}#sk-container-id-55 div.sk-parallel-item:only-child::after {width: 0;}#sk-container-id-55 div.sk-dashed-wrapped {border: 1px dashed gray;margin: 0 0.4em 0.5em 0.4em;box-sizing: border-box;padding-bottom: 0.4em;background-color: white;}#sk-container-id-55 div.sk-label label {font-family: monospace;font-weight: bold;display: inline-block;line-height: 1.2em;}#sk-container-id-55 div.sk-label-container {text-align: center;}#sk-container-id-55 div.sk-container {/* jupyter's `normalize.less` sets `[hidden] { display: none; }` but bootstrap.min.css set `[hidden] { display: none !important; }` so we also need the `!important` here to be able to override the default hidden behavior on the sphinx rendered scikit-learn.org. See: https://github.com/scikit-learn/scikit-learn/issues/21755 */display: inline-block !important;position: relative;}#sk-container-id-55 div.sk-text-repr-fallback {display: none;}</style><div id=\"sk-container-id-55\" class=\"sk-top-container\"><div class=\"sk-text-repr-fallback\"><pre>GradientBoostingRegressor(learning_rate=0.4, max_depth=6, min_samples_leaf=4,\n",
       "                          min_samples_split=8, n_estimators=1500,\n",
       "                          n_iter_no_change=8, random_state=42,\n",
       "                          validation_fraction=0.3)</pre><b>In a Jupyter environment, please rerun this cell to show the HTML representation or trust the notebook. <br />On GitHub, the HTML representation is unable to render, please try loading this page with nbviewer.org.</b></div><div class=\"sk-container\" hidden><div class=\"sk-item\"><div class=\"sk-estimator sk-toggleable\"><input class=\"sk-toggleable__control sk-hidden--visually\" id=\"sk-estimator-id-55\" type=\"checkbox\" checked><label for=\"sk-estimator-id-55\" class=\"sk-toggleable__label sk-toggleable__label-arrow\">GradientBoostingRegressor</label><div class=\"sk-toggleable__content\"><pre>GradientBoostingRegressor(learning_rate=0.4, max_depth=6, min_samples_leaf=4,\n",
       "                          min_samples_split=8, n_estimators=1500,\n",
       "                          n_iter_no_change=8, random_state=42,\n",
       "                          validation_fraction=0.3)</pre></div></div></div></div></div>"
      ],
      "text/plain": [
       "GradientBoostingRegressor(learning_rate=0.4, max_depth=6, min_samples_leaf=4,\n",
       "                          min_samples_split=8, n_estimators=1500,\n",
       "                          n_iter_no_change=8, random_state=42,\n",
       "                          validation_fraction=0.3)"
      ]
     },
     "execution_count": 475,
     "metadata": {},
     "output_type": "execute_result"
    }
   ],
   "source": [
    "#Fitting the model to nthe data\n",
    "gbr.fit(X_train, y_train)"
   ]
  },
  {
   "cell_type": "code",
   "execution_count": 476,
   "id": "255f1ca2",
   "metadata": {},
   "outputs": [
    {
     "name": "stdout",
     "output_type": "stream",
     "text": [
      "CV Mean R²:  0.6581524977945781\n",
      "CV STD:  0.04374074528715047\n",
      "Mean Absolute Error (MAE):  0.008481285043519088\n",
      "Mean Squared Error (MSE):  0.00044196206585048637\n",
      "Root Mean Squared Error (RMSE):  0.02102289385052606\n",
      "R-squared (R²):  0.8541065665646465\n",
      "\n",
      "\n"
     ]
    }
   ],
   "source": [
    "# Calculate the mean values and Standard deviation\n",
    "get_cv_scores(gbr)"
   ]
  },
  {
   "cell_type": "code",
   "execution_count": 477,
   "id": "171d282d",
   "metadata": {},
   "outputs": [
    {
     "name": "stdout",
     "output_type": "stream",
     "text": [
      "R² training set score: 0.8541065665646465\n",
      "R² testing set score: 0.7551734899838475\n"
     ]
    }
   ],
   "source": [
    "# Comparing training to testing results\n",
    "print(f'R² training set score: {gbr.score(X_train, y_train)}')\n",
    "print(f'R² testing set score: {gbr.score(X_test, y_test)}')"
   ]
  },
  {
   "cell_type": "markdown",
   "id": "d8eec555",
   "metadata": {},
   "source": [
    "XXXXXXXXXXXXXXXXXXXXXXXXXXXXXXXXXXXXXXXXXXXXXXXXXXXXXXXXXXXXXXXXXXXXXXXXXXXXXXXXXXXXXXXXXXXXXXX"
   ]
  },
  {
   "cell_type": "code",
   "execution_count": 542,
   "id": "1ddbd37c",
   "metadata": {},
   "outputs": [],
   "source": [
    "#Instantiating Gradient Boosting Regressor algorithm and storing it to 'gbr' object\n",
    "gbr = GradientBoostingRegressor( validation_fraction = 0.3, \n",
    "                                 #subsample = 1.0, \n",
    "                                 n_iter_no_change = 6, \n",
    "                                 n_estimators = 100, \n",
    "                                 #min_samples_split = 8, \n",
    "                                 min_samples_leaf = 4, \n",
    "                                 #max_features = 'sqrt', \n",
    "                                 max_depth = 5, \n",
    "                                 learning_rate = 0.4,\n",
    "                                 random_state = 42)"
   ]
  },
  {
   "cell_type": "code",
   "execution_count": 543,
   "id": "9238cdac",
   "metadata": {},
   "outputs": [
    {
     "data": {
      "text/html": [
       "<style>#sk-container-id-72 {color: black;}#sk-container-id-72 pre{padding: 0;}#sk-container-id-72 div.sk-toggleable {background-color: white;}#sk-container-id-72 label.sk-toggleable__label {cursor: pointer;display: block;width: 100%;margin-bottom: 0;padding: 0.3em;box-sizing: border-box;text-align: center;}#sk-container-id-72 label.sk-toggleable__label-arrow:before {content: \"▸\";float: left;margin-right: 0.25em;color: #696969;}#sk-container-id-72 label.sk-toggleable__label-arrow:hover:before {color: black;}#sk-container-id-72 div.sk-estimator:hover label.sk-toggleable__label-arrow:before {color: black;}#sk-container-id-72 div.sk-toggleable__content {max-height: 0;max-width: 0;overflow: hidden;text-align: left;background-color: #f0f8ff;}#sk-container-id-72 div.sk-toggleable__content pre {margin: 0.2em;color: black;border-radius: 0.25em;background-color: #f0f8ff;}#sk-container-id-72 input.sk-toggleable__control:checked~div.sk-toggleable__content {max-height: 200px;max-width: 100%;overflow: auto;}#sk-container-id-72 input.sk-toggleable__control:checked~label.sk-toggleable__label-arrow:before {content: \"▾\";}#sk-container-id-72 div.sk-estimator input.sk-toggleable__control:checked~label.sk-toggleable__label {background-color: #d4ebff;}#sk-container-id-72 div.sk-label input.sk-toggleable__control:checked~label.sk-toggleable__label {background-color: #d4ebff;}#sk-container-id-72 input.sk-hidden--visually {border: 0;clip: rect(1px 1px 1px 1px);clip: rect(1px, 1px, 1px, 1px);height: 1px;margin: -1px;overflow: hidden;padding: 0;position: absolute;width: 1px;}#sk-container-id-72 div.sk-estimator {font-family: monospace;background-color: #f0f8ff;border: 1px dotted black;border-radius: 0.25em;box-sizing: border-box;margin-bottom: 0.5em;}#sk-container-id-72 div.sk-estimator:hover {background-color: #d4ebff;}#sk-container-id-72 div.sk-parallel-item::after {content: \"\";width: 100%;border-bottom: 1px solid gray;flex-grow: 1;}#sk-container-id-72 div.sk-label:hover label.sk-toggleable__label {background-color: #d4ebff;}#sk-container-id-72 div.sk-serial::before {content: \"\";position: absolute;border-left: 1px solid gray;box-sizing: border-box;top: 0;bottom: 0;left: 50%;z-index: 0;}#sk-container-id-72 div.sk-serial {display: flex;flex-direction: column;align-items: center;background-color: white;padding-right: 0.2em;padding-left: 0.2em;position: relative;}#sk-container-id-72 div.sk-item {position: relative;z-index: 1;}#sk-container-id-72 div.sk-parallel {display: flex;align-items: stretch;justify-content: center;background-color: white;position: relative;}#sk-container-id-72 div.sk-item::before, #sk-container-id-72 div.sk-parallel-item::before {content: \"\";position: absolute;border-left: 1px solid gray;box-sizing: border-box;top: 0;bottom: 0;left: 50%;z-index: -1;}#sk-container-id-72 div.sk-parallel-item {display: flex;flex-direction: column;z-index: 1;position: relative;background-color: white;}#sk-container-id-72 div.sk-parallel-item:first-child::after {align-self: flex-end;width: 50%;}#sk-container-id-72 div.sk-parallel-item:last-child::after {align-self: flex-start;width: 50%;}#sk-container-id-72 div.sk-parallel-item:only-child::after {width: 0;}#sk-container-id-72 div.sk-dashed-wrapped {border: 1px dashed gray;margin: 0 0.4em 0.5em 0.4em;box-sizing: border-box;padding-bottom: 0.4em;background-color: white;}#sk-container-id-72 div.sk-label label {font-family: monospace;font-weight: bold;display: inline-block;line-height: 1.2em;}#sk-container-id-72 div.sk-label-container {text-align: center;}#sk-container-id-72 div.sk-container {/* jupyter's `normalize.less` sets `[hidden] { display: none; }` but bootstrap.min.css set `[hidden] { display: none !important; }` so we also need the `!important` here to be able to override the default hidden behavior on the sphinx rendered scikit-learn.org. See: https://github.com/scikit-learn/scikit-learn/issues/21755 */display: inline-block !important;position: relative;}#sk-container-id-72 div.sk-text-repr-fallback {display: none;}</style><div id=\"sk-container-id-72\" class=\"sk-top-container\"><div class=\"sk-text-repr-fallback\"><pre>GradientBoostingRegressor(learning_rate=0.4, max_depth=5, min_samples_leaf=4,\n",
       "                          n_iter_no_change=6, random_state=42,\n",
       "                          validation_fraction=0.3)</pre><b>In a Jupyter environment, please rerun this cell to show the HTML representation or trust the notebook. <br />On GitHub, the HTML representation is unable to render, please try loading this page with nbviewer.org.</b></div><div class=\"sk-container\" hidden><div class=\"sk-item\"><div class=\"sk-estimator sk-toggleable\"><input class=\"sk-toggleable__control sk-hidden--visually\" id=\"sk-estimator-id-72\" type=\"checkbox\" checked><label for=\"sk-estimator-id-72\" class=\"sk-toggleable__label sk-toggleable__label-arrow\">GradientBoostingRegressor</label><div class=\"sk-toggleable__content\"><pre>GradientBoostingRegressor(learning_rate=0.4, max_depth=5, min_samples_leaf=4,\n",
       "                          n_iter_no_change=6, random_state=42,\n",
       "                          validation_fraction=0.3)</pre></div></div></div></div></div>"
      ],
      "text/plain": [
       "GradientBoostingRegressor(learning_rate=0.4, max_depth=5, min_samples_leaf=4,\n",
       "                          n_iter_no_change=6, random_state=42,\n",
       "                          validation_fraction=0.3)"
      ]
     },
     "execution_count": 543,
     "metadata": {},
     "output_type": "execute_result"
    }
   ],
   "source": [
    "#Fitting the model to nthe data\n",
    "gbr.fit(X_train, y_train)"
   ]
  },
  {
   "cell_type": "code",
   "execution_count": 544,
   "id": "4e2db7a1",
   "metadata": {},
   "outputs": [
    {
     "name": "stdout",
     "output_type": "stream",
     "text": [
      "CV Mean R²:  0.6583045684612003\n",
      "CV STD:  0.047143892404343114\n",
      "Mean Absolute Error (MAE):  0.009443484454156655\n",
      "Mean Squared Error (MSE):  0.0004905363538206281\n",
      "Root Mean Squared Error (RMSE):  0.02214805530561607\n",
      "R-squared (R²):  0.8380720011659071\n",
      "\n",
      "\n"
     ]
    }
   ],
   "source": [
    "# Calculate the mean values and Standard deviation\n",
    "get_cv_scores(gbr)"
   ]
  },
  {
   "cell_type": "code",
   "execution_count": 545,
   "id": "fb42609e",
   "metadata": {},
   "outputs": [
    {
     "name": "stdout",
     "output_type": "stream",
     "text": [
      "R² training set score: 0.8380720011659071\n",
      "R² testing set score: 0.7564383977235617\n"
     ]
    }
   ],
   "source": [
    "# Comparing training to testing results\n",
    "print(f'R² training set score: {gbr.score(X_train, y_train)}')\n",
    "print(f'R² testing set score: {gbr.score(X_test, y_test)}')"
   ]
  },
  {
   "cell_type": "code",
   "execution_count": 553,
   "id": "65914012",
   "metadata": {
    "scrolled": true
   },
   "outputs": [
    {
     "data": {
      "image/png": "[encoded data removed]",
      "text/plain": [
       "<Figure size 1000x600 with 1 Axes>"
      ]
     },
     "metadata": {},
     "output_type": "display_data"
    }
   ],
   "source": [
    "from sklearn.model_selection import learning_curve\n",
    "\n",
    "train_sizes, train_scores, test_scores = learning_curve(gbr, X, y, cv=5)\n",
    "\n",
    "plt.figure(figsize=(10, 6))\n",
    "plt.plot(train_sizes, np.mean(train_scores, axis=1), label='Training Score')\n",
    "plt.plot(train_sizes, np.mean(test_scores, axis=1), label='Cross-Validation Score')\n",
    "plt.xlabel('Training Set Size')\n",
    "plt.ylabel('R2 Score')\n",
    "plt.title('Learning Curves')\n",
    "plt.legend()\n",
    "plt.show()"
   ]
  },
  {
   "cell_type": "code",
   "execution_count": 552,
   "id": "d82308fb",
   "metadata": {},
   "outputs": [
    {
     "data": {
      "image/png": "[encoded data removed]",
      "text/plain": [
       "<Figure size 800x550 with 1 Axes>"
      ]
     },
     "metadata": {},
     "output_type": "display_data"
    }
   ],
   "source": [
    "from yellowbrick.model_selection import LearningCurve\n",
    "\n",
    "visualizer = LearningCurve(gbr, scoring='r2')\n",
    "\n",
    "visualizer.fit(X, y)        # Fit the data to the visualizer\n",
    "visualizer.show(); "
   ]
  },
  {
   "cell_type": "code",
   "execution_count": null,
   "id": "fa5d5412",
   "metadata": {},
   "outputs": [],
   "source": []
  }
 ],
 "metadata": {
  "kernelspec": {
   "display_name": "Python 3 (ipykernel)",
   "language": "python",
   "name": "python3"
  },
  "language_info": {
   "codemirror_mode": {
    "name": "ipython",
    "version": 3
   },
   "file_extension": ".py",
   "mimetype": "text/x-python",
   "name": "python",
   "nbconvert_exporter": "python",
   "pygments_lexer": "ipython3",
   "version": "3.11.4"
  }
 },
 "nbformat": 4,
 "nbformat_minor": 5
}
